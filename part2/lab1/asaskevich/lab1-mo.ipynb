{
 "cells": [
  {
   "cell_type": "code",
   "execution_count": 41,
   "metadata": {},
   "outputs": [],
   "source": [
    "import pandas as pd\n",
    "from PIL import Image\n",
    "import numpy as np\n",
    "import scipy.misc as smp\n",
    "import matplotlib.pyplot as plt\n",
    "from pylab import *\n",
    "\n",
    "from sklearn.model_selection import train_test_split\n",
    "from sklearn.linear_model import LogisticRegression, LogisticRegressionCV\n",
    "from sklearn.utils import shuffle as shfl\n",
    "from sklearn.model_selection import KFold"
   ]
  },
  {
   "cell_type": "code",
   "execution_count": 42,
   "metadata": {},
   "outputs": [],
   "source": [
    "import numpy, imageio, glob, sys, os, random\n",
    "\n",
    "def get_labels_and_files(folder):\n",
    "    filelists = []\n",
    "    for label in range(0,10):\n",
    "        filelist = []\n",
    "        filelists.append(filelist);\n",
    "        dirname = os.path.join(folder, chr(ord('A') + label))\n",
    "        for file in os.listdir(dirname):\n",
    "            if (file.endswith('.png')):\n",
    "                fullname = os.path.join(dirname, file)\n",
    "            if (os.path.getsize(fullname) > 0):\n",
    "                filelist.append(fullname)\n",
    "            else:\n",
    "                print('file ' + fullname + ' is empty')\n",
    "        filelist.sort()\n",
    "\n",
    "    labelsAndFiles = []\n",
    "    for label in range(0,10):\n",
    "        filelist = filelists[label]\n",
    "        for filename in filelist:\n",
    "            labelsAndFiles.append((label, filename))\n",
    "\n",
    "    return labelsAndFiles\n",
    "\n",
    "def make_arrays(labelsAndFiles):\n",
    "    images = []\n",
    "    labels = []\n",
    "    for i in range(0, len(labelsAndFiles)):\n",
    "        if (i % 100 == 0):\n",
    "            sys.stdout.write(\"\\r%d%% complete\" % ((i * 100)/len(labelsAndFiles)))\n",
    "            sys.stdout.flush()\n",
    "\n",
    "        filename = labelsAndFiles[i][1]\n",
    "        try:\n",
    "            image = imageio.imread(filename)\n",
    "            images.append(image)\n",
    "            labels.append(labelsAndFiles[i][0])\n",
    "        except:\n",
    "            # If this happens we won't have the requested number\n",
    "            print(\"\\nCan't read image file \" + filename)\n",
    "\n",
    "    count = len(images)\n",
    "    imagedata = numpy.zeros((count,28,28), dtype=numpy.uint8)\n",
    "    labeldata = numpy.zeros(count, dtype=numpy.uint8)\n",
    "    for i in range(0, count):\n",
    "        imagedata[i] = images[i]\n",
    "        labeldata[i] = labels[i]\n",
    "    print(\"\\n\")\n",
    "    return imagedata, labeldata\n",
    "\n",
    "def write_labeldata(labeldata, outputfile):\n",
    "    header = numpy.array([0x0801, len(labeldata)], dtype='>i4')\n",
    "    with open(outputfile, \"wb\") as f:\n",
    "        f.write(header.tobytes())\n",
    "        f.write(labeldata.tobytes())\n",
    "\n",
    "def write_imagedata(imagedata, outputfile):\n",
    "    header = numpy.array([0x0803, len(imagedata), 28, 28], dtype='>i4')\n",
    "    with open(outputfile, \"wb\") as f:\n",
    "        f.write(header.tobytes())\n",
    "        f.write(imagedata.tobytes())\n",
    "\n",
    "def load_data(dirname):\n",
    "    labelsAndFiles = get_labels_and_files(dirname)\n",
    "    random.shuffle(labelsAndFiles)\n",
    "    imagedata, labeldata = make_arrays(labelsAndFiles)\n",
    "    return (imagedata, labeldata)"
   ]
  },
  {
   "cell_type": "code",
   "execution_count": 43,
   "metadata": {},
   "outputs": [
    {
     "name": "stdout",
     "output_type": "stream",
     "text": [
      "file /Users/asaskevich/Downloads/notMNIST_large/A/Um9tYW5hIEJvbGQucGZi.png is empty\n",
      "file /Users/asaskevich/Downloads/notMNIST_large/A/SG90IE11c3RhcmQgQlROIFBvc3Rlci50dGY=.png is empty\n",
      "file /Users/asaskevich/Downloads/notMNIST_large/B/TmlraXNFRi1TZW1pQm9sZEl0YWxpYy5vdGY=.png is empty\n",
      "file /Users/asaskevich/Downloads/notMNIST_large/D/VHJhbnNpdCBCb2xkLnR0Zg==.png is empty\n",
      "63% complete\n",
      "Can't read image file /Users/asaskevich/Downloads/notMNIST_large/A/RnJlaWdodERpc3BCb29rSXRhbGljLnR0Zg==.png\n",
      "99% complete\n",
      "\n"
     ]
    }
   ],
   "source": [
    "X, Y = load_data('/Users/asaskevich/Downloads/notMNIST_large/')"
   ]
  },
  {
   "cell_type": "code",
   "execution_count": 44,
   "metadata": {},
   "outputs": [
    {
     "data": {
      "text/plain": [
       "0"
      ]
     },
     "execution_count": 44,
     "metadata": {},
     "output_type": "execute_result"
    }
   ],
   "source": [
    "Y[0]"
   ]
  },
  {
   "cell_type": "code",
   "execution_count": 45,
   "metadata": {},
   "outputs": [
    {
     "data": {
      "text/plain": [
       "array([[  0,   0,   0,   0,   0,   0,   0,   0,   0,   0,   3,   0,  72,\n",
       "        255, 255, 104,   0,   3,   0,   0,   0,   0,   0,   0,   0,   0,\n",
       "          0,   0],\n",
       "       [  0,   0,   0,   0,   0,   0,   0,   0,   0,   0,   2,   0, 177,\n",
       "        255, 255, 205,   5,   0,   1,   0,   0,   0,   0,   0,   0,   0,\n",
       "          0,   0],\n",
       "       [  0,   0,   0,   0,   0,   0,   0,   0,   0,   2,   0,  57, 255,\n",
       "        255, 252, 255,  85,   0,   3,   0,   0,   0,   0,   0,   0,   0,\n",
       "          0,   0],\n",
       "       [  0,   0,   0,   0,   0,   0,   0,   0,   0,   3,   0, 163, 255,\n",
       "        252, 252, 255, 191,   0,   1,   0,   0,   0,   0,   0,   0,   0,\n",
       "          0,   0],\n",
       "       [  0,   0,   0,   0,   0,   0,   0,   0,   2,   0,  43, 248, 255,\n",
       "        254, 254, 254, 255,  65,   0,   3,   0,   0,   0,   0,   0,   0,\n",
       "          0,   0],\n",
       "       [  0,   0,   0,   0,   0,   0,   0,   0,   3,   0, 147, 255, 251,\n",
       "        255, 255, 252, 255, 171,   0,   2,   0,   0,   0,   0,   0,   0,\n",
       "          0,   0],\n",
       "       [  0,   0,   0,   0,   0,   0,   0,   1,   0,  31, 239, 255, 254,\n",
       "        253, 251, 254, 255, 250,  47,   0,   2,   0,   0,   0,   0,   0,\n",
       "          0,   0],\n",
       "       [  0,   0,   0,   0,   0,   0,   0,   3,   0, 131, 255, 248, 255,\n",
       "        160, 150, 255, 249, 255, 150,   0,   3,   0,   0,   0,   0,   0,\n",
       "          0,   0],\n",
       "       [  0,   0,   0,   0,   0,   0,   1,   0,  20, 229, 255, 253, 255,\n",
       "         53,  40, 255, 254, 255, 238,  31,   0,   2,   0,   0,   0,   0,\n",
       "          0,   0],\n",
       "       [  0,   0,   0,   0,   0,   0,   3,   0, 112, 255, 249, 255, 183,\n",
       "          0,   0, 171, 255, 249, 255, 128,   0,   4,   0,   0,   0,   0,\n",
       "          0,   0],\n",
       "       [  0,   0,   0,   0,   0,   1,   0,  10, 214, 255, 251, 255,  87,\n",
       "          4,   6,  76, 255, 253, 255, 225,  16,   0,   1,   0,   0,   0,\n",
       "          0,   0],\n",
       "       [  0,   0,   0,   0,   0,   3,   0,  93, 255, 253, 254, 254, 243,\n",
       "        244, 244, 243, 253, 254, 252, 255, 106,   0,   4,   0,   0,   0,\n",
       "          0,   0],\n",
       "       [  0,   0,   0,   0,   1,   0,   0, 199, 255, 253, 253, 239, 240,\n",
       "        240, 240, 240, 240, 254, 253, 255, 210,   5,   0,   1,   0,   0,\n",
       "          0,   0],\n",
       "       [  0,   0,   0,   0,   3,   0,  74, 255, 252, 255, 206,  16,  13,\n",
       "         14,  14,  12,  19, 212, 255, 251, 255,  87,   0,   3,   0,   0,\n",
       "          0,   0],\n",
       "       [  0,   0,   0,   0,   2,   0, 182, 255, 249, 255,  99,   0,   4,\n",
       "          0,   0,   4,   0, 107, 255, 250, 255, 193,   0,   1,   0,   0,\n",
       "          0,   0],\n",
       "       [  0,   0,   0,   3,   0,  59, 255, 253, 255, 219,  11,   0,   2,\n",
       "          1,   1,   2,   0,  16, 224, 255, 252, 255,  69,   0,   3,   0,\n",
       "          0,   0],\n",
       "       [  0,   0,   0,   2,   0, 166, 255, 249, 255, 119,   0,   4,   0,\n",
       "          0,   0,   0,   4,   0, 126, 255, 249, 255, 176,   0,   2,   0,\n",
       "          0,   0],\n",
       "       [  0,   0,   2,   0,  45, 248, 255, 255, 233,  24,   0,   1,   0,\n",
       "          0,   0,   0,   2,   0,  27, 237, 255, 254, 252,  52,   0,   2,\n",
       "          0,   0],\n",
       "       [  0,   0,   3,   0, 151, 255, 248, 255, 140,   0,   3,   0,   0,\n",
       "          0,   0,   0,   0,   3,   0, 146, 255, 248, 255, 158,   0,   3,\n",
       "          0,   0],\n",
       "       [  0,   2,   0,  33, 240, 255, 255, 244,  39,   0,   2,   0,   0,\n",
       "          0,   0,   0,   0,   2,   0,  44, 248, 255, 255, 244,  37,   0,\n",
       "          2,   0],\n",
       "       [  0,   3,   0, 134, 255, 248, 255, 161,   0,   2,   0,   0,   0,\n",
       "          0,   0,   0,   0,   0,   2,   0, 167, 255, 248, 255, 138,   0,\n",
       "          3,   0],\n",
       "       [  1,   0,  23, 231, 255, 254, 255,  56,   0,   2,   0,   0,   0,\n",
       "          0,   0,   0,   0,   0,   3,   0,  62, 255, 254, 255, 233,  24,\n",
       "          0,   1],\n",
       "       [  3,   0, 118, 255, 248, 255, 181,   0,   1,   0,   0,   0,   0,\n",
       "          0,   0,   0,   0,   0,   0,   1,   0, 186, 255, 249, 255, 119,\n",
       "          0,   3],\n",
       "       [  0,  13, 221, 255, 251, 255,  75,   0,   3,   0,   0,   0,   0,\n",
       "          0,   0,   0,   0,   0,   0,   3,   0,  80, 255, 251, 255, 221,\n",
       "         13,   0],\n",
       "       [  0, 100, 255, 249, 255, 199,   1,   0,   1,   0,   0,   0,   0,\n",
       "          0,   0,   0,   0,   0,   0,   1,   0,   3, 205, 255, 250, 255,\n",
       "         98,   0],\n",
       "       [  4, 203, 255, 250, 255,  93,   0,   3,   0,   0,   0,   0,   0,\n",
       "          0,   0,   0,   0,   0,   0,   0,   3,   0, 100, 255, 250, 255,\n",
       "        201,   3],\n",
       "       [ 89, 255, 252, 255, 212,   9,   0,   1,   0,   0,   0,   0,   0,\n",
       "          0,   0,   0,   0,   0,   0,   0,   1,   0,  13, 218, 255, 252,\n",
       "        255,  85],\n",
       "       [198, 255, 250, 255, 113,   0,   3,   0,   0,   0,   0,   0,   0,\n",
       "          0,   0,   0,   0,   0,   0,   0,   0,   3,   0, 120, 255, 250,\n",
       "        255, 193]], dtype=uint8)"
      ]
     },
     "execution_count": 45,
     "metadata": {},
     "output_type": "execute_result"
    }
   ],
   "source": [
    "X[0]"
   ]
  },
  {
   "cell_type": "code",
   "execution_count": 46,
   "metadata": {},
   "outputs": [
    {
     "data": {
      "text/plain": [
       "(529114, 28, 28)"
      ]
     },
     "execution_count": 46,
     "metadata": {},
     "output_type": "execute_result"
    }
   ],
   "source": [
    "X.shape"
   ]
  },
  {
   "cell_type": "code",
   "execution_count": 47,
   "metadata": {},
   "outputs": [],
   "source": [
    "image_size = 28\n",
    "pixel_depth = 255"
   ]
  },
  {
   "cell_type": "code",
   "execution_count": 48,
   "metadata": {},
   "outputs": [
    {
     "data": {
      "image/png": "[encoded data removed]",
      "text/plain": [
       "<Figure size 72x72 with 1 Axes>"
      ]
     },
     "metadata": {
      "needs_background": "light"
     },
     "output_type": "display_data"
    },
    {
     "data": {
      "image/png": "[encoded data removed]",
      "text/plain": [
       "<Figure size 72x72 with 1 Axes>"
      ]
     },
     "metadata": {
      "needs_background": "light"
     },
     "output_type": "display_data"
    },
    {
     "data": {
      "image/png": "[encoded data removed]",
      "text/plain": [
       "<Figure size 72x72 with 1 Axes>"
      ]
     },
     "metadata": {
      "needs_background": "light"
     },
     "output_type": "display_data"
    },
    {
     "data": {
      "image/png": "[encoded data removed]",
      "text/plain": [
       "<Figure size 72x72 with 1 Axes>"
      ]
     },
     "metadata": {
      "needs_background": "light"
     },
     "output_type": "display_data"
    },
    {
     "data": {
      "image/png": "[encoded data removed]",
      "text/plain": [
       "<Figure size 72x72 with 1 Axes>"
      ]
     },
     "metadata": {
      "needs_background": "light"
     },
     "output_type": "display_data"
    }
   ],
   "source": [
    "for i in range(5):\n",
    "    img_mat = (X[np.random.choice(range(len(X)-1))]).reshape(image_size, image_size)\n",
    "    plt.figure(figsize=(1,1))\n",
    "    plt.imshow(img_mat, cmap='gray')\n",
    "    plt.show()"
   ]
  },
  {
   "cell_type": "code",
   "execution_count": 49,
   "metadata": {},
   "outputs": [
    {
     "data": {
      "text/plain": [
       "(array([52909., 52911., 52912., 52911., 52912., 52912., 52912., 52912.,\n",
       "        52912., 52911.]),\n",
       " array([0. , 0.9, 1.8, 2.7, 3.6, 4.5, 5.4, 6.3, 7.2, 8.1, 9. ]),\n",
       " <a list of 10 Patch objects>)"
      ]
     },
     "execution_count": 49,
     "metadata": {},
     "output_type": "execute_result"
    },
    {
     "data": {
      "image/png": "[encoded data removed]",
      "text/plain": [
       "<Figure size 432x288 with 1 Axes>"
      ]
     },
     "metadata": {
      "needs_background": "light"
     },
     "output_type": "display_data"
    }
   ],
   "source": [
    "plt.hist(Y)"
   ]
  },
  {
   "cell_type": "code",
   "execution_count": 50,
   "metadata": {},
   "outputs": [],
   "source": [
    "# https://github.com/AmmarRashed/notMNIST/blob/master/sklearn_lr.ipynb"
   ]
  },
  {
   "cell_type": "code",
   "execution_count": 51,
   "metadata": {},
   "outputs": [],
   "source": [
    "def data_split(X_full, Y_full, train_size, test_size, valid_size, random_state=42):\n",
    "    size = train_size + test_size + valid_size\n",
    "    print('Total size of dataset = %d, train = %d, test = %d, valid = %d' % (size, train_size, test_size, valid_size))\n",
    "    \n",
    "    X, y = X_full[:size], Y_full[:size]\n",
    "    \n",
    "    X_train, X_test, y_train, y_test = train_test_split(X, y, test_size=float(test_size + valid_size) / float(size), random_state=random_state)\n",
    "    X_val, X_test, y_val, y_test = train_test_split(X_test, y_test, test_size=float(test_size) / float(test_size + valid_size), random_state=random_state)\n",
    "    return X_train, y_train, X_val, y_val, X_test, y_test"
   ]
  },
  {
   "cell_type": "code",
   "execution_count": 156,
   "metadata": {},
   "outputs": [
    {
     "name": "stdout",
     "output_type": "stream",
     "text": [
      "Total size of dataset = 229000, train = 200000, test = 19000, valid = 10000\n"
     ]
    }
   ],
   "source": [
    "X_train, y_train, X_val, y_val, X_test, y_test = data_split(X, Y, 200000, 19000, 10000)"
   ]
  },
  {
   "cell_type": "code",
   "execution_count": 53,
   "metadata": {},
   "outputs": [
    {
     "data": {
      "text/plain": [
       "(200000, 28, 28)"
      ]
     },
     "execution_count": 53,
     "metadata": {},
     "output_type": "execute_result"
    }
   ],
   "source": [
    "X_train.shape"
   ]
  },
  {
   "cell_type": "code",
   "execution_count": 54,
   "metadata": {},
   "outputs": [
    {
     "data": {
      "text/plain": [
       "(19000, 28, 28)"
      ]
     },
     "execution_count": 54,
     "metadata": {},
     "output_type": "execute_result"
    }
   ],
   "source": [
    "X_test.shape"
   ]
  },
  {
   "cell_type": "code",
   "execution_count": 55,
   "metadata": {},
   "outputs": [
    {
     "data": {
      "text/plain": [
       "(10000, 28, 28)"
      ]
     },
     "execution_count": 55,
     "metadata": {},
     "output_type": "execute_result"
    }
   ],
   "source": [
    "X_val.shape"
   ]
  },
  {
   "cell_type": "code",
   "execution_count": 56,
   "metadata": {},
   "outputs": [
    {
     "data": {
      "text/plain": [
       "(array([20004., 20106., 20042., 19939., 19941., 20061., 19955., 19954.,\n",
       "        19960., 20038.]),\n",
       " array([0. , 0.9, 1.8, 2.7, 3.6, 4.5, 5.4, 6.3, 7.2, 8.1, 9. ]),\n",
       " <a list of 10 Patch objects>)"
      ]
     },
     "execution_count": 56,
     "metadata": {},
     "output_type": "execute_result"
    },
    {
     "data": {
      "image/png": "[encoded data removed]",
      "text/plain": [
       "<Figure size 432x288 with 1 Axes>"
      ]
     },
     "metadata": {
      "needs_background": "light"
     },
     "output_type": "display_data"
    }
   ],
   "source": [
    "plt.hist(y_train)"
   ]
  },
  {
   "cell_type": "code",
   "execution_count": 57,
   "metadata": {},
   "outputs": [
    {
     "data": {
      "text/plain": [
       "(array([1928., 1890., 1892., 1913., 1875., 1812., 1935., 1910., 1944.,\n",
       "        1901.]),\n",
       " array([0. , 0.9, 1.8, 2.7, 3.6, 4.5, 5.4, 6.3, 7.2, 8.1, 9. ]),\n",
       " <a list of 10 Patch objects>)"
      ]
     },
     "execution_count": 57,
     "metadata": {},
     "output_type": "execute_result"
    },
    {
     "data": {
      "image/png": "[encoded data removed]",
      "text/plain": [
       "<Figure size 432x288 with 1 Axes>"
      ]
     },
     "metadata": {
      "needs_background": "light"
     },
     "output_type": "display_data"
    }
   ],
   "source": [
    "plt.hist(y_test)"
   ]
  },
  {
   "cell_type": "code",
   "execution_count": 58,
   "metadata": {},
   "outputs": [
    {
     "data": {
      "text/plain": [
       "(array([1005., 1020., 1010., 1052.,  968., 1000.,  970.,  965., 1007.,\n",
       "        1003.]),\n",
       " array([0. , 0.9, 1.8, 2.7, 3.6, 4.5, 5.4, 6.3, 7.2, 8.1, 9. ]),\n",
       " <a list of 10 Patch objects>)"
      ]
     },
     "execution_count": 58,
     "metadata": {},
     "output_type": "execute_result"
    },
    {
     "data": {
      "image/png": "[encoded data removed]",
      "text/plain": [
       "<Figure size 432x288 with 1 Axes>"
      ]
     },
     "metadata": {
      "needs_background": "light"
     },
     "output_type": "display_data"
    }
   ],
   "source": [
    "plt.hist(y_val)"
   ]
  },
  {
   "cell_type": "code",
   "execution_count": 59,
   "metadata": {},
   "outputs": [],
   "source": [
    "def run_cv_logistic(X_full, Y_full, train_size, test_size, valid_size, random_state=42, **params):\n",
    "    size = train_size + test_size + valid_size\n",
    "    print('Total size of dataset = %d, train = %d, test = %d, valid = %d' % (size, train_size, test_size, valid_size))\n",
    "    \n",
    "    X, y = X_full[:size], Y_full[:size]\n",
    "    X_train, X_test, y_train, y_test = train_test_split(X, y, test_size=float(test_size) / float(size), random_state=random_state)\n",
    "    \n",
    "    nsamples, nx, ny = X_train.shape\n",
    "    X_train = X_train.reshape((nsamples, nx * ny))\n",
    "    \n",
    "    nsamples, nx, ny = X_test.shape\n",
    "    X_test = X_test.reshape((nsamples, nx * ny))\n",
    "    \n",
    "    plt.title('Train and Test distribution')\n",
    "    plt.subplot(2, 1, 1)\n",
    "    plt.xlabel('Output')\n",
    "    plt.ylabel('N')\n",
    "    plt.hist(y_train, label='Train')\n",
    "    plt.legend()\n",
    "    plt.subplot(2, 1, 2)\n",
    "    plt.xlabel('Output')\n",
    "    plt.ylabel('N')\n",
    "    plt.hist(y_test, label='Test')\n",
    "    plt.legend()\n",
    "    plt.show()\n",
    "    \n",
    "    kf = KFold(n_splits=int(train_size + valid_size) / int(valid_size))\n",
    "    clf = LogisticRegressionCV(cv=kf, random_state=random_state, multi_class='multinomial', **params).fit(X_train, y_train)\n",
    "    \n",
    "    return clf.scores_, clf.score(X_test, y_test)"
   ]
  },
  {
   "cell_type": "code",
   "execution_count": 60,
   "metadata": {},
   "outputs": [
    {
     "name": "stdout",
     "output_type": "stream",
     "text": [
      "Total size of dataset = 2290, train = 2000, test = 190, valid = 100\n"
     ]
    },
    {
     "data": {
      "image/png": "[encoded data removed]",
      "text/plain": [
       "<Figure size 432x288 with 2 Axes>"
      ]
     },
     "metadata": {
      "needs_background": "light"
     },
     "output_type": "display_data"
    }
   ],
   "source": [
    "val_scores, test_score = run_cv_logistic(X, Y, 2000, 190, 100, max_iter=10)"
   ]
  },
  {
   "cell_type": "code",
   "execution_count": 61,
   "metadata": {},
   "outputs": [
    {
     "name": "stdout",
     "output_type": "stream",
     "text": [
      "Validation score = 0.890, test score = 0.768\n"
     ]
    }
   ],
   "source": [
    "print('Validation score = %.3f, test score = %.3f' % (np.max(val_scores.values()), test_score))"
   ]
  },
  {
   "cell_type": "code",
   "execution_count": 62,
   "metadata": {},
   "outputs": [
    {
     "name": "stdout",
     "output_type": "stream",
     "text": [
      "Total size of dataset = 21100, train = 2000, test = 19000, valid = 100\n"
     ]
    },
    {
     "data": {
      "image/png": "[encoded data removed]",
      "text/plain": [
       "<Figure size 432x288 with 2 Axes>"
      ]
     },
     "metadata": {
      "needs_background": "light"
     },
     "output_type": "display_data"
    }
   ],
   "source": [
    "val_scores, test_score = run_cv_logistic(X, Y, 2000, 19000, 100, max_iter=10)"
   ]
  },
  {
   "cell_type": "code",
   "execution_count": 63,
   "metadata": {},
   "outputs": [
    {
     "name": "stdout",
     "output_type": "stream",
     "text": [
      "Validation score = 0.870, test score = 0.806\n"
     ]
    }
   ],
   "source": [
    "print('Validation score = %.3f, test score = %.3f' % (np.max(val_scores.values()), test_score))"
   ]
  },
  {
   "cell_type": "code",
   "execution_count": 64,
   "metadata": {},
   "outputs": [
    {
     "name": "stdout",
     "output_type": "stream",
     "text": [
      "Total size of dataset = 40000, train = 20000, test = 19000, valid = 1000\n"
     ]
    },
    {
     "data": {
      "image/png": "[encoded data removed]",
      "text/plain": [
       "<Figure size 432x288 with 2 Axes>"
      ]
     },
     "metadata": {
      "needs_background": "light"
     },
     "output_type": "display_data"
    }
   ],
   "source": [
    "val_scores, test_score = run_cv_logistic(X, Y, 20000, 19000, 1000, max_iter=10)"
   ]
  },
  {
   "cell_type": "code",
   "execution_count": 65,
   "metadata": {},
   "outputs": [
    {
     "name": "stdout",
     "output_type": "stream",
     "text": [
      "Validation score = 0.859, test score = 0.825\n"
     ]
    }
   ],
   "source": [
    "print('Validation score = %.3f, test score = %.3f' % (np.max(val_scores.values()), test_score))"
   ]
  },
  {
   "cell_type": "code",
   "execution_count": 66,
   "metadata": {},
   "outputs": [],
   "source": [
    "train_sizes, val_scores, test_scores = list(), list(), list()"
   ]
  },
  {
   "cell_type": "code",
   "execution_count": 67,
   "metadata": {
    "scrolled": false
   },
   "outputs": [
    {
     "name": "stdout",
     "output_type": "stream",
     "text": [
      "Train size = 50\n",
      "Total size of dataset = 19052, train = 50, test = 19000, valid = 2\n"
     ]
    },
    {
     "data": {
      "image/png": "[encoded data removed]",
      "text/plain": [
       "<Figure size 432x288 with 2 Axes>"
      ]
     },
     "metadata": {
      "needs_background": "light"
     },
     "output_type": "display_data"
    },
    {
     "name": "stdout",
     "output_type": "stream",
     "text": [
      "Scores: Test = 0.57, CV = 1.00\n",
      "------------------\n",
      "Train size = 100\n",
      "Total size of dataset = 19105, train = 100, test = 19000, valid = 5\n"
     ]
    },
    {
     "data": {
      "image/png": "[encoded data removed]",
      "text/plain": [
       "<Figure size 432x288 with 2 Axes>"
      ]
     },
     "metadata": {
      "needs_background": "light"
     },
     "output_type": "display_data"
    },
    {
     "name": "stdout",
     "output_type": "stream",
     "text": [
      "Scores: Test = 0.66, CV = 1.00\n",
      "------------------\n",
      "Train size = 500\n",
      "Total size of dataset = 19525, train = 500, test = 19000, valid = 25\n"
     ]
    },
    {
     "data": {
      "image/png": "[encoded data removed]",
      "text/plain": [
       "<Figure size 432x288 with 2 Axes>"
      ]
     },
     "metadata": {
      "needs_background": "light"
     },
     "output_type": "display_data"
    },
    {
     "name": "stdout",
     "output_type": "stream",
     "text": [
      "Scores: Test = 0.75, CV = 0.88\n",
      "------------------\n",
      "Train size = 1000\n",
      "Total size of dataset = 20050, train = 1000, test = 19000, valid = 50\n"
     ]
    },
    {
     "data": {
      "image/png": "[encoded data removed]",
      "text/plain": [
       "<Figure size 432x288 with 2 Axes>"
      ]
     },
     "metadata": {
      "needs_background": "light"
     },
     "output_type": "display_data"
    },
    {
     "name": "stdout",
     "output_type": "stream",
     "text": [
      "Scores: Test = 0.77, CV = 0.86\n",
      "------------------\n",
      "Train size = 5000\n",
      "Total size of dataset = 24250, train = 5000, test = 19000, valid = 250\n"
     ]
    },
    {
     "data": {
      "image/png": "[encoded data removed]",
      "text/plain": [
       "<Figure size 432x288 with 2 Axes>"
      ]
     },
     "metadata": {
      "needs_background": "light"
     },
     "output_type": "display_data"
    },
    {
     "name": "stdout",
     "output_type": "stream",
     "text": [
      "Scores: Test = 0.79, CV = 0.83\n",
      "------------------\n",
      "Train size = 10000\n",
      "Total size of dataset = 29500, train = 10000, test = 19000, valid = 500\n"
     ]
    },
    {
     "data": {
      "image/png": "[encoded data removed]",
      "text/plain": [
       "<Figure size 432x288 with 2 Axes>"
      ]
     },
     "metadata": {
      "needs_background": "light"
     },
     "output_type": "display_data"
    },
    {
     "name": "stdout",
     "output_type": "stream",
     "text": [
      "Scores: Test = 0.80, CV = 0.84\n",
      "------------------\n",
      "Train size = 50000\n",
      "Total size of dataset = 71500, train = 50000, test = 19000, valid = 2500\n"
     ]
    },
    {
     "data": {
      "image/png": "[encoded data removed]",
      "text/plain": [
       "<Figure size 432x288 with 2 Axes>"
      ]
     },
     "metadata": {
      "needs_background": "light"
     },
     "output_type": "display_data"
    },
    {
     "name": "stdout",
     "output_type": "stream",
     "text": [
      "Scores: Test = 0.82, CV = 0.83\n",
      "------------------\n",
      "Train size = 100000\n",
      "Total size of dataset = 124000, train = 100000, test = 19000, valid = 5000\n"
     ]
    },
    {
     "data": {
      "image/png": "[encoded data removed]",
      "text/plain": [
       "<Figure size 432x288 with 2 Axes>"
      ]
     },
     "metadata": {
      "needs_background": "light"
     },
     "output_type": "display_data"
    },
    {
     "name": "stdout",
     "output_type": "stream",
     "text": [
      "Scores: Test = 0.83, CV = 0.84\n",
      "------------------\n"
     ]
    },
    {
     "data": {
      "image/png": "[encoded data removed]",
      "text/plain": [
       "<Figure size 432x288 with 1 Axes>"
      ]
     },
     "metadata": {
      "needs_background": "light"
     },
     "output_type": "display_data"
    }
   ],
   "source": [
    "for train_size in [50, 100, 500, 1000, 5000, 10000, 50000, 100000]:\n",
    "    print('Train size = %d' % train_size)\n",
    "    val_score, test_score = run_cv_logistic(X, Y, train_size, 19000, int(train_size / 20.0), max_iter=20, solver='sag', n_jobs=-1)\n",
    "    train_sizes.append(train_size)\n",
    "    val_scores.append(np.max(val_score.values()))\n",
    "    test_scores.append(test_score)\n",
    "    print('Scores: Test = %.2f, CV = %.2f' % (test_score, np.max(val_score.values())))\n",
    "    print('------------------')\n",
    "    \n",
    "plt.title('Validation and Test scores for N train samples')\n",
    "plt.xlabel('N')\n",
    "plt.ylabel('Score')\n",
    "plt.plot(train_sizes, val_scores, color='green', label='CV')\n",
    "plt.plot(train_sizes, test_scores, color='red', label='Test')\n",
    "plt.legend()\n",
    "plt.show()"
   ]
  },
  {
   "cell_type": "code",
   "execution_count": 68,
   "metadata": {},
   "outputs": [
    {
     "data": {
      "text/plain": [
       "[0.5735789473684211,\n",
       " 0.662,\n",
       " 0.7531052631578947,\n",
       " 0.771578947368421,\n",
       " 0.794,\n",
       " 0.8004210526315789,\n",
       " 0.8192631578947368,\n",
       " 0.8265789473684211]"
      ]
     },
     "execution_count": 68,
     "metadata": {},
     "output_type": "execute_result"
    }
   ],
   "source": [
    "test_scores"
   ]
  },
  {
   "cell_type": "code",
   "execution_count": 69,
   "metadata": {},
   "outputs": [
    {
     "data": {
      "text/plain": [
       "[1.0, 1.0, 0.88, 0.86, 0.832, 0.836, 0.8312, 0.8394]"
      ]
     },
     "execution_count": 69,
     "metadata": {},
     "output_type": "execute_result"
    }
   ],
   "source": [
    "val_scores"
   ]
  },
  {
   "cell_type": "code",
   "execution_count": 70,
   "metadata": {},
   "outputs": [],
   "source": [
    "import tensorflow as tf\n",
    "from tensorflow import keras"
   ]
  },
  {
   "cell_type": "code",
   "execution_count": 157,
   "metadata": {},
   "outputs": [],
   "source": [
    "model = keras.Sequential([\n",
    "    keras.layers.Flatten(input_shape=(image_size, image_size)),\n",
    "    keras.layers.Dense(128, activation=tf.nn.relu),\n",
    "    keras.layers.Dense(10, activation=tf.nn.softmax)\n",
    "])"
   ]
  },
  {
   "cell_type": "code",
   "execution_count": 158,
   "metadata": {},
   "outputs": [],
   "source": [
    "model.compile(optimizer=tf.train.GradientDescentOptimizer(learning_rate=0.01), \n",
    "              loss='sparse_categorical_crossentropy',\n",
    "              metrics=['accuracy'])"
   ]
  },
  {
   "cell_type": "code",
   "execution_count": 159,
   "metadata": {},
   "outputs": [],
   "source": [
    "X_train = X_train / 255.0"
   ]
  },
  {
   "cell_type": "code",
   "execution_count": 160,
   "metadata": {},
   "outputs": [],
   "source": [
    "X_test = X_test / 255.0"
   ]
  },
  {
   "cell_type": "code",
   "execution_count": 161,
   "metadata": {},
   "outputs": [
    {
     "name": "stdout",
     "output_type": "stream",
     "text": [
      "Epoch 1/15\n",
      "200000/200000 [==============================] - 20s 98us/step - loss: 0.6479 - acc: 0.8238\n",
      "Epoch 2/15\n",
      "200000/200000 [==============================] - 20s 99us/step - loss: 0.5235 - acc: 0.8507\n",
      "Epoch 3/15\n",
      "200000/200000 [==============================] - 21s 106us/step - loss: 0.4795 - acc: 0.8609\n",
      "Epoch 4/15\n",
      "200000/200000 [==============================] - 19s 94us/step - loss: 0.4512 - acc: 0.8689\n",
      "Epoch 5/15\n",
      "200000/200000 [==============================] - 20s 101us/step - loss: 0.4301 - acc: 0.8744\n",
      "Epoch 6/15\n",
      "200000/200000 [==============================] - 19s 94us/step - loss: 0.4135 - acc: 0.8793\n",
      "Epoch 7/15\n",
      "200000/200000 [==============================] - 19s 97us/step - loss: 0.3997 - acc: 0.8833\n",
      "Epoch 8/15\n",
      "200000/200000 [==============================] - 19s 96us/step - loss: 0.3880 - acc: 0.8867\n",
      "Epoch 9/15\n",
      "200000/200000 [==============================] - 25s 125us/step - loss: 0.3778 - acc: 0.8894\n",
      "Epoch 10/15\n",
      "200000/200000 [==============================] - 18s 91us/step - loss: 0.3690 - acc: 0.8925\n",
      "Epoch 11/15\n",
      "200000/200000 [==============================] - 25s 123us/step - loss: 0.3609 - acc: 0.8946\n",
      "Epoch 12/15\n",
      "200000/200000 [==============================] - 22s 111us/step - loss: 0.3537 - acc: 0.8967\n",
      "Epoch 13/15\n",
      "200000/200000 [==============================] - 24s 119us/step - loss: 0.3472 - acc: 0.8985\n",
      "Epoch 14/15\n",
      "200000/200000 [==============================] - 31s 157us/step - loss: 0.3412 - acc: 0.9005\n",
      "Epoch 15/15\n",
      "200000/200000 [==============================] - 21s 105us/step - loss: 0.3355 - acc: 0.9018\n"
     ]
    },
    {
     "data": {
      "text/plain": [
       "<tensorflow.python.keras.callbacks.History at 0x1207fd3d0>"
      ]
     },
     "execution_count": 161,
     "metadata": {},
     "output_type": "execute_result"
    }
   ],
   "source": [
    "model.fit(X_train, y_train, epochs=15)"
   ]
  },
  {
   "cell_type": "code",
   "execution_count": 162,
   "metadata": {},
   "outputs": [
    {
     "name": "stdout",
     "output_type": "stream",
     "text": [
      "19000/19000 [==============================] - 2s 96us/step\n",
      "('Test accuracy:', 0.8925263157894737)\n"
     ]
    }
   ],
   "source": [
    "test_loss, test_acc = model.evaluate(X_test, y_test)\n",
    "\n",
    "print('Test accuracy:', test_acc)"
   ]
  },
  {
   "cell_type": "code",
   "execution_count": 163,
   "metadata": {},
   "outputs": [],
   "source": [
    "class StandardNN:\n",
    "    def __init__(self, hidden_layers_sizes=[], hidden_layers_activations=[], optimizer=tf.train.GradientDescentOptimizer(learning_rate=0.01)):\n",
    "        self.hidden_layers_sizes = hidden_layers_sizes\n",
    "        self.hidden_layers_activations = hidden_layers_activations\n",
    "        self.optimizer = optimizer\n",
    "        \n",
    "        if len(self.hidden_layers_sizes) != len(self.hidden_layers_activations):\n",
    "            raise Exception('Layer sizes must be equal!')\n",
    "        \n",
    "    def build(self):\n",
    "        model = keras.Sequential()\n",
    "        model.add(keras.layers.Flatten(input_shape=(image_size, image_size)))\n",
    "        \n",
    "        for i in range(len(self.hidden_layers_sizes)):\n",
    "            model.add(keras.layers.Dense(self.hidden_layers_sizes[i], activation=self.hidden_layers_activations[i]))\n",
    "        \n",
    "        model.add(keras.layers.Dense(10, activation=tf.nn.softmax))\n",
    "        model.compile(optimizer=self.optimizer, \n",
    "              loss='sparse_categorical_crossentropy',\n",
    "              metrics=['accuracy'])\n",
    "        \n",
    "        self.model = model\n",
    "        \n",
    "        return self\n",
    "        \n",
    "    def fit(self, x, y, epochs=15):\n",
    "        self.model.fit(x, y, epochs=epochs)\n",
    "        \n",
    "        return self\n",
    "    \n",
    "    def score(self, x, y):\n",
    "        test_loss, test_acc = self.model.evaluate(X_test, y_test)\n",
    "        \n",
    "        return test_acc"
   ]
  },
  {
   "cell_type": "code",
   "execution_count": 164,
   "metadata": {},
   "outputs": [
    {
     "name": "stdout",
     "output_type": "stream",
     "text": [
      "Epoch 1/15\n",
      "200000/200000 [==============================] - 26s 130us/step - loss: 0.6472 - acc: 0.8225\n",
      "Epoch 2/15\n",
      "200000/200000 [==============================] - 28s 138us/step - loss: 0.5198 - acc: 0.8514\n",
      "Epoch 3/15\n",
      "200000/200000 [==============================] - 25s 123us/step - loss: 0.4762 - acc: 0.8624\n",
      "Epoch 4/15\n",
      "200000/200000 [==============================] - 27s 136us/step - loss: 0.4482 - acc: 0.8698\n",
      "Epoch 5/15\n",
      "200000/200000 [==============================] - 23s 116us/step - loss: 0.4269 - acc: 0.8757\n",
      "Epoch 6/15\n",
      "200000/200000 [==============================] - 23s 113us/step - loss: 0.4103 - acc: 0.8799\n",
      "Epoch 7/15\n",
      "200000/200000 [==============================] - 23s 113us/step - loss: 0.3970 - acc: 0.8839\n",
      "Epoch 8/15\n",
      "200000/200000 [==============================] - 25s 126us/step - loss: 0.3854 - acc: 0.8874\n",
      "Epoch 9/15\n",
      "200000/200000 [==============================] - 31s 155us/step - loss: 0.3757 - acc: 0.8904\n",
      "Epoch 10/15\n",
      "200000/200000 [==============================] - 32s 159us/step - loss: 0.3667 - acc: 0.8929\n",
      "Epoch 11/15\n",
      "200000/200000 [==============================] - 28s 140us/step - loss: 0.3595 - acc: 0.8950\n",
      "Epoch 12/15\n",
      "200000/200000 [==============================] - 22s 110us/step - loss: 0.3522 - acc: 0.8972\n",
      "Epoch 13/15\n",
      "200000/200000 [==============================] - 22s 111us/step - loss: 0.3459 - acc: 0.8988\n",
      "Epoch 14/15\n",
      "200000/200000 [==============================] - 24s 122us/step - loss: 0.3398 - acc: 0.9003\n",
      "Epoch 15/15\n",
      "200000/200000 [==============================] - 27s 134us/step - loss: 0.3345 - acc: 0.9023\n",
      "19000/19000 [==============================] - 2s 97us/step\n"
     ]
    },
    {
     "data": {
      "text/plain": [
       "0.8902105263408862"
      ]
     },
     "execution_count": 164,
     "metadata": {},
     "output_type": "execute_result"
    }
   ],
   "source": [
    "nn0 = StandardNN(hidden_layers_sizes=[128], hidden_layers_activations=[tf.nn.relu])\n",
    "\n",
    "nn0.build().fit(X_train, y_train).score(X_test, y_test)"
   ]
  },
  {
   "cell_type": "code",
   "execution_count": 165,
   "metadata": {},
   "outputs": [
    {
     "name": "stdout",
     "output_type": "stream",
     "text": [
      "Epoch 1/15\n",
      "200000/200000 [==============================] - 25s 124us/step - loss: 0.8078 - acc: 0.7771\n",
      "Epoch 2/15\n",
      "200000/200000 [==============================] - 24s 118us/step - loss: 0.5333 - acc: 0.8452\n",
      "Epoch 3/15\n",
      "200000/200000 [==============================] - 26s 129us/step - loss: 0.4876 - acc: 0.8555\n",
      "Epoch 4/15\n",
      "200000/200000 [==============================] - 22s 112us/step - loss: 0.4581 - acc: 0.8629\n",
      "Epoch 5/15\n",
      "200000/200000 [==============================] - 22s 109us/step - loss: 0.4354 - acc: 0.8690\n",
      "Epoch 6/15\n",
      "200000/200000 [==============================] - 23s 115us/step - loss: 0.4171 - acc: 0.8739\n",
      "Epoch 7/15\n",
      "200000/200000 [==============================] - 26s 129us/step - loss: 0.4023 - acc: 0.8780\n",
      "Epoch 8/15\n",
      "200000/200000 [==============================] - 23s 115us/step - loss: 0.3906 - acc: 0.88131s - \n",
      "Epoch 9/15\n",
      "200000/200000 [==============================] - 23s 117us/step - loss: 0.3796 - acc: 0.8848\n",
      "Epoch 10/15\n",
      "200000/200000 [==============================] - 26s 129us/step - loss: 0.3707 - acc: 0.8869\n",
      "Epoch 11/15\n",
      "200000/200000 [==============================] - 27s 133us/step - loss: 0.3624 - acc: 0.8895\n",
      "Epoch 12/15\n",
      "200000/200000 [==============================] - 28s 138us/step - loss: 0.3548 - acc: 0.8918\n",
      "Epoch 13/15\n",
      "200000/200000 [==============================] - 26s 131us/step - loss: 0.3484 - acc: 0.8930\n",
      "Epoch 14/15\n",
      "200000/200000 [==============================] - 23s 113us/step - loss: 0.3424 - acc: 0.8951\n",
      "Epoch 15/15\n",
      "200000/200000 [==============================] - 21s 105us/step - loss: 0.3370 - acc: 0.8966\n",
      "19000/19000 [==============================] - 2s 90us/step\n"
     ]
    },
    {
     "data": {
      "text/plain": [
       "0.8906315789222717"
      ]
     },
     "execution_count": 165,
     "metadata": {},
     "output_type": "execute_result"
    }
   ],
   "source": [
    "nn2 = StandardNN(hidden_layers_sizes=[64, 128, 256, 128], hidden_layers_activations=[tf.nn.relu, tf.nn.sigmoid, tf.nn.tanh, tf.nn.relu])\n",
    "\n",
    "nn2.build().fit(X_train, y_train).score(X_test, y_test)"
   ]
  },
  {
   "cell_type": "code",
   "execution_count": 166,
   "metadata": {},
   "outputs": [
    {
     "name": "stdout",
     "output_type": "stream",
     "text": [
      "Epoch 1/15\n",
      "200000/200000 [==============================] - 20s 100us/step - loss: 0.6812 - acc: 0.8004\n",
      "Epoch 2/15\n",
      "200000/200000 [==============================] - 18s 89us/step - loss: 0.4923 - acc: 0.8522\n",
      "Epoch 3/15\n",
      "200000/200000 [==============================] - 21s 106us/step - loss: 0.4491 - acc: 0.8645\n",
      "Epoch 4/15\n",
      "200000/200000 [==============================] - 27s 134us/step - loss: 0.4200 - acc: 0.8721\n",
      "Epoch 5/15\n",
      "200000/200000 [==============================] - 24s 120us/step - loss: 0.3988 - acc: 0.8783\n",
      "Epoch 6/15\n",
      "200000/200000 [==============================] - 21s 105us/step - loss: 0.3809 - acc: 0.8843\n",
      "Epoch 7/15\n",
      "200000/200000 [==============================] - 23s 114us/step - loss: 0.3672 - acc: 0.8881\n",
      "Epoch 8/15\n",
      "200000/200000 [==============================] - 18s 89us/step - loss: 0.3556 - acc: 0.8919\n",
      "Epoch 9/15\n",
      "200000/200000 [==============================] - 18s 91us/step - loss: 0.3455 - acc: 0.8952\n",
      "Epoch 10/15\n",
      "200000/200000 [==============================] - 22s 110us/step - loss: 0.3363 - acc: 0.8972\n",
      "Epoch 11/15\n",
      "200000/200000 [==============================] - 19s 97us/step - loss: 0.3287 - acc: 0.8996\n",
      "Epoch 12/15\n",
      "200000/200000 [==============================] - 19s 94us/step - loss: 0.3219 - acc: 0.9014\n",
      "Epoch 13/15\n",
      "200000/200000 [==============================] - 20s 102us/step - loss: 0.3151 - acc: 0.9034\n",
      "Epoch 14/15\n",
      "200000/200000 [==============================] - 21s 107us/step - loss: 0.3089 - acc: 0.9054\n",
      "Epoch 15/15\n",
      "200000/200000 [==============================] - 23s 115us/step - loss: 0.3033 - acc: 0.9067\n",
      "19000/19000 [==============================] - 2s 106us/step\n"
     ]
    },
    {
     "data": {
      "text/plain": [
       "0.8913684210275349"
      ]
     },
     "execution_count": 166,
     "metadata": {},
     "output_type": "execute_result"
    }
   ],
   "source": [
    "nn3 = StandardNN(hidden_layers_sizes=[64, 128, 64, 32], hidden_layers_activations=[tf.nn.relu, tf.nn.relu, tf.nn.relu, tf.nn.relu])\n",
    "\n",
    "nn3.build().fit(X_train, y_train).score(X_test, y_test)"
   ]
  },
  {
   "cell_type": "code",
   "execution_count": 167,
   "metadata": {},
   "outputs": [
    {
     "name": "stdout",
     "output_type": "stream",
     "text": [
      "Epoch 1/15\n",
      "200000/200000 [==============================] - 33s 165us/step - loss: 0.6075 - acc: 0.8291\n",
      "Epoch 2/15\n",
      "200000/200000 [==============================] - 51s 254us/step - loss: 0.4798 - acc: 0.8586\n",
      "Epoch 3/15\n",
      "200000/200000 [==============================] - 50s 248us/step - loss: 0.4382 - acc: 0.8696\n",
      "Epoch 4/15\n",
      "200000/200000 [==============================] - 35s 177us/step - loss: 0.4094 - acc: 0.8777\n",
      "Epoch 5/15\n",
      "200000/200000 [==============================] - 29s 144us/step - loss: 0.3868 - acc: 0.8847\n",
      "Epoch 6/15\n",
      "200000/200000 [==============================] - 27s 136us/step - loss: 0.3682 - acc: 0.8903\n",
      "Epoch 7/15\n",
      "200000/200000 [==============================] - 27s 137us/step - loss: 0.3525 - acc: 0.8943\n",
      "Epoch 8/15\n",
      "200000/200000 [==============================] - 28s 140us/step - loss: 0.3387 - acc: 0.8987\n",
      "Epoch 9/15\n",
      "200000/200000 [==============================] - 36s 182us/step - loss: 0.3263 - acc: 0.9025\n",
      "Epoch 10/15\n",
      "200000/200000 [==============================] - 30s 152us/step - loss: 0.3152 - acc: 0.9058\n",
      "Epoch 11/15\n",
      "200000/200000 [==============================] - 28s 142us/step - loss: 0.3052 - acc: 0.9088\n",
      "Epoch 12/15\n",
      "200000/200000 [==============================] - 27s 137us/step - loss: 0.2960 - acc: 0.9114\n",
      "Epoch 13/15\n",
      "200000/200000 [==============================] - 39s 194us/step - loss: 0.2873 - acc: 0.9140\n",
      "Epoch 14/15\n",
      "200000/200000 [==============================] - 77s 387us/step - loss: 0.2791 - acc: 0.9163\n",
      "Epoch 15/15\n",
      "200000/200000 [==============================] - 61s 303us/step - loss: 0.2716 - acc: 0.9184\n",
      "19000/19000 [==============================] - 8s 405us/step\n"
     ]
    },
    {
     "data": {
      "text/plain": [
       "0.901684210501219"
      ]
     },
     "execution_count": 167,
     "metadata": {},
     "output_type": "execute_result"
    }
   ],
   "source": [
    "nn3 = StandardNN(hidden_layers_sizes=[256, 256], hidden_layers_activations=[tf.nn.tanh, tf.nn.relu])\n",
    "\n",
    "nn3.build().fit(X_train, y_train).score(X_test, y_test)"
   ]
  },
  {
   "cell_type": "code",
   "execution_count": 168,
   "metadata": {},
   "outputs": [
    {
     "name": "stdout",
     "output_type": "stream",
     "text": [
      "Epoch 1/15\n",
      "200000/200000 [==============================] - 68s 342us/step - loss: 0.5867 - acc: 0.8334\n",
      "Epoch 2/15\n",
      "200000/200000 [==============================] - 63s 317us/step - loss: 0.4621 - acc: 0.8610\n",
      "Epoch 3/15\n",
      "200000/200000 [==============================] - 51s 255us/step - loss: 0.4216 - acc: 0.8723\n",
      "Epoch 4/15\n",
      "200000/200000 [==============================] - 37s 186us/step - loss: 0.3938 - acc: 0.8806\n",
      "Epoch 5/15\n",
      "200000/200000 [==============================] - 47s 234us/step - loss: 0.3718 - acc: 0.8877\n",
      "Epoch 6/15\n",
      "200000/200000 [==============================] - 33s 166us/step - loss: 0.3540 - acc: 0.8927\n",
      "Epoch 7/15\n",
      "200000/200000 [==============================] - 40s 199us/step - loss: 0.3381 - acc: 0.8980\n",
      "Epoch 8/15\n",
      "200000/200000 [==============================] - 40s 202us/step - loss: 0.3251 - acc: 0.9014\n",
      "Epoch 9/15\n",
      "200000/200000 [==============================] - 25s 123us/step - loss: 0.3125 - acc: 0.9056\n",
      "Epoch 10/15\n",
      "200000/200000 [==============================] - 26s 132us/step - loss: 0.3016 - acc: 0.9081\n",
      "Epoch 11/15\n",
      "200000/200000 [==============================] - 24s 122us/step - loss: 0.2913 - acc: 0.9110\n",
      "Epoch 12/15\n",
      "200000/200000 [==============================] - 24s 122us/step - loss: 0.2814 - acc: 0.9141\n",
      "Epoch 13/15\n",
      "200000/200000 [==============================] - 26s 131us/step - loss: 0.2721 - acc: 0.9170\n",
      "Epoch 14/15\n",
      "200000/200000 [==============================] - 30s 149us/step - loss: 0.2638 - acc: 0.91941s -\n",
      "Epoch 15/15\n",
      "200000/200000 [==============================] - 25s 124us/step - loss: 0.2551 - acc: 0.9221\n",
      "19000/19000 [==============================] - 2s 128us/step\n"
     ]
    },
    {
     "data": {
      "text/plain": [
       "0.9026315789222717"
      ]
     },
     "execution_count": 168,
     "metadata": {},
     "output_type": "execute_result"
    }
   ],
   "source": [
    "nn4 = StandardNN(hidden_layers_sizes=[280, 280, 140], hidden_layers_activations=[tf.nn.tanh, tf.nn.tanh, tf.nn.relu])\n",
    "\n",
    "nn4.build().fit(X_train, y_train).score(X_test, y_test)"
   ]
  },
  {
   "cell_type": "code",
   "execution_count": 169,
   "metadata": {},
   "outputs": [
    {
     "name": "stdout",
     "output_type": "stream",
     "text": [
      "Epoch 1/15\n",
      "200000/200000 [==============================] - 26s 130us/step - loss: 0.6486 - acc: 0.8206\n",
      "Epoch 2/15\n",
      "200000/200000 [==============================] - 25s 126us/step - loss: 0.5061 - acc: 0.85091s - lo\n",
      "Epoch 3/15\n",
      "200000/200000 [==============================] - 25s 125us/step - loss: 0.4668 - acc: 0.8604\n",
      "Epoch 4/15\n",
      "200000/200000 [==============================] - 25s 126us/step - loss: 0.4411 - acc: 0.86751s \n",
      "Epoch 5/15\n",
      "200000/200000 [==============================] - 26s 132us/step - loss: 0.4209 - acc: 0.8730\n",
      "Epoch 6/15\n",
      "200000/200000 [==============================] - 35s 173us/step - loss: 0.4047 - acc: 0.8779\n",
      "Epoch 7/15\n",
      "200000/200000 [==============================] - 43s 214us/step - loss: 0.3904 - acc: 0.8823\n",
      "Epoch 8/15\n",
      "200000/200000 [==============================] - 28s 139us/step - loss: 0.3777 - acc: 0.8864\n",
      "Epoch 9/15\n",
      "200000/200000 [==============================] - 32s 160us/step - loss: 0.3664 - acc: 0.8894\n",
      "Epoch 10/15\n",
      "200000/200000 [==============================] - 28s 138us/step - loss: 0.3559 - acc: 0.8927\n",
      "Epoch 11/15\n",
      "200000/200000 [==============================] - 25s 127us/step - loss: 0.3464 - acc: 0.8958\n",
      "Epoch 12/15\n",
      "200000/200000 [==============================] - 25s 125us/step - loss: 0.3376 - acc: 0.8980\n",
      "Epoch 13/15\n",
      "200000/200000 [==============================] - 43s 214us/step - loss: 0.3288 - acc: 0.9005\n",
      "Epoch 14/15\n",
      "200000/200000 [==============================] - 35s 173us/step - loss: 0.3212 - acc: 0.9031\n",
      "Epoch 15/15\n",
      "200000/200000 [==============================] - 41s 206us/step - loss: 0.3136 - acc: 0.9053\n",
      "19000/19000 [==============================] - 2s 131us/step\n"
     ]
    },
    {
     "data": {
      "text/plain": [
       "0.892684210501219"
      ]
     },
     "execution_count": 169,
     "metadata": {},
     "output_type": "execute_result"
    }
   ],
   "source": [
    "optimizer = tf.train.GradientDescentOptimizer(learning_rate=0.005)\n",
    "layer_sizes = [280, 280, 140]\n",
    "layer_activations = [tf.nn.tanh, tf.nn.tanh, tf.nn.relu]\n",
    "\n",
    "nn5 = StandardNN(hidden_layers_sizes=layer_sizes, hidden_layers_activations=layer_activations, optimizer=optimizer)\n",
    "\n",
    "nn5.build().fit(X_train, y_train).score(X_test, y_test)"
   ]
  },
  {
   "cell_type": "code",
   "execution_count": 170,
   "metadata": {},
   "outputs": [
    {
     "name": "stdout",
     "output_type": "stream",
     "text": [
      "Epoch 1/15\n",
      "200000/200000 [==============================] - 26s 132us/step - loss: 0.5890 - acc: 0.8330\n",
      "Epoch 2/15\n",
      "200000/200000 [==============================] - 27s 133us/step - loss: 0.4630 - acc: 0.8613\n",
      "Epoch 3/15\n",
      "200000/200000 [==============================] - 27s 135us/step - loss: 0.4220 - acc: 0.8730\n",
      "Epoch 4/15\n",
      "200000/200000 [==============================] - 35s 175us/step - loss: 0.3935 - acc: 0.8812\n",
      "Epoch 5/15\n",
      "200000/200000 [==============================] - 40s 198us/step - loss: 0.3719 - acc: 0.8876\n",
      "Epoch 6/15\n",
      "200000/200000 [==============================] - 36s 181us/step - loss: 0.3539 - acc: 0.8925\n",
      "Epoch 7/15\n",
      "200000/200000 [==============================] - 37s 183us/step - loss: 0.3386 - acc: 0.8972\n",
      "Epoch 8/15\n",
      "200000/200000 [==============================] - 43s 216us/step - loss: 0.3248 - acc: 0.9013\n",
      "Epoch 9/15\n",
      "200000/200000 [==============================] - 38s 191us/step - loss: 0.3126 - acc: 0.9047\n",
      "Epoch 10/15\n",
      "200000/200000 [==============================] - 30s 149us/step - loss: 0.3011 - acc: 0.9079\n",
      "Epoch 11/15\n",
      "200000/200000 [==============================] - 33s 165us/step - loss: 0.2909 - acc: 0.9111\n",
      "Epoch 12/15\n",
      "200000/200000 [==============================] - 33s 166us/step - loss: 0.2808 - acc: 0.9141\n",
      "Epoch 13/15\n",
      "200000/200000 [==============================] - 35s 177us/step - loss: 0.2713 - acc: 0.9165\n",
      "Epoch 14/15\n",
      "200000/200000 [==============================] - 31s 157us/step - loss: 0.2624 - acc: 0.9196\n",
      "Epoch 15/15\n",
      "200000/200000 [==============================] - 37s 185us/step - loss: 0.2538 - acc: 0.9224\n",
      "19000/19000 [==============================] - 3s 184us/step\n"
     ]
    },
    {
     "data": {
      "text/plain": [
       "0.9014210526064823"
      ]
     },
     "execution_count": 170,
     "metadata": {},
     "output_type": "execute_result"
    }
   ],
   "source": [
    "optimizer = tf.keras.optimizers.SGD(lr=0.01)\n",
    "layer_sizes = [280, 280, 140]\n",
    "layer_activations = [tf.nn.tanh, tf.nn.tanh, tf.nn.relu]\n",
    "\n",
    "nn5 = StandardNN(hidden_layers_sizes=layer_sizes, hidden_layers_activations=layer_activations, optimizer=optimizer)\n",
    "\n",
    "nn5.build().fit(X_train, y_train).score(X_test, y_test)"
   ]
  },
  {
   "cell_type": "code",
   "execution_count": 171,
   "metadata": {},
   "outputs": [
    {
     "name": "stdout",
     "output_type": "stream",
     "text": [
      "Epoch 1/15\n",
      "200000/200000 [==============================] - 41s 205us/step - loss: 0.4914 - acc: 0.8511\n",
      "Epoch 2/15\n",
      "200000/200000 [==============================] - 40s 198us/step - loss: 0.4100 - acc: 0.8735\n",
      "Epoch 3/15\n",
      "200000/200000 [==============================] - 38s 190us/step - loss: 0.3834 - acc: 0.8809\n",
      "Epoch 4/15\n",
      "200000/200000 [==============================] - 30s 150us/step - loss: 0.3658 - acc: 0.8862\n",
      "Epoch 5/15\n",
      "200000/200000 [==============================] - 27s 137us/step - loss: 0.3531 - acc: 0.8894\n",
      "Epoch 6/15\n",
      "200000/200000 [==============================] - 31s 153us/step - loss: 0.3446 - acc: 0.8918\n",
      "Epoch 7/15\n",
      "200000/200000 [==============================] - 46s 229us/step - loss: 0.3343 - acc: 0.8948\n",
      "Epoch 8/15\n",
      "200000/200000 [==============================] - 41s 204us/step - loss: 0.3291 - acc: 0.8962\n",
      "Epoch 9/15\n",
      "200000/200000 [==============================] - 33s 165us/step - loss: 0.3262 - acc: 0.8971\n",
      "Epoch 10/15\n",
      "200000/200000 [==============================] - 42s 210us/step - loss: 0.3193 - acc: 0.8991\n",
      "Epoch 11/15\n",
      "200000/200000 [==============================] - 29s 146us/step - loss: 0.3134 - acc: 0.9007\n",
      "Epoch 12/15\n",
      "200000/200000 [==============================] - 39s 196us/step - loss: 0.3101 - acc: 0.9023\n",
      "Epoch 13/15\n",
      "200000/200000 [==============================] - 43s 215us/step - loss: 0.3058 - acc: 0.9030\n",
      "Epoch 14/15\n",
      "200000/200000 [==============================] - 36s 179us/step - loss: 0.3052 - acc: 0.9032\n",
      "Epoch 15/15\n",
      "200000/200000 [==============================] - 38s 192us/step - loss: 0.3005 - acc: 0.9044\n",
      "19000/19000 [==============================] - 3s 150us/step\n"
     ]
    },
    {
     "data": {
      "text/plain": [
       "0.8889473684210526"
      ]
     },
     "execution_count": 171,
     "metadata": {},
     "output_type": "execute_result"
    }
   ],
   "source": [
    "optimizer = tf.train.AdamOptimizer()\n",
    "layer_sizes = [280, 280, 140]\n",
    "layer_activations = [tf.nn.tanh, tf.nn.tanh, tf.nn.relu]\n",
    "\n",
    "nn6 = StandardNN(hidden_layers_sizes=layer_sizes, hidden_layers_activations=layer_activations, optimizer=optimizer)\n",
    "\n",
    "nn6.build().fit(X_train, y_train).score(X_test, y_test)"
   ]
  },
  {
   "cell_type": "code",
   "execution_count": 172,
   "metadata": {},
   "outputs": [],
   "source": [
    "class DropoutNN:\n",
    "    def __init__(self, hidden_layers_sizes=[], hidden_layers_activations=[], optimizer=tf.train.GradientDescentOptimizer(learning_rate=0.01)):\n",
    "        self.hidden_layers_sizes = hidden_layers_sizes\n",
    "        self.hidden_layers_activations = hidden_layers_activations\n",
    "        self.optimizer = optimizer\n",
    "        \n",
    "        if len(self.hidden_layers_sizes) != len(self.hidden_layers_activations):\n",
    "            raise Exception('Layer sizes must be equal!')\n",
    "        \n",
    "    def build(self):\n",
    "        model = keras.Sequential()\n",
    "        model.add(keras.layers.Flatten(input_shape=(image_size, image_size)))\n",
    "        \n",
    "        for i in range(len(self.hidden_layers_sizes)):\n",
    "            model.add(keras.layers.Dense(self.hidden_layers_sizes[i], activation=self.hidden_layers_activations[i]))\n",
    "            model.add(keras.layers.Dropout(rate=0.3))\n",
    "        \n",
    "        model.add(keras.layers.Dense(10, activation=tf.nn.softmax))\n",
    "        model.compile(optimizer=self.optimizer, \n",
    "              loss='sparse_categorical_crossentropy',\n",
    "              metrics=['accuracy'])\n",
    "        \n",
    "        self.model = model\n",
    "        \n",
    "        return self\n",
    "        \n",
    "    def fit(self, x, y, epochs=15):\n",
    "        self.model.fit(x, y, epochs=epochs)\n",
    "        \n",
    "        return self\n",
    "    \n",
    "    def score(self, x, y):\n",
    "        test_loss, test_acc = self.model.evaluate(X_test, y_test)\n",
    "        \n",
    "        return test_acc"
   ]
  },
  {
   "cell_type": "code",
   "execution_count": 173,
   "metadata": {},
   "outputs": [
    {
     "name": "stdout",
     "output_type": "stream",
     "text": [
      "Epoch 1/15\n",
      "200000/200000 [==============================] - 83s 417us/step - loss: 0.6114 - acc: 0.8192\n",
      "Epoch 2/15\n",
      "200000/200000 [==============================] - 92s 460us/step - loss: 0.5403 - acc: 0.8391\n",
      "Epoch 3/15\n",
      "200000/200000 [==============================] - 75s 373us/step - loss: 0.5226 - acc: 0.8438\n",
      "Epoch 4/15\n",
      "200000/200000 [==============================] - 68s 340us/step - loss: 0.5126 - acc: 0.84660s - loss: 0.5127 - \n",
      "Epoch 5/15\n",
      "200000/200000 [==============================] - 91s 455us/step - loss: 0.5062 - acc: 0.8478\n",
      "Epoch 6/15\n",
      "200000/200000 [==============================] - 93s 467us/step - loss: 0.5003 - acc: 0.8498\n",
      "Epoch 7/15\n",
      "200000/200000 [==============================] - 90s 448us/step - loss: 0.4982 - acc: 0.8515\n",
      "Epoch 8/15\n",
      "200000/200000 [==============================] - 96s 482us/step - loss: 0.4938 - acc: 0.8512\n",
      "Epoch 9/15\n",
      "200000/200000 [==============================] - 74s 370us/step - loss: 0.4945 - acc: 0.8523\n",
      "Epoch 10/15\n",
      "200000/200000 [==============================] - 99s 494us/step - loss: 0.4863 - acc: 0.8532\n",
      "Epoch 11/15\n",
      "200000/200000 [==============================] - 96s 482us/step - loss: 0.4851 - acc: 0.8544\n",
      "Epoch 12/15\n",
      "200000/200000 [==============================] - 98s 491us/step - loss: 0.4863 - acc: 0.8545\n",
      "Epoch 13/15\n",
      "200000/200000 [==============================] - 90s 448us/step - loss: 0.4822 - acc: 0.8557\n",
      "Epoch 14/15\n",
      "200000/200000 [==============================] - 79s 394us/step - loss: 0.4832 - acc: 0.8551\n",
      "Epoch 15/15\n",
      "200000/200000 [==============================] - 67s 336us/step - loss: 0.4765 - acc: 0.8569\n",
      "19000/19000 [==============================] - 4s 212us/step\n"
     ]
    },
    {
     "data": {
      "text/plain": [
       "0.8718421052631579"
      ]
     },
     "execution_count": 173,
     "metadata": {},
     "output_type": "execute_result"
    }
   ],
   "source": [
    "optimizer = tf.train.AdamOptimizer()\n",
    "layer_sizes = [image_size * image_size, image_size * image_size / 2, image_size * 5]\n",
    "layer_activations = [tf.nn.tanh, tf.nn.tanh, tf.nn.relu]\n",
    "\n",
    "nn7 = DropoutNN(hidden_layers_sizes=layer_sizes, hidden_layers_activations=layer_activations, optimizer=optimizer)\n",
    "\n",
    "nn7.build().fit(X_train, y_train).score(X_test, y_test)"
   ]
  },
  {
   "cell_type": "code",
   "execution_count": 174,
   "metadata": {},
   "outputs": [
    {
     "name": "stdout",
     "output_type": "stream",
     "text": [
      "Total size of dataset = 80000, train = 20000, test = 50000, valid = 10000\n"
     ]
    }
   ],
   "source": [
    "X_train, y_train, X_val, y_val, X_test, y_test = data_split(X, Y, 20000, 50000, 10000)"
   ]
  },
  {
   "cell_type": "code",
   "execution_count": 175,
   "metadata": {},
   "outputs": [
    {
     "data": {
      "text/plain": [
       "(array([1994., 2028., 2068., 2034., 1926., 2015., 1962., 1979., 2064.,\n",
       "        1930.]),\n",
       " array([0. , 0.9, 1.8, 2.7, 3.6, 4.5, 5.4, 6.3, 7.2, 8.1, 9. ]),\n",
       " <a list of 10 Patch objects>)"
      ]
     },
     "execution_count": 175,
     "metadata": {},
     "output_type": "execute_result"
    },
    {
     "data": {
      "image/png": "[encoded data removed]",
      "text/plain": [
       "<Figure size 432x288 with 1 Axes>"
      ]
     },
     "metadata": {
      "needs_background": "light"
     },
     "output_type": "display_data"
    }
   ],
   "source": [
    "plt.hist(y_train)"
   ]
  },
  {
   "cell_type": "code",
   "execution_count": 176,
   "metadata": {},
   "outputs": [],
   "source": [
    "X_test = X_test / 255.0\n",
    "X_train = X_train / 255.0"
   ]
  },
  {
   "cell_type": "code",
   "execution_count": 177,
   "metadata": {},
   "outputs": [
    {
     "name": "stdout",
     "output_type": "stream",
     "text": [
      "Epoch 1/15\n",
      "20000/20000 [==============================] - 7s 366us/step - loss: 1.2698 - acc: 0.5821\n",
      "Epoch 2/15\n",
      "20000/20000 [==============================] - 6s 303us/step - loss: 0.8876 - acc: 0.7388\n",
      "Epoch 3/15\n",
      "20000/20000 [==============================] - 6s 296us/step - loss: 0.7945 - acc: 0.7684\n",
      "Epoch 4/15\n",
      "20000/20000 [==============================] - 6s 295us/step - loss: 0.7307 - acc: 0.7885\n",
      "Epoch 5/15\n",
      "20000/20000 [==============================] - 7s 364us/step - loss: 0.6884 - acc: 0.7974\n",
      "Epoch 6/15\n",
      "20000/20000 [==============================] - 13s 648us/step - loss: 0.6685 - acc: 0.7985\n",
      "Epoch 7/15\n",
      "20000/20000 [==============================] - 7s 336us/step - loss: 0.6394 - acc: 0.8099\n",
      "Epoch 8/15\n",
      "20000/20000 [==============================] - 7s 366us/step - loss: 0.6216 - acc: 0.8147\n",
      "Epoch 9/15\n",
      "20000/20000 [==============================] - 8s 385us/step - loss: 0.6119 - acc: 0.8193\n",
      "Epoch 10/15\n",
      "20000/20000 [==============================] - 6s 310us/step - loss: 0.5969 - acc: 0.8237\n",
      "Epoch 11/15\n",
      "20000/20000 [==============================] - 6s 311us/step - loss: 0.5808 - acc: 0.8269\n",
      "Epoch 12/15\n",
      "20000/20000 [==============================] - 7s 368us/step - loss: 0.5650 - acc: 0.8320\n",
      "Epoch 13/15\n",
      "20000/20000 [==============================] - 6s 302us/step - loss: 0.5643 - acc: 0.8322\n",
      "Epoch 14/15\n",
      "20000/20000 [==============================] - 6s 302us/step - loss: 0.5534 - acc: 0.8328\n",
      "Epoch 15/15\n",
      "20000/20000 [==============================] - 6s 298us/step - loss: 0.5317 - acc: 0.8384\n",
      "50000/50000 [==============================] - 7s 137us/step\n"
     ]
    },
    {
     "data": {
      "text/plain": [
       "0.84666"
      ]
     },
     "execution_count": 177,
     "metadata": {},
     "output_type": "execute_result"
    }
   ],
   "source": [
    "nn7.build().fit(X_train, y_train).score(X_test, y_test)"
   ]
  },
  {
   "cell_type": "code",
   "execution_count": 178,
   "metadata": {},
   "outputs": [
    {
     "name": "stdout",
     "output_type": "stream",
     "text": [
      "Epoch 1/15\n",
      "20000/20000 [==============================] - 5s 246us/step - loss: 0.7170 - acc: 0.7856 2s\n",
      "Epoch 2/15\n",
      "20000/20000 [==============================] - 3s 166us/step - loss: 0.5218 - acc: 0.8423\n",
      "Epoch 3/15\n",
      "20000/20000 [==============================] - 4s 214us/step - loss: 0.4695 - acc: 0.8569\n",
      "Epoch 4/15\n",
      "20000/20000 [==============================] - 3s 173us/step - loss: 0.4327 - acc: 0.8655\n",
      "Epoch 5/15\n",
      "20000/20000 [==============================] - 4s 176us/step - loss: 0.4115 - acc: 0.8705\n",
      "Epoch 6/15\n",
      "20000/20000 [==============================] - 4s 187us/step - loss: 0.3848 - acc: 0.8778\n",
      "Epoch 7/15\n",
      "20000/20000 [==============================] - 3s 162us/step - loss: 0.3642 - acc: 0.8837\n",
      "Epoch 8/15\n",
      "20000/20000 [==============================] - 3s 159us/step - loss: 0.3448 - acc: 0.8873\n",
      "Epoch 9/15\n",
      "20000/20000 [==============================] - 3s 162us/step - loss: 0.3154 - acc: 0.8985\n",
      "Epoch 10/15\n",
      "20000/20000 [==============================] - 4s 211us/step - loss: 0.3068 - acc: 0.8988\n",
      "Epoch 11/15\n",
      "20000/20000 [==============================] - 3s 157us/step - loss: 0.2890 - acc: 0.9040\n",
      "Epoch 12/15\n",
      "20000/20000 [==============================] - 4s 194us/step - loss: 0.2681 - acc: 0.9116\n",
      "Epoch 13/15\n",
      "20000/20000 [==============================] - 3s 156us/step - loss: 0.2612 - acc: 0.9127\n",
      "Epoch 14/15\n",
      "20000/20000 [==============================] - 3s 161us/step - loss: 0.2393 - acc: 0.9205\n",
      "Epoch 15/15\n",
      "20000/20000 [==============================] - 3s 161us/step - loss: 0.2354 - acc: 0.9229\n",
      "50000/50000 [==============================] - 5s 105us/step\n"
     ]
    },
    {
     "data": {
      "text/plain": [
       "0.85082"
      ]
     },
     "execution_count": 178,
     "metadata": {},
     "output_type": "execute_result"
    }
   ],
   "source": [
    "nn6.build().fit(X_train, y_train).score(X_test, y_test)"
   ]
  },
  {
   "cell_type": "code",
   "execution_count": 127,
   "metadata": {},
   "outputs": [],
   "source": [
    "# https://www.ritchieng.com/machine-learning/deep-learning/tensorflow/regularization/"
   ]
  },
  {
   "cell_type": "code",
   "execution_count": 128,
   "metadata": {},
   "outputs": [],
   "source": [
    "# https://www.ritchieng.com/machine-learning/deep-learning/tensorflow/deep-neural-nets/"
   ]
  },
  {
   "cell_type": "code",
   "execution_count": 129,
   "metadata": {},
   "outputs": [],
   "source": [
    "# https://www.ritchieng.com/machine-learning/deep-learning/tensorflow/notmnist/"
   ]
  },
  {
   "cell_type": "code",
   "execution_count": 203,
   "metadata": {},
   "outputs": [
    {
     "name": "stdout",
     "output_type": "stream",
     "text": [
      "Total size of dataset = 229000, train = 200000, test = 19000, valid = 10000\n"
     ]
    }
   ],
   "source": [
    "X_train, y_train, X_val, y_val, X_test, y_test = data_split(X, Y, 200000, 19000, 10000)"
   ]
  },
  {
   "cell_type": "code",
   "execution_count": 204,
   "metadata": {},
   "outputs": [],
   "source": [
    "X_test = X_test / 255.0\n",
    "X_train = X_train / 255.0"
   ]
  },
  {
   "cell_type": "code",
   "execution_count": 206,
   "metadata": {},
   "outputs": [
    {
     "name": "stdout",
     "output_type": "stream",
     "text": [
      "Epoch 1/30\n",
      "200000/200000 [==============================] - 79s 397us/step - loss: 0.5719 - acc: 0.8313\n",
      "Epoch 2/30\n",
      "200000/200000 [==============================] - 65s 323us/step - loss: 0.4716 - acc: 0.8601\n",
      "Epoch 3/30\n",
      "200000/200000 [==============================] - 70s 351us/step - loss: 0.4393 - acc: 0.8697\n",
      "Epoch 4/30\n",
      "200000/200000 [==============================] - 57s 283us/step - loss: 0.4211 - acc: 0.87530s - loss: 0.4213 -\n",
      "Epoch 5/30\n",
      "200000/200000 [==============================] - 53s 266us/step - loss: 0.4070 - acc: 0.87960s - loss: 0.4071 - \n",
      "Epoch 6/30\n",
      "200000/200000 [==============================] - 54s 269us/step - loss: 0.3962 - acc: 0.8822\n",
      "Epoch 7/30\n",
      "200000/200000 [==============================] - 53s 265us/step - loss: 0.3882 - acc: 0.8844\n",
      "Epoch 8/30\n",
      "200000/200000 [==============================] - 53s 265us/step - loss: 0.3802 - acc: 0.88650s - loss: 0.3802 - acc: 0.\n",
      "Epoch 9/30\n",
      "200000/200000 [==============================] - 53s 266us/step - loss: 0.3740 - acc: 0.88880s - loss: 0.373\n",
      "Epoch 10/30\n",
      "200000/200000 [==============================] - 53s 264us/step - loss: 0.3719 - acc: 0.8896\n",
      "Epoch 11/30\n",
      "200000/200000 [==============================] - 53s 264us/step - loss: 0.3647 - acc: 0.8917\n",
      "Epoch 12/30\n",
      "200000/200000 [==============================] - 57s 285us/step - loss: 0.3620 - acc: 0.8923\n",
      "Epoch 13/30\n",
      "200000/200000 [==============================] - 55s 275us/step - loss: 0.3573 - acc: 0.89390s - loss: 0.3573 - ac\n",
      "Epoch 14/30\n",
      "200000/200000 [==============================] - 53s 263us/step - loss: 0.3526 - acc: 0.8943\n",
      "Epoch 15/30\n",
      "200000/200000 [==============================] - 68s 338us/step - loss: 0.3505 - acc: 0.8949\n",
      "Epoch 16/30\n",
      "200000/200000 [==============================] - 69s 347us/step - loss: 0.3496 - acc: 0.8961\n",
      "Epoch 17/30\n",
      "200000/200000 [==============================] - 71s 355us/step - loss: 0.3460 - acc: 0.8970\n",
      "Epoch 18/30\n",
      "200000/200000 [==============================] - 68s 341us/step - loss: 0.3418 - acc: 0.8978\n",
      "Epoch 19/30\n",
      "200000/200000 [==============================] - 65s 323us/step - loss: 0.3399 - acc: 0.8979\n",
      "Epoch 20/30\n",
      "200000/200000 [==============================] - 66s 332us/step - loss: 0.3392 - acc: 0.8987\n",
      "Epoch 21/30\n",
      "200000/200000 [==============================] - 59s 296us/step - loss: 0.3367 - acc: 0.8996\n",
      "Epoch 22/30\n",
      "200000/200000 [==============================] - 61s 306us/step - loss: 0.3383 - acc: 0.8995\n",
      "Epoch 23/30\n",
      "200000/200000 [==============================] - 62s 311us/step - loss: 0.3308 - acc: 0.9006\n",
      "Epoch 24/30\n",
      "200000/200000 [==============================] - 84s 420us/step - loss: 0.3312 - acc: 0.9011\n",
      "Epoch 25/30\n",
      "200000/200000 [==============================] - 75s 377us/step - loss: 0.3294 - acc: 0.9011\n",
      "Epoch 26/30\n",
      "200000/200000 [==============================] - 74s 368us/step - loss: 0.3280 - acc: 0.9017\n",
      "Epoch 27/30\n",
      "200000/200000 [==============================] - 77s 385us/step - loss: 0.3279 - acc: 0.9020\n",
      "Epoch 28/30\n",
      "200000/200000 [==============================] - 79s 394us/step - loss: 0.3245 - acc: 0.9029\n",
      "Epoch 29/30\n",
      "200000/200000 [==============================] - 86s 429us/step - loss: 0.3216 - acc: 0.9038\n",
      "Epoch 30/30\n",
      "200000/200000 [==============================] - 86s 430us/step - loss: 0.3242 - acc: 0.9036\n",
      "19000/19000 [==============================] - 4s 186us/step\n"
     ]
    },
    {
     "data": {
      "text/plain": [
       "0.9029473683959559"
      ]
     },
     "execution_count": 206,
     "metadata": {},
     "output_type": "execute_result"
    }
   ],
   "source": [
    "optimizer = tf.train.AdamOptimizer()\n",
    "layer_sizes = [image_size * image_size, image_size * image_size / 2, image_size * 5]\n",
    "layer_activations = [tf.nn.relu, tf.nn.relu, tf.nn.relu]\n",
    "\n",
    "nn8 = DropoutNN(hidden_layers_sizes=layer_sizes, hidden_layers_activations=layer_activations, optimizer=optimizer)\n",
    "\n",
    "nn8.build().fit(X_train, y_train, epochs=30).score(X_test, y_test)"
   ]
  },
  {
   "cell_type": "code",
   "execution_count": 211,
   "metadata": {},
   "outputs": [],
   "source": [
    "import numpy as np\n",
    "import tensorflow as tf\n",
    "import math\n",
    "\n",
    "\n",
    "class TensorflowNN:\n",
    "    def __init__(self, X_train, y_train, X_test, y_test, hidden_layer_sizes=[10],\n",
    "                 hidden_layers_activations=[tf.nn.relu], lr=0.01, num_labels=10, train_subset=10000, num_steps=500,\n",
    "                 start_learning_rate=0.5, beta=0.001, image_size=28, dropout_prob=0.3, use_dropout=False,\n",
    "                 use_regularizers=False, use_dynamic_lr=False):\n",
    "        if len(hidden_layer_sizes) != len(hidden_layers_activations):\n",
    "            raise AssertionError('Layers must be equal')\n",
    "\n",
    "        def reformat(dataset, labels):\n",
    "            dataset = dataset.reshape((-1, image_size * image_size)).astype(np.float32)\n",
    "            labels = (np.arange(num_labels) == labels[:, None]).astype(np.float32)\n",
    "            return dataset, labels\n",
    "\n",
    "        def accuracy(predicts, labels):\n",
    "            return 100.0 * (np.sum(np.argmax(predicts, 1) == np.argmax(labels, 1)) / predicts.shape[0])\n",
    "\n",
    "        print('---------------------------------------')\n",
    "        print('Initial arguments:')\n",
    "        print('---------------------------------------')\n",
    "        print('X_train shape =', X_train.shape)\n",
    "        print('X_test shape =', X_test.shape)\n",
    "        print('y_train shape =', y_train.shape)\n",
    "        print('y_test shape =', y_test.shape)\n",
    "        print('Hidden layers = %d layers' % len(hidden_layer_sizes))\n",
    "        print('Learning rate = %.4f' % lr)\n",
    "        print('Image size = %d' % image_size)\n",
    "        print('Labels = %d' % num_labels)\n",
    "        print('train_subset = %d' % train_subset)\n",
    "        print('Epochs to train = %d' % num_steps)\n",
    "        print('Initial learning rate for dynamic learning rate = %.3f' % start_learning_rate)\n",
    "        print('Beta for regularizations = %.3f' % beta)\n",
    "        print('Dropout prob = %.3f' % dropout_prob)\n",
    "        print('---------------------------------------')\n",
    "        print('Initial flags:')\n",
    "        print('---------------------------------------')\n",
    "        print('use_dropout=%s, use_regularizers=%s, use_dynamic_lr=%s' % (\n",
    "        use_dropout, use_regularizers, use_dynamic_lr))\n",
    "        print('---------------------------------------')\n",
    "\n",
    "        train_dataset, train_labels = reformat(X_train, y_train)\n",
    "        test_dataset, test_labels = reformat(X_test, y_test)\n",
    "        graph = tf.Graph()\n",
    "        with graph.as_default():\n",
    "            tf_train_dataset = tf.constant(train_dataset[:train_subset, :])\n",
    "            tf_train_labels = tf.constant(train_labels[:train_subset])\n",
    "            tf_test_dataset = tf.constant(test_dataset)\n",
    "            weights = [None for i in range(len(hidden_layer_sizes))]\n",
    "            biases = [None for i in range(len(hidden_layer_sizes))]\n",
    "            logits = [None for i in range(len(hidden_layer_sizes))]\n",
    "            test_logits = [None for i in range(len(hidden_layer_sizes))]\n",
    "            hidden_layer = [None for i in range(len(hidden_layer_sizes))]\n",
    "            hidden_layer_output = [None for i in range(len(hidden_layer_sizes))]\n",
    "            output = None\n",
    "            test_output = None\n",
    "\n",
    "            keep_prob = tf.constant(dropout_prob, dtype=tf.float32)\n",
    "\n",
    "            for i in range(len(hidden_layer_sizes)):\n",
    "                prev = image_size * image_size\n",
    "                prev_layer = tf_train_dataset\n",
    "                prev_test_layer = tf_test_dataset\n",
    "\n",
    "                if i > 0:\n",
    "                    prev = hidden_layer_sizes[i - 1]\n",
    "                    prev_layer = hidden_layer_output[i - 1]\n",
    "                    prev_test_layer = test_logits[i - 1]\n",
    "\n",
    "                weights[i] = tf.Variable(tf.truncated_normal([prev, hidden_layer_sizes[i]]))\n",
    "                biases[i] = tf.Variable(tf.zeros([hidden_layer_sizes[i]]))\n",
    "                logits[i] = tf.matmul(prev_layer, weights[i]) + biases[i]\n",
    "                test_logits[i] = tf.matmul(prev_test_layer, weights[i]) + biases[i]\n",
    "                if i < len(hidden_layer_sizes) - 1:\n",
    "                    if use_dropout:\n",
    "                        hidden_layer[i] = hidden_layers_activations[i](logits[i])\n",
    "                        hidden_layer_output[i] = tf.nn.dropout(hidden_layer[i], keep_prob)\n",
    "                    else:\n",
    "                        hidden_layer_output[i] = hidden_layers_activations[i](logits[i])\n",
    "                else:\n",
    "                    output = logits[i]\n",
    "                    test_output = test_logits[i]\n",
    "\n",
    "            loss = tf.reduce_mean(tf.nn.softmax_cross_entropy_with_logits(logits=output, labels=tf_train_labels))\n",
    "            if use_regularizers:\n",
    "                regularizers = tf.nn.l2_loss(weights[0])\n",
    "                for i in range(1, len(weights)):\n",
    "                    regularizers = regularizers + tf.nn.l2_loss(weights[i])\n",
    "                loss = tf.reduce_mean(loss + beta * regularizers)\n",
    "\n",
    "            optimizer = tf.train.GradientDescentOptimizer(lr).minimize(loss)\n",
    "\n",
    "            if use_dynamic_lr:\n",
    "                global_step = tf.Variable(0)\n",
    "                learning_rate = tf.train.exponential_decay(start_learning_rate, global_step, 100000, 0.96,\n",
    "                                                           staircase=True)\n",
    "                optimizer = tf.train.GradientDescentOptimizer(learning_rate).minimize(loss, global_step=global_step)\n",
    "\n",
    "            train_prediction = tf.nn.softmax(output)\n",
    "            test_prediction = tf.nn.softmax(test_output)\n",
    "\n",
    "        with tf.Session(graph=graph) as session:\n",
    "            tf.initialize_all_variables().run()\n",
    "            writer = tf.summary.FileWriter('./graphs', session.graph)\n",
    "            print('------------------------')\n",
    "            print('Start...')\n",
    "            loss_hist = list()\n",
    "            acc_hist = list()\n",
    "            step_hist = list()\n",
    "            for step in range(num_steps):\n",
    "                _, l, predictions = session.run([optimizer, loss, train_prediction])\n",
    "                if step % 100 == 0:\n",
    "                    acc = accuracy(predictions, train_labels[:train_subset, :])\n",
    "                    loss_hist.append(l)\n",
    "                    acc_hist.append(acc)\n",
    "                    step_hist.append(step)\n",
    "                    print('%d/%d step - loss: %.5f - acc: %.5f' % (\n",
    "                        step, num_steps, l, acc))\n",
    "            print('------------------------')\n",
    "            print('Test score: %.2f' % (accuracy(test_prediction.eval(), test_labels)))\n",
    "            plt.title('Train loss/scores for the epoch')\n",
    "            plt.xlabel('Epoch')\n",
    "            plt.ylabel('Score')\n",
    "            plt.plot(step_hist, loss_hist, color='green', label='Loss')\n",
    "            plt.plot(step_hist, acc_hist, color='red', label='Accuracy')\n",
    "            plt.legend()\n",
    "            plt.show()\n"
   ]
  },
  {
   "cell_type": "code",
   "execution_count": 205,
   "metadata": {},
   "outputs": [
    {
     "name": "stdout",
     "output_type": "stream",
     "text": [
      "---------------------------------------\n",
      "Initial arguments:\n",
      "---------------------------------------\n",
      "('X_train shape =', (200000, 28, 28))\n",
      "('X_test shape =', (19000, 28, 28))\n",
      "('y_train shape =', (200000,))\n",
      "('y_test shape =', (19000,))\n",
      "Hidden layers = 1 layers\n",
      "Learning rate = 0.0100\n",
      "Image size = 28\n",
      "Labels = 10\n",
      "train_subset = 10000\n",
      "Epochs to train = 500\n",
      "Initial learning rate for dynamic learning rate = 0.500\n",
      "Beta for regularizations = 0.001\n",
      "Dropout prob = 0.300\n",
      "---------------------------------------\n",
      "Initial flags:\n",
      "---------------------------------------\n",
      "use_dropout=False, use_regularizers=False, use_dynamic_lr=False\n",
      "---------------------------------------\n",
      "------------------------\n",
      "Start...\n",
      "0/500 step - loss: 20.95 - acc: 0.00\n",
      "100/500 step - loss: 9.43 - acc: 0.00\n",
      "200/500 step - loss: 7.38 - acc: 0.00\n",
      "300/500 step - loss: 6.34 - acc: 0.00\n",
      "400/500 step - loss: 5.63 - acc: 0.00\n",
      "------------------------\n",
      "Test score: 0.00\n"
     ]
    },
    {
     "data": {
      "image/png": "[encoded data removed]",
      "text/plain": [
       "<Figure size 432x288 with 1 Axes>"
      ]
     },
     "metadata": {
      "needs_background": "light"
     },
     "output_type": "display_data"
    },
    {
     "data": {
      "text/plain": [
       "<__main__.TensorflowNN instance at 0x125d11d40>"
      ]
     },
     "execution_count": 205,
     "metadata": {},
     "output_type": "execute_result"
    }
   ],
   "source": [
    "TensorflowNN(X_train, y_train, X_test, y_test)"
   ]
  },
  {
   "cell_type": "code",
   "execution_count": 229,
   "metadata": {},
   "outputs": [],
   "source": [
    "class DropoutRegularizationNN:\n",
    "    def __init__(self, hidden_layers_sizes=[], hidden_layers_activations=[], optimizer=tf.train.GradientDescentOptimizer(learning_rate=0.01)):\n",
    "        self.hidden_layers_sizes = hidden_layers_sizes\n",
    "        self.hidden_layers_activations = hidden_layers_activations\n",
    "        self.optimizer = optimizer\n",
    "        \n",
    "        if len(self.hidden_layers_sizes) != len(self.hidden_layers_activations):\n",
    "            raise Exception('Layer sizes must be equal!')\n",
    "        \n",
    "    def build(self):\n",
    "        model = keras.Sequential()\n",
    "        model.add(keras.layers.Flatten(input_shape=(image_size, image_size)))\n",
    "        \n",
    "        for i in range(len(self.hidden_layers_sizes)):\n",
    "            model.add(keras.layers.Dense(self.hidden_layers_sizes[i], activation=self.hidden_layers_activations[i], \n",
    "                kernel_regularizer=keras.regularizers.l1_l2(l1=0.,l2=0.),\n",
    "                bias_regularizer=keras.regularizers.l1_l2(l1=0.,l2=0.)))\n",
    "            model.add(keras.layers.Dropout(rate=0.3))\n",
    "        \n",
    "        model.add(keras.layers.Dense(10, activation=tf.nn.softmax))\n",
    "        model.compile(optimizer=self.optimizer, \n",
    "              loss='sparse_categorical_crossentropy',\n",
    "              metrics=['accuracy'])\n",
    "        \n",
    "        self.model = model\n",
    "        \n",
    "        return self\n",
    "        \n",
    "    def fit(self, x, y, epochs=15):\n",
    "        self.model.fit(x, y, epochs=epochs)\n",
    "        \n",
    "        return self\n",
    "    \n",
    "    def score(self, x, y):\n",
    "        test_loss, test_acc = self.model.evaluate(X_test, y_test)\n",
    "        \n",
    "        return test_acc"
   ]
  },
  {
   "cell_type": "code",
   "execution_count": 231,
   "metadata": {},
   "outputs": [
    {
     "name": "stdout",
     "output_type": "stream",
     "text": [
      "Epoch 1/30\n",
      "10000/10000 [==============================] - 6s 620us/step - loss: 0.9440 - acc: 0.7072\n",
      "Epoch 2/30\n",
      "10000/10000 [==============================] - 3s 328us/step - loss: 0.6512 - acc: 0.8100\n",
      "Epoch 3/30\n",
      "10000/10000 [==============================] - 3s 336us/step - loss: 0.5787 - acc: 0.8248\n",
      "Epoch 4/30\n",
      "10000/10000 [==============================] - 3s 313us/step - loss: 0.5374 - acc: 0.8405\n",
      "Epoch 5/30\n",
      "10000/10000 [==============================] - 4s 401us/step - loss: 0.5037 - acc: 0.8471\n",
      "Epoch 6/30\n",
      "10000/10000 [==============================] - 3s 345us/step - loss: 0.4816 - acc: 0.8574\n",
      "Epoch 7/30\n",
      "10000/10000 [==============================] - 3s 334us/step - loss: 0.4500 - acc: 0.8638\n",
      "Epoch 8/30\n",
      "10000/10000 [==============================] - 3s 335us/step - loss: 0.4281 - acc: 0.8688\n",
      "Epoch 9/30\n",
      "10000/10000 [==============================] - 3s 335us/step - loss: 0.4086 - acc: 0.8747\n",
      "Epoch 10/30\n",
      "10000/10000 [==============================] - 3s 340us/step - loss: 0.3953 - acc: 0.8804\n",
      "Epoch 11/30\n",
      "10000/10000 [==============================] - 4s 376us/step - loss: 0.3922 - acc: 0.8790\n",
      "Epoch 12/30\n",
      "10000/10000 [==============================] - 3s 336us/step - loss: 0.3574 - acc: 0.8890\n",
      "Epoch 13/30\n",
      "10000/10000 [==============================] - 3s 336us/step - loss: 0.3520 - acc: 0.8932\n",
      "Epoch 14/30\n",
      "10000/10000 [==============================] - 3s 339us/step - loss: 0.3371 - acc: 0.8979\n",
      "Epoch 15/30\n",
      "10000/10000 [==============================] - 4s 401us/step - loss: 0.3241 - acc: 0.9016\n",
      "Epoch 16/30\n",
      "10000/10000 [==============================] - 4s 367us/step - loss: 0.3034 - acc: 0.9049 1s -\n",
      "Epoch 17/30\n",
      "10000/10000 [==============================] - 4s 394us/step - loss: 0.2896 - acc: 0.9073\n",
      "Epoch 18/30\n",
      "10000/10000 [==============================] - 4s 428us/step - loss: 0.2899 - acc: 0.9120\n",
      "Epoch 19/30\n",
      "10000/10000 [==============================] - 3s 346us/step - loss: 0.2723 - acc: 0.9170\n",
      "Epoch 20/30\n",
      "10000/10000 [==============================] - 4s 407us/step - loss: 0.2726 - acc: 0.9176\n",
      "Epoch 21/30\n",
      "10000/10000 [==============================] - 4s 354us/step - loss: 0.2573 - acc: 0.9211\n",
      "Epoch 22/30\n",
      "10000/10000 [==============================] - 3s 339us/step - loss: 0.2542 - acc: 0.9223\n",
      "Epoch 23/30\n",
      "10000/10000 [==============================] - 5s 507us/step - loss: 0.2425 - acc: 0.9223\n",
      "Epoch 24/30\n",
      "10000/10000 [==============================] - 3s 324us/step - loss: 0.2312 - acc: 0.9290\n",
      "Epoch 25/30\n",
      "10000/10000 [==============================] - 3s 327us/step - loss: 0.2109 - acc: 0.9320\n",
      "Epoch 26/30\n",
      "10000/10000 [==============================] - 3s 310us/step - loss: 0.2207 - acc: 0.9312\n",
      "Epoch 27/30\n",
      "10000/10000 [==============================] - 3s 349us/step - loss: 0.2268 - acc: 0.9329\n",
      "Epoch 28/30\n",
      "10000/10000 [==============================] - 4s 393us/step - loss: 0.2075 - acc: 0.9398\n",
      "Epoch 29/30\n",
      "10000/10000 [==============================] - 3s 295us/step - loss: 0.1989 - acc: 0.9407\n",
      "Epoch 30/30\n",
      "10000/10000 [==============================] - 3s 325us/step - loss: 0.2068 - acc: 0.9393\n",
      "19000/19000 [==============================] - 4s 225us/step\n"
     ]
    },
    {
     "data": {
      "text/plain": [
       "0.859526315764377"
      ]
     },
     "execution_count": 231,
     "metadata": {},
     "output_type": "execute_result"
    }
   ],
   "source": [
    "optimizer = tf.train.AdamOptimizer()\n",
    "layer_sizes = [image_size * image_size, image_size * image_size / 2, image_size * 5]\n",
    "layer_activations = [tf.nn.relu, tf.nn.relu, tf.nn.relu]\n",
    "\n",
    "nn9 = DropoutRegularizationNN(hidden_layers_sizes=layer_sizes, hidden_layers_activations=layer_activations, optimizer=optimizer)\n",
    "\n",
    "nn9.build().fit(X_train, y_train, epochs=30).score(X_test, y_test)"
   ]
  },
  {
   "cell_type": "code",
   "execution_count": null,
   "metadata": {},
   "outputs": [],
   "source": []
  }
 ],
 "metadata": {
  "kernelspec": {
   "display_name": "Python 2",
   "language": "python",
   "name": "python2"
  },
  "language_info": {
   "codemirror_mode": {
    "name": "ipython",
    "version": 2
   },
   "file_extension": ".py",
   "mimetype": "text/x-python",
   "name": "python",
   "nbconvert_exporter": "python",
   "pygments_lexer": "ipython2",
   "version": "2.7.15"
  }
 },
 "nbformat": 4,
 "nbformat_minor": 2
}

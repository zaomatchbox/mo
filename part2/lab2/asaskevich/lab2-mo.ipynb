{
 "cells": [
  {
   "cell_type": "code",
   "execution_count": 2,
   "metadata": {
    "scrolled": true
   },
   "outputs": [],
   "source": [
    "import pandas as pd\n",
    "from PIL import Image\n",
    "import numpy as np\n",
    "import scipy.misc as smp\n",
    "import matplotlib.pyplot as plt\n",
    "from pylab import *\n",
    "import numpy, imageio, glob, sys, os, random\n",
    "import tensorflow as tf\n",
    "from tensorflow import keras\n",
    "from sklearn.model_selection import train_test_split\n",
    "from timeit import default_timer as timer"
   ]
  },
  {
   "cell_type": "code",
   "execution_count": 3,
   "metadata": {
    "scrolled": true
   },
   "outputs": [],
   "source": [
    "def get_labels_and_files(folder):\n",
    "    filelists = []\n",
    "    for label in range(0,10):\n",
    "        filelist = []\n",
    "        filelists.append(filelist);\n",
    "        dirname = os.path.join(folder, chr(ord('A') + label))\n",
    "        for file in os.listdir(dirname):\n",
    "            if (file.endswith('.png')):\n",
    "                fullname = os.path.join(dirname, file)\n",
    "            if (os.path.getsize(fullname) > 0):\n",
    "                filelist.append(fullname)\n",
    "            else:\n",
    "                print('file ' + fullname + ' is empty')\n",
    "        filelist.sort()\n",
    "\n",
    "    labelsAndFiles = []\n",
    "    for label in range(0,10):\n",
    "        filelist = filelists[label]\n",
    "        for filename in filelist:\n",
    "            labelsAndFiles.append((label, filename))\n",
    "\n",
    "    return labelsAndFiles\n",
    "\n",
    "def make_arrays(labelsAndFiles):\n",
    "    images = []\n",
    "    labels = []\n",
    "    for i in range(0, len(labelsAndFiles)):\n",
    "        if (i % 100 == 0):\n",
    "            sys.stdout.write(\"\\r%d%% complete\" % ((i * 100)/len(labelsAndFiles)))\n",
    "            sys.stdout.flush()\n",
    "\n",
    "        filename = labelsAndFiles[i][1]\n",
    "        try:\n",
    "            image = imageio.imread(filename)\n",
    "            images.append(image)\n",
    "            labels.append(labelsAndFiles[i][0])\n",
    "        except:\n",
    "            # If this happens we won't have the requested number\n",
    "            print(\"\\nCan't read image file \" + filename)\n",
    "\n",
    "    count = len(images)\n",
    "    imagedata = numpy.zeros((count,28,28), dtype=numpy.uint8)\n",
    "    labeldata = numpy.zeros(count, dtype=numpy.uint8)\n",
    "    for i in range(0, count):\n",
    "        imagedata[i] = images[i]\n",
    "        labeldata[i] = labels[i]\n",
    "    print(\"\\n\")\n",
    "    return imagedata, labeldata\n",
    "\n",
    "def write_labeldata(labeldata, outputfile):\n",
    "    header = numpy.array([0x0801, len(labeldata)], dtype='>i4')\n",
    "    with open(outputfile, \"wb\") as f:\n",
    "        f.write(header.tobytes())\n",
    "        f.write(labeldata.tobytes())\n",
    "\n",
    "def write_imagedata(imagedata, outputfile):\n",
    "    header = numpy.array([0x0803, len(imagedata), 28, 28], dtype='>i4')\n",
    "    with open(outputfile, \"wb\") as f:\n",
    "        f.write(header.tobytes())\n",
    "        f.write(imagedata.tobytes())\n",
    "\n",
    "def load_data(dirname):\n",
    "    labelsAndFiles = get_labels_and_files(dirname)\n",
    "    random.shuffle(labelsAndFiles)\n",
    "    imagedata, labeldata = make_arrays(labelsAndFiles)\n",
    "    return (imagedata, labeldata)"
   ]
  },
  {
   "cell_type": "code",
   "execution_count": 4,
   "metadata": {
    "scrolled": true
   },
   "outputs": [
    {
     "name": "stdout",
     "output_type": "stream",
     "text": [
      "file /Users/asaskevich/Downloads/notMNIST_large/A/Um9tYW5hIEJvbGQucGZi.png is empty\n",
      "file /Users/asaskevich/Downloads/notMNIST_large/A/SG90IE11c3RhcmQgQlROIFBvc3Rlci50dGY=.png is empty\n",
      "file /Users/asaskevich/Downloads/notMNIST_large/B/TmlraXNFRi1TZW1pQm9sZEl0YWxpYy5vdGY=.png is empty\n",
      "file /Users/asaskevich/Downloads/notMNIST_large/D/VHJhbnNpdCBCb2xkLnR0Zg==.png is empty\n",
      "79% complete\n",
      "Can't read image file /Users/asaskevich/Downloads/notMNIST_large/A/RnJlaWdodERpc3BCb29rSXRhbGljLnR0Zg==.png\n",
      "99% complete\n",
      "\n"
     ]
    }
   ],
   "source": [
    "X, Y = load_data('/Users/asaskevich/Downloads/notMNIST_large/')"
   ]
  },
  {
   "cell_type": "code",
   "execution_count": 5,
   "metadata": {
    "scrolled": true
   },
   "outputs": [
    {
     "data": {
      "text/plain": [
       "3"
      ]
     },
     "execution_count": 5,
     "metadata": {},
     "output_type": "execute_result"
    }
   ],
   "source": [
    "Y[0]"
   ]
  },
  {
   "cell_type": "code",
   "execution_count": 6,
   "metadata": {
    "scrolled": false
   },
   "outputs": [
    {
     "data": {
      "text/plain": [
       "array([[  2,   0,   0,   0,  10,  33,  71, 112, 144, 169, 198, 228, 242,\n",
       "        254, 255, 246, 227, 215, 191, 151,  86,  16,   0,   0,   2,   0,\n",
       "          0,   0],\n",
       "       [  0,  29, 134, 186, 232, 249, 255, 255, 255, 255, 255, 229, 222,\n",
       "        221, 226, 245, 255, 255, 255, 255, 255, 221, 121,   8,   0,   3,\n",
       "          0,   0],\n",
       "       [ 72, 208, 221, 189, 173, 249, 255, 253, 248, 252, 121,   5,   0,\n",
       "          0,  10,  37,  82, 167, 248, 255, 251, 255, 255, 206,  42,   0,\n",
       "          2,   0],\n",
       "       [ 44,  32,   0,   0,   0, 167, 255, 252, 251, 255,  80,   0,   4,\n",
       "          0,   0,   0,   0,   0,  55, 199, 255, 251, 251, 255, 229,  41,\n",
       "          0,   2],\n",
       "       [  0,   0,   1,   6,   3, 121, 255, 251, 251, 255,  87,   1,   4,\n",
       "          0,   1,   2,   3,   4,   0,   9, 179, 255, 253, 251, 255, 211,\n",
       "         10,   2],\n",
       "       [  2,   2,   0,   4,   0,  93, 255, 251, 251, 255,  86,   0,   4,\n",
       "          0,   0,   0,   0,   0,   3,   0,  12, 209, 255, 252, 251, 255,\n",
       "        119,   0],\n",
       "       [  0,   0,   0,   4,   0,  78, 255, 253, 251, 255,  86,   0,   4,\n",
       "          0,   0,   0,   0,   0,   0,   4,   0,  60, 252, 253, 252, 254,\n",
       "        224,  14],\n",
       "       [  0,   0,   0,   3,   0,  63, 255, 254, 250, 255,  86,   0,   4,\n",
       "          0,   0,   0,   0,   0,   0,   0,   3,   0, 179, 255, 252, 254,\n",
       "        255,  82],\n",
       "       [  0,   0,   0,   2,   0,  50, 253, 255, 250, 255,  86,   0,   4,\n",
       "          0,   0,   0,   0,   0,   0,   0,   4,   1,  86, 255, 253, 252,\n",
       "        254, 152],\n",
       "       [  0,   0,   0,   2,   0,  42, 249, 255, 250, 255,  86,   0,   4,\n",
       "          0,   0,   0,   0,   0,   0,   0,   1,   0,  19, 233, 255, 252,\n",
       "        255, 196],\n",
       "       [  0,   0,   0,   2,   0,  35, 246, 255, 250, 255,  86,   0,   4,\n",
       "          0,   0,   0,   0,   0,   0,   0,   0,   2,   0, 191, 255, 251,\n",
       "        255, 227],\n",
       "       [  0,   0,   0,   1,   0,  27, 242, 255, 250, 255,  86,   0,   4,\n",
       "          0,   0,   0,   0,   0,   0,   0,   0,   3,   0, 147, 255, 251,\n",
       "        255, 245],\n",
       "       [  0,   0,   0,   1,   0,  21, 240, 255, 250, 255,  85,   0,   4,\n",
       "          0,   0,   0,   0,   0,   0,   0,   0,   3,   0, 112, 255, 251,\n",
       "        255, 252],\n",
       "       [  0,   0,   0,   1,   0,  19, 239, 255, 250, 255,  84,   0,   4,\n",
       "          0,   0,   0,   0,   0,   0,   0,   0,   3,   0,  98, 255, 251,\n",
       "        255, 243],\n",
       "       [  0,   0,   0,   1,   0,  16, 238, 255, 250, 255,  83,   0,   4,\n",
       "          0,   0,   0,   0,   0,   0,   0,   0,   4,   0,  83, 255, 251,\n",
       "        255, 226],\n",
       "       [  0,   0,   0,   1,   0,  14, 237, 255, 250, 255,  81,   0,   4,\n",
       "          0,   0,   0,   0,   0,   0,   0,   0,   3,   0,  87, 255, 249,\n",
       "        255, 191],\n",
       "       [  0,   0,   0,   1,   0,  12, 236, 255, 251, 255,  80,   0,   4,\n",
       "          0,   0,   0,   0,   0,   0,   0,   0,   3,   0, 103, 255, 249,\n",
       "        255, 139],\n",
       "       [  0,   0,   0,   1,   0,  12, 236, 255, 251, 255,  79,   0,   4,\n",
       "          0,   0,   0,   0,   0,   0,   0,   0,   3,   0, 123, 255, 252,\n",
       "        253,  60],\n",
       "       [  0,   0,   0,   1,   0,  18, 239, 255, 251, 255,  77,   0,   4,\n",
       "          0,   0,   0,   0,   0,   0,   0,   0,   3,   0, 170, 255, 254,\n",
       "        201,   5],\n",
       "       [  0,   0,   0,   1,   0,  25, 242, 255, 252, 255,  73,   0,   3,\n",
       "          0,   0,   0,   0,   0,   0,   0,   1,   0,   5, 213, 254, 255,\n",
       "         87,   0],\n",
       "       [  0,   0,   0,   2,   0,  31, 245, 255, 252, 255,  68,   0,   3,\n",
       "          0,   0,   0,   0,   0,   0,   0,   3,   1,  51, 250, 255, 192,\n",
       "          3,   2],\n",
       "       [  0,   0,   0,   2,   0,  37, 247, 255, 253, 255,  63,   0,   3,\n",
       "          0,   0,   0,   0,   0,   0,   0,   4,   0, 153, 255, 235,  38,\n",
       "          0,   2],\n",
       "       [  0,   0,   0,   2,   0,  47, 251, 255, 255, 255,  56,   0,   3,\n",
       "          0,   0,   0,   0,   0,   0,   5,   0,  55, 255, 244,  69,   0,\n",
       "          3,   0],\n",
       "       [  0,   0,   0,   3,   0,  66, 255, 253, 255, 249,  45,   1,   3,\n",
       "          0,   1,   1,   3,   3,   1,   0,  40, 240, 221,  61,   0,   3,\n",
       "          0,   0],\n",
       "       [  0,   0,   0,   6,   1,  90, 255, 250, 255, 239,  19,   0,   1,\n",
       "          0,   0,   0,   0,   0,   0, 102, 231, 154,  18,   0,   3,   0,\n",
       "          0,   0],\n",
       "       [  0,   0,   0,   0,   0, 163, 255, 251, 254, 243,  72,  13,   0,\n",
       "          0,   8,  25,  69, 128, 193, 183,  61,   0,   0,   2,   0,   0,\n",
       "          0,   0],\n",
       "       [  0,   2,   0,  63, 188, 253, 254, 255, 255, 255, 255, 235, 231,\n",
       "        234, 234, 228, 203, 146,  53,   0,   0,   3,   1,   0,   0,   0,\n",
       "          0,   0],\n",
       "       [  3,   1,  63, 234, 255, 251, 254, 255, 253, 247, 236, 222, 196,\n",
       "        161, 112,  49,   4,   0,   0,   2,   2,   0,   0,   0,   0,   0,\n",
       "          0,   0]], dtype=uint8)"
      ]
     },
     "execution_count": 6,
     "metadata": {},
     "output_type": "execute_result"
    }
   ],
   "source": [
    "X[0]"
   ]
  },
  {
   "cell_type": "code",
   "execution_count": 7,
   "metadata": {
    "scrolled": true
   },
   "outputs": [
    {
     "data": {
      "text/plain": [
       "(529114, 28, 28)"
      ]
     },
     "execution_count": 7,
     "metadata": {},
     "output_type": "execute_result"
    }
   ],
   "source": [
    "X.shape"
   ]
  },
  {
   "cell_type": "code",
   "execution_count": 8,
   "metadata": {
    "scrolled": true
   },
   "outputs": [],
   "source": [
    "image_size = 28\n",
    "pixel_depth = 255"
   ]
  },
  {
   "cell_type": "code",
   "execution_count": 9,
   "metadata": {
    "scrolled": false
   },
   "outputs": [
    {
     "data": {
      "image/png": "[encoded data removed]",
      "text/plain": [
       "<Figure size 72x72 with 1 Axes>"
      ]
     },
     "metadata": {
      "needs_background": "light"
     },
     "output_type": "display_data"
    },
    {
     "data": {
      "image/png": "[encoded data removed]",
      "text/plain": [
       "<Figure size 72x72 with 1 Axes>"
      ]
     },
     "metadata": {
      "needs_background": "light"
     },
     "output_type": "display_data"
    },
    {
     "data": {
      "image/png": "[encoded data removed]",
      "text/plain": [
       "<Figure size 72x72 with 1 Axes>"
      ]
     },
     "metadata": {
      "needs_background": "light"
     },
     "output_type": "display_data"
    },
    {
     "data": {
      "image/png": "[encoded data removed]",
      "text/plain": [
       "<Figure size 72x72 with 1 Axes>"
      ]
     },
     "metadata": {
      "needs_background": "light"
     },
     "output_type": "display_data"
    },
    {
     "data": {
      "image/png": "[encoded data removed]",
      "text/plain": [
       "<Figure size 72x72 with 1 Axes>"
      ]
     },
     "metadata": {
      "needs_background": "light"
     },
     "output_type": "display_data"
    }
   ],
   "source": [
    "for i in range(5):\n",
    "    img_mat = (X[np.random.choice(range(len(X)-1))]).reshape(image_size, image_size)\n",
    "    plt.figure(figsize=(1,1))\n",
    "    plt.imshow(img_mat, cmap='gray')\n",
    "    plt.show()"
   ]
  },
  {
   "cell_type": "code",
   "execution_count": 10,
   "metadata": {
    "scrolled": true
   },
   "outputs": [
    {
     "data": {
      "text/plain": [
       "(array([52909., 52911., 52912., 52911., 52912., 52912., 52912., 52912.,\n",
       "        52912., 52911.]),\n",
       " array([0. , 0.9, 1.8, 2.7, 3.6, 4.5, 5.4, 6.3, 7.2, 8.1, 9. ]),\n",
       " <a list of 10 Patch objects>)"
      ]
     },
     "execution_count": 10,
     "metadata": {},
     "output_type": "execute_result"
    },
    {
     "data": {
      "image/png": "[encoded data removed]",
      "text/plain": [
       "<Figure size 432x288 with 1 Axes>"
      ]
     },
     "metadata": {
      "needs_background": "light"
     },
     "output_type": "display_data"
    }
   ],
   "source": [
    "plt.hist(Y)"
   ]
  },
  {
   "cell_type": "code",
   "execution_count": 11,
   "metadata": {
    "scrolled": true
   },
   "outputs": [],
   "source": [
    "class Comparator:\n",
    "    def __init__(self):\n",
    "        self.architectures = []\n",
    "        self.results = []\n",
    "        \n",
    "    def add_row(self, architecture, accuracy):\n",
    "        self.architectures.append(architecture)\n",
    "        self.results.append(accuracy)\n",
    "        \n",
    "    def debug(self):\n",
    "        print('----------------------------------------------------')\n",
    "        print('Best test accuracy found: %.3f' % max(self.results))\n",
    "        \n",
    "        df = pd.DataFrame(zip(self.architectures, self.results), columns=['architecture', 'accuracy'])\n",
    "        \n",
    "        return df"
   ]
  },
  {
   "cell_type": "code",
   "execution_count": 12,
   "metadata": {
    "scrolled": true
   },
   "outputs": [],
   "source": [
    "comparator = Comparator()"
   ]
  },
  {
   "cell_type": "code",
   "execution_count": 13,
   "metadata": {
    "scrolled": true
   },
   "outputs": [],
   "source": [
    "class NetworkTester:\n",
    "    def __init__(\n",
    "            self,\n",
    "            x=[],\n",
    "            y=[],\n",
    "            test_percentage=0.2,\n",
    "            random_state=42,\n",
    "            use_dropout=False,\n",
    "            use_regularization=False,\n",
    "            dropout_prob=0.3,\n",
    "            epochs=30,\n",
    "            dataset_size=10e10,\n",
    "            l1=0,\n",
    "            l2=0,\n",
    "            image_size=28,\n",
    "            hidden_layers_sizes=[],\n",
    "            hidden_layers_activations=[],\n",
    "            optimizer=tf.train.GradientDescentOptimizer(learning_rate=0.01),\n",
    "    ):\n",
    "        self.epochs = epochs\n",
    "        self.X = x[:dataset_size, :] / 255.0\n",
    "        self.Y = y[:dataset_size]\n",
    "        self.random_state = random_state\n",
    "        self.test_percentage = test_percentage\n",
    "        self.X_train, self.X_test, self.y_train, self.y_test = train_test_split(self.X, self.Y,\n",
    "                                                                                test_size=self.test_percentage,\n",
    "                                                                                random_state=self.random_state)\n",
    "        self.use_dropout = use_dropout\n",
    "        self.use_regularization = use_regularization\n",
    "        self.dropout_prob = dropout_prob\n",
    "        self.l1 = l1\n",
    "        self.l2 = l2\n",
    "        self.image_size = image_size\n",
    "        self.hidden_layers_sizes = hidden_layers_sizes\n",
    "        self.hidden_layers_activations = hidden_layers_activations\n",
    "        self.optimizer = optimizer\n",
    "\n",
    "        if len(self.hidden_layers_sizes) != len(self.hidden_layers_activations):\n",
    "            raise Exception('Layer sizes must be equal!')\n",
    "\n",
    "        start = timer()\n",
    "        self.debug()\n",
    "        self.build()\n",
    "        \n",
    "        self.model.summary()\n",
    "        \n",
    "        self.fit(self.X_train, self.y_train)\n",
    "        self.score(self.X_test, self.y_test)\n",
    "\n",
    "        end = timer()\n",
    "        print('----------------------------------------------------------------------------------------')\n",
    "        print('Execution time: %ds' % (end - start))\n",
    "        print('----------------------------------------------------------------------------------------')\n",
    "        print('Accuracy: %.3f' % self.accuracy)\n",
    "        \n",
    "        comparator.add_row(self.network_architecture, self.accuracy)\n",
    "\n",
    "    def debug(self):\n",
    "        self.network_architecture = (' [%d x %d] -> ' % (self.image_size, self.image_size)) + ' -> '.join(\n",
    "            map(lambda x: '[%d] -> %s' % (x[0], x[1].func_name),\n",
    "                zip(self.hidden_layers_sizes, self.hidden_layers_activations))) + ' -> [10] -> softmax'\n",
    "        \n",
    "        print('----------------------------------------------------------------------------------------')\n",
    "        print(self.network_architecture)\n",
    "        print('----------------------------------------------------------------------------------------')\n",
    "        print('Initial arguments:')\n",
    "        print('----------------------------------------------------------------------------------------')\n",
    "        print('X_train shape =', self.X_train.shape)\n",
    "        print('X_test shape =', self.X_test.shape)\n",
    "        print('y_train shape =', self.y_train.shape)\n",
    "        print('y_test shape =', self.y_test.shape)\n",
    "        print('Hidden layers = %d layers' % len(self.hidden_layers_sizes))\n",
    "        print('Epochs to train = %d' % self.epochs)\n",
    "        print('Beta for regularization: l1 = %.3f, l2 = %.3f' % (self.l1, self.l2))\n",
    "        print('Dropout prob = %.3f' % self.dropout_prob)\n",
    "        print('----------------------------------------------------------------------------------------')\n",
    "        print('Initial flags:')\n",
    "        print('----------------------------------------------------------------------------------------')\n",
    "        print('use_dropout=%s, use_regularization=%s' % (self.use_dropout, self.use_regularization))\n",
    "        print('----------------------------------------------------------------------------------------')\n",
    "\n",
    "        plt.title('Train and Test distribution')\n",
    "        plt.subplot(2, 1, 1)\n",
    "        plt.xlabel('Output')\n",
    "        plt.ylabel('N')\n",
    "        plt.hist(self.y_train, label='Train')\n",
    "        plt.legend()\n",
    "        plt.subplot(2, 1, 2)\n",
    "        plt.xlabel('Output')\n",
    "        plt.ylabel('N')\n",
    "        plt.hist(self.y_test, label='Test')\n",
    "        plt.legend()\n",
    "        plt.show()\n",
    "        print('----------------------------------------------------------------------------------------')\n",
    "\n",
    "    def build(self):\n",
    "        model = keras.Sequential()\n",
    "        model.add(keras.layers.Flatten(input_shape=(self.image_size, self.image_size)))\n",
    "\n",
    "        for i in range(len(self.hidden_layers_sizes)):\n",
    "            if self.use_regularization:\n",
    "                model.add(keras.layers.Dense(self.hidden_layers_sizes[i], activation=self.hidden_layers_activations[i],\n",
    "                                             kernel_regularizer=keras.regularizers.l1_l2(l1=self.l1, l2=self.l2),\n",
    "                                             bias_regularizer=keras.regularizers.l1_l2(l1=self.l1, l2=self.l2)))\n",
    "            else:\n",
    "                model.add(keras.layers.Dense(self.hidden_layers_sizes[i], activation=self.hidden_layers_activations[i]))\n",
    "\n",
    "            if self.use_dropout:\n",
    "                model.add(keras.layers.Dropout(rate=self.dropout_prob))\n",
    "\n",
    "        model.add(keras.layers.Dense(10, activation=tf.nn.softmax))\n",
    "        model.compile(optimizer=self.optimizer,\n",
    "                      loss='sparse_categorical_crossentropy',\n",
    "                      metrics=['accuracy'])\n",
    "\n",
    "        self.model = model\n",
    "\n",
    "    def fit(self, x, y):\n",
    "        history = self.model.fit(x, y, epochs=self.epochs)\n",
    "        print('----------------------------------------------------------------------------------------')\n",
    "        accs = list(history.history.get('acc'))\n",
    "        plt.title('Accuracy')\n",
    "        plt.xlabel('Epoch')\n",
    "        plt.ylabel('Accuracy')\n",
    "        plt.plot(accs)\n",
    "        plt.show()\n",
    "\n",
    "    def score(self, x, y):\n",
    "        test_loss, test_acc = self.model.evaluate(x, y)\n",
    "        self.accuracy = test_acc\n"
   ]
  },
  {
   "cell_type": "code",
   "execution_count": 13,
   "metadata": {
    "scrolled": false
   },
   "outputs": [
    {
     "name": "stdout",
     "output_type": "stream",
     "text": [
      "----------------------------------------------------------------------------------------\n",
      " [28 x 28] -> [64] -> relu -> [10] -> softmax\n",
      "----------------------------------------------------------------------------------------\n",
      "Initial arguments:\n",
      "----------------------------------------------------------------------------------------\n",
      "('X_train shape =', (200000, 28, 28))\n",
      "('X_test shape =', (50000, 28, 28))\n",
      "('y_train shape =', (200000,))\n",
      "('y_test shape =', (50000,))\n",
      "Hidden layers = 1 layers\n",
      "Epochs to train = 30\n",
      "Beta for regularization: l1 = 0.000, l2 = 0.000\n",
      "Dropout prob = 0.300\n",
      "----------------------------------------------------------------------------------------\n",
      "Initial flags:\n",
      "----------------------------------------------------------------------------------------\n",
      "use_dropout=False, use_regularization=False\n",
      "----------------------------------------------------------------------------------------\n"
     ]
    },
    {
     "data": {
      "image/png": "[encoded data removed]",
      "text/plain": [
       "<Figure size 432x288 with 2 Axes>"
      ]
     },
     "metadata": {
      "needs_background": "light"
     },
     "output_type": "display_data"
    },
    {
     "name": "stdout",
     "output_type": "stream",
     "text": [
      "----------------------------------------------------------------------------------------\n",
      "_________________________________________________________________\n",
      "Layer (type)                 Output Shape              Param #   \n",
      "=================================================================\n",
      "flatten (Flatten)            (None, 784)               0         \n",
      "_________________________________________________________________\n",
      "dense (Dense)                (None, 64)                50240     \n",
      "_________________________________________________________________\n",
      "dense_1 (Dense)              (None, 10)                650       \n",
      "=================================================================\n",
      "Total params: 50,890\n",
      "Trainable params: 50,890\n",
      "Non-trainable params: 0\n",
      "_________________________________________________________________\n",
      "Epoch 1/30\n",
      "200000/200000 [==============================] - 10s 50us/step - loss: 0.5510 - acc: 0.8413\n",
      "Epoch 2/30\n",
      "200000/200000 [==============================] - 9s 43us/step - loss: 0.4495 - acc: 0.8683: 0s - loss: 0.4488 - acc: 0 - ETA: 0s - loss: 0.4491 - acc: 0\n",
      "Epoch 3/30\n",
      "200000/200000 [==============================] - 8s 42us/step - loss: 0.4185 - acc: 0.8773:\n",
      "Epoch 4/30\n",
      "200000/200000 [==============================] - 8s 42us/step - loss: 0.3994 - acc: 0.8831\n",
      "Epoch 5/30\n",
      "200000/200000 [==============================] - 9s 43us/step - loss: 0.3860 - acc: 0.8865\n",
      "Epoch 6/30\n",
      "200000/200000 [==============================] - 10s 49us/step - loss: 0.3754 - acc: 0.8900 4s - loss - ETA: 3s - loss: - ETA: 0s - loss: 0.3756 - acc: 0.8\n",
      "Epoch 7/30\n",
      "200000/200000 [==============================] - 12s 60us/step - loss: 0.3666 - acc: 0.8916\n",
      "Epoch 8/30\n",
      "200000/200000 [==============================] - 9s 43us/step - loss: 0.3590 - acc: 0.8943\n",
      "Epoch 9/30\n",
      "200000/200000 [==============================] - 12s 61us/step - loss: 0.3529 - acc: 0.8956\n",
      "Epoch 10/30\n",
      "200000/200000 [==============================] - 11s 57us/step - loss: 0.3470 - acc: 0.8972 8s - loss: 0.3416 - ac - ETA: 7s - lo\n",
      "Epoch 11/30\n",
      "200000/200000 [==============================] - 10s 49us/step - loss: 0.3424 - acc: 0.8989 1s - lo\n",
      "Epoch 12/30\n",
      "200000/200000 [==============================] - 9s 43us/step - loss: 0.3386 - acc: 0.8996\n",
      "Epoch 13/30\n",
      "200000/200000 [==============================] - 9s 43us/step - loss: 0.3342 - acc: 0.9011\n",
      "Epoch 14/30\n",
      "200000/200000 [==============================] - 9s 43us/step - loss: 0.3308 - acc: 0.9022\n",
      "Epoch 15/30\n",
      "200000/200000 [==============================] - 9s 44us/step - loss: 0.3272 - acc: 0.9029: 0s - loss: 0\n",
      "Epoch 16/30\n",
      "200000/200000 [==============================] - 9s 43us/step - loss: 0.3243 - acc: 0.9039\n",
      "Epoch 17/30\n",
      "200000/200000 [==============================] - 9s 43us/step - loss: 0.3215 - acc: 0.9047\n",
      "Epoch 18/30\n",
      "200000/200000 [==============================] - 12s 62us/step - loss: 0.3178 - acc: 0.9054\n",
      "Epoch 19/30\n",
      "200000/200000 [==============================] - 10s 49us/step - loss: 0.3157 - acc: 0.9055\n",
      "Epoch 20/30\n",
      "200000/200000 [==============================] - 9s 47us/step - loss: 0.3133 - acc: 0.9064: 2s - loss: 0.3151 - ac - ETA\n",
      "Epoch 21/30\n",
      "200000/200000 [==============================] - 9s 44us/step - loss: 0.3111 - acc: 0.9078\n",
      "Epoch 22/30\n",
      "200000/200000 [==============================] - 11s 56us/step - loss: 0.3089 - acc: 0.9081 4s - loss: 0.3 - E\n",
      "Epoch 23/30\n",
      "200000/200000 [==============================] - 10s 50us/step - loss: 0.3067 - acc: 0.9089\n",
      "Epoch 24/30\n",
      "200000/200000 [==============================] - 10s 49us/step - loss: 0.3044 - acc: 0.9098\n",
      "Epoch 25/30\n",
      "200000/200000 [==============================] - 10s 51us/step - loss: 0.3027 - acc: 0.9096 6s - loss: 0.2986 - acc: 0.9 - ETA: 5s  - ETA: - ETA: 3s - loss: 0.299 -  - ET\n",
      "Epoch 26/30\n",
      "200000/200000 [==============================] - 10s 51us/step - loss: 0.3007 - acc: 0.9105\n",
      "Epoch 27/30\n",
      "200000/200000 [==============================] - 10s 48us/step - loss: 0.2989 - acc: 0.9111\n",
      "Epoch 28/30\n",
      "200000/200000 [==============================] - ETA: 0s - loss: 0.2973 - acc: 0.9115- ETA: 5s  - 9s 43us/step - loss: 0.2975 - acc: 0.9114\n",
      "Epoch 29/30\n",
      "200000/200000 [==============================] - 9s 43us/step - loss: 0.2956 - acc: 0.9119: 4s - los - ETA: 3s - loss\n",
      "Epoch 30/30\n",
      "200000/200000 [==============================] - 9s 43us/step - loss: 0.2942 - acc: 0.9122\n",
      "----------------------------------------------------------------------------------------\n"
     ]
    },
    {
     "data": {
      "image/png": "[encoded data removed]",
      "text/plain": [
       "<Figure size 432x288 with 1 Axes>"
      ]
     },
     "metadata": {
      "needs_background": "light"
     },
     "output_type": "display_data"
    },
    {
     "name": "stdout",
     "output_type": "stream",
     "text": [
      "50000/50000 [==============================] - 2s 34us/step\n",
      "----------------------------------------------------------------------------------------\n",
      "Execution time: 289s\n",
      "----------------------------------------------------------------------------------------\n",
      "Accuracy: 0.885\n"
     ]
    },
    {
     "data": {
      "text/plain": [
       "<__main__.NetworkTester instance at 0x128515a28>"
      ]
     },
     "execution_count": 13,
     "metadata": {},
     "output_type": "execute_result"
    }
   ],
   "source": [
    "NetworkTester(x=X, \n",
    "              y=Y,\n",
    "              hidden_layers_sizes=[64],\n",
    "              hidden_layers_activations=[tf.nn.relu],\n",
    "              dataset_size=250000,\n",
    "              optimizer=tf.train.GradientDescentOptimizer(learning_rate=0.05))"
   ]
  },
  {
   "cell_type": "code",
   "execution_count": 14,
   "metadata": {
    "scrolled": false
   },
   "outputs": [
    {
     "name": "stdout",
     "output_type": "stream",
     "text": [
      "----------------------------------------------------------------------------------------\n",
      " [28 x 28] -> [128] -> relu -> [10] -> softmax\n",
      "----------------------------------------------------------------------------------------\n",
      "Initial arguments:\n",
      "----------------------------------------------------------------------------------------\n",
      "('X_train shape =', (200000, 28, 28))\n",
      "('X_test shape =', (50000, 28, 28))\n",
      "('y_train shape =', (200000,))\n",
      "('y_test shape =', (50000,))\n",
      "Hidden layers = 1 layers\n",
      "Epochs to train = 30\n",
      "Beta for regularization: l1 = 0.000, l2 = 0.000\n",
      "Dropout prob = 0.300\n",
      "----------------------------------------------------------------------------------------\n",
      "Initial flags:\n",
      "----------------------------------------------------------------------------------------\n",
      "use_dropout=False, use_regularization=False\n",
      "----------------------------------------------------------------------------------------\n"
     ]
    },
    {
     "data": {
      "image/png": "[encoded data removed]",
      "text/plain": [
       "<Figure size 432x288 with 2 Axes>"
      ]
     },
     "metadata": {
      "needs_background": "light"
     },
     "output_type": "display_data"
    },
    {
     "name": "stdout",
     "output_type": "stream",
     "text": [
      "----------------------------------------------------------------------------------------\n",
      "_________________________________________________________________\n",
      "Layer (type)                 Output Shape              Param #   \n",
      "=================================================================\n",
      "flatten_1 (Flatten)          (None, 784)               0         \n",
      "_________________________________________________________________\n",
      "dense_2 (Dense)              (None, 128)               100480    \n",
      "_________________________________________________________________\n",
      "dense_3 (Dense)              (None, 10)                1290      \n",
      "=================================================================\n",
      "Total params: 101,770\n",
      "Trainable params: 101,770\n",
      "Non-trainable params: 0\n",
      "_________________________________________________________________\n",
      "Epoch 1/30\n",
      "200000/200000 [==============================] - 16s 80us/step - loss: 0.5346 - acc: 0.8451\n",
      "Epoch 2/30\n",
      "200000/200000 [==============================] - 10s 52us/step - loss: 0.4249 - acc: 0.8756\n",
      "Epoch 3/30\n",
      "200000/200000 [==============================] - 11s 53us/step - loss: 0.3874 - acc: 0.8865\n",
      "Epoch 4/30\n",
      "200000/200000 [==============================] - 10s 51us/step - loss: 0.3647 - acc: 0.8926 9s - \n",
      "Epoch 5/30\n",
      "200000/200000 [==============================] - 10s 51us/step - loss: 0.3483 - acc: 0.8976\n",
      "Epoch 6/30\n",
      "200000/200000 [==============================] - 11s 53us/step - loss: 0.3354 - acc: 0.9015\n",
      "Epoch 7/30\n",
      "200000/200000 [==============================] - 11s 56us/step - loss: 0.3242 - acc: 0.9043\n",
      "Epoch 8/30\n",
      "200000/200000 [==============================] - 10s 51us/step - loss: 0.3149 - acc: 0.9073 1s\n",
      "Epoch 9/30\n",
      "200000/200000 [==============================] - 12s 58us/step - loss: 0.3065 - acc: 0.9098\n",
      "Epoch 10/30\n",
      "200000/200000 [==============================] - 12s 60us/step - loss: 0.2985 - acc: 0.9117\n",
      "Epoch 11/30\n",
      "200000/200000 [==============================] - 14s 69us/step - loss: 0.2914 - acc: 0.9140\n",
      "Epoch 12/30\n",
      "200000/200000 [==============================] - 11s 53us/step - loss: 0.2852 - acc: 0.9153 2s - loss: 0 - ETA: 1s -  - ETA: 0s - loss: 0.2844 - ac\n",
      "Epoch 13/30\n",
      "200000/200000 [==============================] - 13s 66us/step - loss: 0.2798 - acc: 0.9168 0s - loss: 0.27\n",
      "Epoch 14/30\n",
      "200000/200000 [==============================] - 16s 81us/step - loss: 0.2739 - acc: 0.9187 0s - loss: 0.2739 - acc: 0.918\n",
      "Epoch 15/30\n",
      "200000/200000 [==============================] - 11s 56us/step - loss: 0.2687 - acc: 0.9203 1s - lo\n",
      "Epoch 16/30\n",
      "200000/200000 [==============================] - 12s 58us/step - loss: 0.2637 - acc: 0.9215\n",
      "Epoch 17/30\n",
      "200000/200000 [==============================] - 17s 87us/step - loss: 0.2594 - acc: 0.9228 4s - l\n",
      "Epoch 18/30\n",
      "200000/200000 [==============================] - 13s 65us/step - loss: 0.2550 - acc: 0.9237 0s - loss: 0.2550 - acc: 0.923\n",
      "Epoch 19/30\n",
      "200000/200000 [==============================] - 12s 62us/step - loss: 0.2513 - acc: 0.9246\n",
      "Epoch 20/30\n",
      "200000/200000 [==============================] - 14s 70us/step - loss: 0.2472 - acc: 0.9265\n",
      "Epoch 21/30\n",
      "200000/200000 [==============================] - 14s 72us/step - loss: 0.2428 - acc: 0.9279\n",
      "Epoch 22/30\n",
      "200000/200000 [==============================] - 11s 53us/step - loss: 0.2394 - acc: 0.9281 1s - los\n",
      "Epoch 23/30\n",
      "200000/200000 [==============================] - 10s 48us/step - loss: 0.2358 - acc: 0.9293\n",
      "Epoch 24/30\n",
      "200000/200000 [==============================] - 10s 48us/step - loss: 0.2325 - acc: 0.9304\n",
      "Epoch 25/30\n",
      "200000/200000 [==============================] - 10s 48us/step - loss: 0.2297 - acc: 0.9309\n",
      "Epoch 26/30\n",
      "200000/200000 [==============================] - 12s 60us/step - loss: 0.2259 - acc: 0.9320\n",
      "Epoch 27/30\n",
      "200000/200000 [==============================] - 11s 53us/step - loss: 0.2232 - acc: 0.9333\n",
      "Epoch 28/30\n",
      "200000/200000 [==============================] - 11s 53us/step - loss: 0.2200 - acc: 0.9345\n",
      "Epoch 29/30\n",
      "200000/200000 [==============================] - 11s 53us/step - loss: 0.2174 - acc: 0.9349\n",
      "Epoch 30/30\n",
      "200000/200000 [==============================] - 11s 54us/step - loss: 0.2147 - acc: 0.9354 1s - loss: 0.2148 - acc: 0.9 - \n",
      "----------------------------------------------------------------------------------------\n"
     ]
    },
    {
     "data": {
      "image/png": "[encoded data removed]",
      "text/plain": [
       "<Figure size 432x288 with 1 Axes>"
      ]
     },
     "metadata": {
      "needs_background": "light"
     },
     "output_type": "display_data"
    },
    {
     "name": "stdout",
     "output_type": "stream",
     "text": [
      "50000/50000 [==============================] - 2s 42us/step\n",
      "----------------------------------------------------------------------------------------\n",
      "Execution time: 358s\n",
      "----------------------------------------------------------------------------------------\n",
      "Accuracy: 0.893\n"
     ]
    },
    {
     "data": {
      "text/plain": [
       "<__main__.NetworkTester instance at 0x128ffd5a8>"
      ]
     },
     "execution_count": 14,
     "metadata": {},
     "output_type": "execute_result"
    }
   ],
   "source": [
    "NetworkTester(x=X, \n",
    "              y=Y,\n",
    "              hidden_layers_sizes=[128],\n",
    "              hidden_layers_activations=[tf.nn.relu],\n",
    "              dataset_size=250000,\n",
    "              optimizer=tf.train.GradientDescentOptimizer(learning_rate=0.05))"
   ]
  },
  {
   "cell_type": "code",
   "execution_count": 15,
   "metadata": {
    "scrolled": false
   },
   "outputs": [
    {
     "name": "stdout",
     "output_type": "stream",
     "text": [
      "----------------------------------------------------------------------------------------\n",
      " [28 x 28] -> [256] -> relu -> [10] -> softmax\n",
      "----------------------------------------------------------------------------------------\n",
      "Initial arguments:\n",
      "----------------------------------------------------------------------------------------\n",
      "('X_train shape =', (200000, 28, 28))\n",
      "('X_test shape =', (50000, 28, 28))\n",
      "('y_train shape =', (200000,))\n",
      "('y_test shape =', (50000,))\n",
      "Hidden layers = 1 layers\n",
      "Epochs to train = 30\n",
      "Beta for regularization: l1 = 0.000, l2 = 0.000\n",
      "Dropout prob = 0.300\n",
      "----------------------------------------------------------------------------------------\n",
      "Initial flags:\n",
      "----------------------------------------------------------------------------------------\n",
      "use_dropout=False, use_regularization=False\n",
      "----------------------------------------------------------------------------------------\n"
     ]
    },
    {
     "data": {
      "image/png": "[encoded data removed]",
      "text/plain": [
       "<Figure size 432x288 with 2 Axes>"
      ]
     },
     "metadata": {
      "needs_background": "light"
     },
     "output_type": "display_data"
    },
    {
     "name": "stdout",
     "output_type": "stream",
     "text": [
      "----------------------------------------------------------------------------------------\n",
      "_________________________________________________________________\n",
      "Layer (type)                 Output Shape              Param #   \n",
      "=================================================================\n",
      "flatten_2 (Flatten)          (None, 784)               0         \n",
      "_________________________________________________________________\n",
      "dense_4 (Dense)              (None, 256)               200960    \n",
      "_________________________________________________________________\n",
      "dense_5 (Dense)              (None, 10)                2570      \n",
      "=================================================================\n",
      "Total params: 203,530\n",
      "Trainable params: 203,530\n",
      "Non-trainable params: 0\n",
      "_________________________________________________________________\n",
      "Epoch 1/30\n",
      "200000/200000 [==============================] - 14s 69us/step - loss: 0.5203 - acc: 0.8497\n",
      "Epoch 2/30\n",
      "200000/200000 [==============================] - 14s 70us/step - loss: 0.4078 - acc: 0.8809\n",
      "Epoch 3/30\n",
      "200000/200000 [==============================] - 14s 68us/step - loss: 0.3683 - acc: 0.8915\n",
      "Epoch 4/30\n",
      "200000/200000 [==============================] - 13s 66us/step - loss: 0.3421 - acc: 0.8993 3s \n",
      "Epoch 5/30\n",
      "200000/200000 [==============================] - 13s 65us/step - loss: 0.3227 - acc: 0.9051\n",
      "Epoch 6/30\n",
      "200000/200000 [==============================] - 17s 85us/step - loss: 0.3069 - acc: 0.9093\n",
      "Epoch 7/30\n",
      "200000/200000 [==============================] - 17s 86us/step - loss: 0.2928 - acc: 0.9132\n",
      "Epoch 8/30\n",
      "200000/200000 [==============================] - 13s 65us/step - loss: 0.2807 - acc: 0.9166\n",
      "Epoch 9/30\n",
      "200000/200000 [==============================] - 13s 66us/step - loss: 0.2693 - acc: 0.9198\n",
      "Epoch 10/30\n",
      "200000/200000 [==============================] - 13s 65us/step - loss: 0.2588 - acc: 0.9226\n",
      "Epoch 11/30\n",
      "200000/200000 [==============================] - 13s 64us/step - loss: 0.2506 - acc: 0.9255\n",
      "Epoch 12/30\n",
      "200000/200000 [==============================] - 13s 65us/step - loss: 0.2407 - acc: 0.9284\n",
      "Epoch 13/30\n",
      "200000/200000 [==============================] - 13s 66us/step - loss: 0.2322 - acc: 0.9307\n",
      "Epoch 14/30\n",
      "200000/200000 [==============================] - 13s 66us/step - loss: 0.2246 - acc: 0.9328\n",
      "Epoch 15/30\n",
      "200000/200000 [==============================] - 13s 66us/step - loss: 0.2174 - acc: 0.9344\n",
      "Epoch 16/30\n",
      "200000/200000 [==============================] - 18s 88us/step - loss: 0.2102 - acc: 0.9377 5s - loss: 0.2073 - a - ETA: 4s -  - ETA: 3s - loss: 0.2\n",
      "Epoch 17/30\n",
      "200000/200000 [==============================] - 17s 85us/step - loss: 0.2031 - acc: 0.9387 0s - loss: 0.2031 - acc: 0.93\n",
      "Epoch 18/30\n",
      "200000/200000 [==============================] - 14s 72us/step - loss: 0.1970 - acc: 0.9410 0s - loss: 0.1970 - a\n",
      "Epoch 19/30\n",
      "200000/200000 [==============================] - 15s 75us/step - loss: 0.1906 - acc: 0.9429 2s - loss: 0.1888  - \n",
      "Epoch 20/30\n",
      "200000/200000 [==============================] - 14s 72us/step - loss: 0.1844 - acc: 0.9449\n",
      "Epoch 21/30\n",
      "200000/200000 [==============================] - 16s 79us/step - loss: 0.1798 - acc: 0.9459\n",
      "Epoch 22/30\n",
      "200000/200000 [==============================] - 14s 72us/step - loss: 0.1740 - acc: 0.9480\n",
      "Epoch 23/30\n",
      "200000/200000 [==============================] - 14s 72us/step - loss: 0.1677 - acc: 0.9504\n",
      "Epoch 24/30\n",
      "200000/200000 [==============================] - 15s 73us/step - loss: 0.1635 - acc: 0.9514\n",
      "Epoch 25/30\n",
      "200000/200000 [==============================] - 15s 73us/step - loss: 0.1584 - acc: 0.9525\n",
      "Epoch 26/30\n",
      "200000/200000 [==============================] - 15s 73us/step - loss: 0.1546 - acc: 0.9539 1s - \n",
      "Epoch 27/30\n",
      "200000/200000 [==============================] - 15s 74us/step - loss: 0.1497 - acc: 0.9553\n",
      "Epoch 28/30\n",
      "200000/200000 [==============================] - 14s 70us/step - loss: 0.1452 - acc: 0.9568\n",
      "Epoch 29/30\n",
      "200000/200000 [==============================] - 13s 67us/step - loss: 0.1409 - acc: 0.9582\n",
      "Epoch 30/30\n",
      "200000/200000 [==============================] - 14s 68us/step - loss: 0.1384 - acc: 0.9589 - ETA: 0s - loss: 0.1380 - ac\n",
      "----------------------------------------------------------------------------------------\n"
     ]
    },
    {
     "data": {
      "image/png": "[encoded data removed]",
      "text/plain": [
       "<Figure size 432x288 with 1 Axes>"
      ]
     },
     "metadata": {
      "needs_background": "light"
     },
     "output_type": "display_data"
    },
    {
     "name": "stdout",
     "output_type": "stream",
     "text": [
      "50000/50000 [==============================] - 3s 56us/step\n",
      "----------------------------------------------------------------------------------------\n",
      "Execution time: 433s\n",
      "----------------------------------------------------------------------------------------\n",
      "Accuracy: 0.898\n"
     ]
    },
    {
     "data": {
      "text/plain": [
       "<__main__.NetworkTester instance at 0x128ffdd40>"
      ]
     },
     "execution_count": 15,
     "metadata": {},
     "output_type": "execute_result"
    }
   ],
   "source": [
    "NetworkTester(x=X, \n",
    "              y=Y,\n",
    "              hidden_layers_sizes=[256],\n",
    "              hidden_layers_activations=[tf.nn.relu],\n",
    "              dataset_size=250000,\n",
    "              optimizer=tf.train.GradientDescentOptimizer(learning_rate=0.05))"
   ]
  },
  {
   "cell_type": "code",
   "execution_count": 16,
   "metadata": {
    "scrolled": false
   },
   "outputs": [
    {
     "name": "stdout",
     "output_type": "stream",
     "text": [
      "----------------------------------------------------------------------------------------\n",
      " [28 x 28] -> [784] -> relu -> [10] -> softmax\n",
      "----------------------------------------------------------------------------------------\n",
      "Initial arguments:\n",
      "----------------------------------------------------------------------------------------\n",
      "('X_train shape =', (200000, 28, 28))\n",
      "('X_test shape =', (50000, 28, 28))\n",
      "('y_train shape =', (200000,))\n",
      "('y_test shape =', (50000,))\n",
      "Hidden layers = 1 layers\n",
      "Epochs to train = 30\n",
      "Beta for regularization: l1 = 0.000, l2 = 0.000\n",
      "Dropout prob = 0.300\n",
      "----------------------------------------------------------------------------------------\n",
      "Initial flags:\n",
      "----------------------------------------------------------------------------------------\n",
      "use_dropout=False, use_regularization=False\n",
      "----------------------------------------------------------------------------------------\n"
     ]
    },
    {
     "data": {
      "image/png": "[encoded data removed]",
      "text/plain": [
       "<Figure size 432x288 with 2 Axes>"
      ]
     },
     "metadata": {
      "needs_background": "light"
     },
     "output_type": "display_data"
    },
    {
     "name": "stdout",
     "output_type": "stream",
     "text": [
      "----------------------------------------------------------------------------------------\n",
      "_________________________________________________________________\n",
      "Layer (type)                 Output Shape              Param #   \n",
      "=================================================================\n",
      "flatten_3 (Flatten)          (None, 784)               0         \n",
      "_________________________________________________________________\n",
      "dense_6 (Dense)              (None, 784)               615440    \n",
      "_________________________________________________________________\n",
      "dense_7 (Dense)              (None, 10)                7850      \n",
      "=================================================================\n",
      "Total params: 623,290\n",
      "Trainable params: 623,290\n",
      "Non-trainable params: 0\n",
      "_________________________________________________________________\n",
      "Epoch 1/30\n",
      "200000/200000 [==============================] - 30s 150us/step - loss: 0.5088 - acc: 0.8531\n",
      "Epoch 2/30\n",
      "200000/200000 [==============================] - 31s 155us/step - loss: 0.3916 - acc: 0.8853\n",
      "Epoch 3/30\n",
      "200000/200000 [==============================] - 28s 138us/step - loss: 0.3477 - acc: 0.8983\n",
      "Epoch 4/30\n",
      "200000/200000 [==============================] - 28s 139us/step - loss: 0.3177 - acc: 0.9069\n",
      "Epoch 5/30\n",
      "200000/200000 [==============================] - 28s 141us/step - loss: 0.2935 - acc: 0.9139\n",
      "Epoch 6/30\n",
      "200000/200000 [==============================] - 28s 142us/step - loss: 0.2743 - acc: 0.9191\n",
      "Epoch 7/30\n",
      "200000/200000 [==============================] - 28s 140us/step - loss: 0.2562 - acc: 0.9243\n",
      "Epoch 8/30\n",
      "200000/200000 [==============================] - 28s 141us/step - loss: 0.2403 - acc: 0.9283\n",
      "Epoch 9/30\n",
      "200000/200000 [==============================] - 31s 155us/step - loss: 0.2255 - acc: 0.9325TA: 5s - loss: 0.2252 - acc:  - ETA: 0s - loss: 0.225 - ETA: 0s - loss: 0.2256 - acc: 0.93\n",
      "Epoch 10/30\n",
      "200000/200000 [==============================] - 28s 141us/step - loss: 0.2108 - acc: 0.9373\n",
      "Epoch 11/30\n",
      "200000/200000 [==============================] - 27s 137us/step - loss: 0.1976 - acc: 0.94140s - loss: 0.1972\n",
      "Epoch 12/30\n",
      "200000/200000 [==============================] - 29s 143us/step - loss: 0.1850 - acc: 0.9448\n",
      "Epoch 13/30\n",
      "200000/200000 [==============================] - 30s 150us/step - loss: 0.1733 - acc: 0.9488\n",
      "Epoch 14/30\n",
      "200000/200000 [==============================] - 29s 144us/step - loss: 0.1627 - acc: 0.9522\n",
      "Epoch 15/30\n",
      "200000/200000 [==============================] - 29s 146us/step - loss: 0.1520 - acc: 0.9553\n",
      "Epoch 16/30\n",
      "200000/200000 [==============================] - 30s 148us/step - loss: 0.1429 - acc: 0.9584\n",
      "Epoch 17/30\n",
      "200000/200000 [==============================] - 29s 146us/step - loss: 0.1335 - acc: 0.9614\n",
      "Epoch 18/30\n",
      "200000/200000 [==============================] - 28s 138us/step - loss: 0.1244 - acc: 0.9643\n",
      "Epoch 19/30\n",
      "200000/200000 [==============================] - 27s 137us/step - loss: 0.1168 - acc: 0.9667\n",
      "Epoch 20/30\n",
      "200000/200000 [==============================] - 26s 131us/step - loss: 0.1102 - acc: 0.9688\n",
      "Epoch 21/30\n",
      "200000/200000 [==============================] - 27s 136us/step - loss: 0.1029 - acc: 0.9712\n",
      "Epoch 22/30\n",
      "200000/200000 [==============================] - 26s 130us/step - loss: 0.0964 - acc: 0.9734\n",
      "Epoch 23/30\n",
      "200000/200000 [==============================] - 31s 155us/step - loss: 0.0902 - acc: 0.9750\n",
      "Epoch 24/30\n",
      "200000/200000 [==============================] - 28s 138us/step - loss: 0.0854 - acc: 0.9767\n",
      "Epoch 25/30\n",
      "200000/200000 [==============================] - 28s 138us/step - loss: 0.0811 - acc: 0.9776\n",
      "Epoch 26/30\n",
      "200000/200000 [==============================] - 29s 143us/step - loss: 0.0763 - acc: 0.9794\n",
      "Epoch 27/30\n",
      "200000/200000 [==============================] - 29s 144us/step - loss: 0.0714 - acc: 0.9809\n",
      "Epoch 28/30\n",
      "200000/200000 [==============================] - 26s 130us/step - loss: 0.0682 - acc: 0.9820\n",
      "Epoch 29/30\n",
      "200000/200000 [==============================] - 34s 171us/step - loss: 0.0648 - acc: 0.9829\n",
      "Epoch 30/30\n",
      "200000/200000 [==============================] - 28s 139us/step - loss: 0.0614 - acc: 0.9838\n",
      "----------------------------------------------------------------------------------------\n"
     ]
    },
    {
     "data": {
      "image/png": "[encoded data removed]",
      "text/plain": [
       "<Figure size 432x288 with 1 Axes>"
      ]
     },
     "metadata": {
      "needs_background": "light"
     },
     "output_type": "display_data"
    },
    {
     "name": "stdout",
     "output_type": "stream",
     "text": [
      "50000/50000 [==============================] - ETA:  - 4s 84us/step\n",
      "----------------------------------------------------------------------------------------\n",
      "Execution time: 862s\n",
      "----------------------------------------------------------------------------------------\n",
      "Accuracy: 0.908\n"
     ]
    },
    {
     "data": {
      "text/plain": [
       "<__main__.NetworkTester instance at 0x12866da70>"
      ]
     },
     "execution_count": 16,
     "metadata": {},
     "output_type": "execute_result"
    }
   ],
   "source": [
    "NetworkTester(x=X, \n",
    "              y=Y,\n",
    "              hidden_layers_sizes=[image_size * image_size],\n",
    "              hidden_layers_activations=[tf.nn.relu],\n",
    "              dataset_size=250000,\n",
    "              optimizer=tf.train.GradientDescentOptimizer(learning_rate=0.05))"
   ]
  },
  {
   "cell_type": "code",
   "execution_count": 17,
   "metadata": {
    "scrolled": false
   },
   "outputs": [
    {
     "name": "stdout",
     "output_type": "stream",
     "text": [
      "----------------------------------------------------------------------------------------\n",
      " [28 x 28] -> [784] -> tanh -> [10] -> softmax\n",
      "----------------------------------------------------------------------------------------\n",
      "Initial arguments:\n",
      "----------------------------------------------------------------------------------------\n",
      "('X_train shape =', (200000, 28, 28))\n",
      "('X_test shape =', (50000, 28, 28))\n",
      "('y_train shape =', (200000,))\n",
      "('y_test shape =', (50000,))\n",
      "Hidden layers = 1 layers\n",
      "Epochs to train = 30\n",
      "Beta for regularization: l1 = 0.000, l2 = 0.000\n",
      "Dropout prob = 0.300\n",
      "----------------------------------------------------------------------------------------\n",
      "Initial flags:\n",
      "----------------------------------------------------------------------------------------\n",
      "use_dropout=False, use_regularization=False\n",
      "----------------------------------------------------------------------------------------\n"
     ]
    },
    {
     "data": {
      "image/png": "[encoded data removed]",
      "text/plain": [
       "<Figure size 432x288 with 2 Axes>"
      ]
     },
     "metadata": {
      "needs_background": "light"
     },
     "output_type": "display_data"
    },
    {
     "name": "stdout",
     "output_type": "stream",
     "text": [
      "----------------------------------------------------------------------------------------\n",
      "_________________________________________________________________\n",
      "Layer (type)                 Output Shape              Param #   \n",
      "=================================================================\n",
      "flatten_4 (Flatten)          (None, 784)               0         \n",
      "_________________________________________________________________\n",
      "dense_8 (Dense)              (None, 784)               615440    \n",
      "_________________________________________________________________\n",
      "dense_9 (Dense)              (None, 10)                7850      \n",
      "=================================================================\n",
      "Total params: 623,290\n",
      "Trainable params: 623,290\n",
      "Non-trainable params: 0\n",
      "_________________________________________________________________\n",
      "Epoch 1/30\n",
      "200000/200000 [==============================] - 28s 141us/step - loss: 0.5880 - acc: 0.8354\n",
      "Epoch 2/30\n",
      "200000/200000 [==============================] - 10820s 54ms/step - loss: 0.4653 - acc: 0.8645\n",
      "Epoch 3/30\n",
      "200000/200000 [==============================] - 1817s 9ms/step - loss: 0.4112 - acc: 0.8788\n",
      "Epoch 4/30\n",
      "200000/200000 [==============================] - 34s 172us/step - loss: 0.3756 - acc: 0.8886\n",
      "Epoch 5/30\n",
      "200000/200000 [==============================] - 30s 150us/step - loss: 0.3487 - acc: 0.8962\n",
      "Epoch 6/30\n",
      "200000/200000 [==============================] - 33s 165us/step - loss: 0.3266 - acc: 0.9021\n",
      "Epoch 7/30\n",
      "200000/200000 [==============================] - 35s 173us/step - loss: 0.3077 - acc: 0.9072\n",
      "Epoch 8/30\n",
      "200000/200000 [==============================] - 28s 139us/step - loss: 0.2910 - acc: 0.9120\n",
      "Epoch 9/30\n",
      "200000/200000 [==============================] - 39s 196us/step - loss: 0.2763 - acc: 0.9163\n",
      "Epoch 10/30\n",
      "200000/200000 [==============================] - 28s 139us/step - loss: 0.2616 - acc: 0.9209\n",
      "Epoch 11/30\n",
      "200000/200000 [==============================] - 35s 173us/step - loss: 0.2476 - acc: 0.9244\n",
      "Epoch 12/30\n",
      "200000/200000 [==============================] - 32s 160us/step - loss: 0.2355 - acc: 0.9283\n",
      "Epoch 13/30\n",
      "200000/200000 [==============================] - 30s 151us/step - loss: 0.2244 - acc: 0.9315\n",
      "Epoch 14/30\n",
      "200000/200000 [==============================] - 26s 130us/step - loss: 0.2115 - acc: 0.9349\n",
      "Epoch 15/30\n",
      "200000/200000 [==============================] - 33s 163us/step - loss: 0.2008 - acc: 0.9383\n",
      "Epoch 16/30\n",
      "200000/200000 [==============================] - 27s 135us/step - loss: 0.1909 - acc: 0.9413\n",
      "Epoch 17/30\n",
      "200000/200000 [==============================] - 34s 171us/step - loss: 0.1799 - acc: 0.9444\n",
      "Epoch 18/30\n",
      "200000/200000 [==============================] - 27s 133us/step - loss: 0.1698 - acc: 0.9479\n",
      "Epoch 19/30\n",
      "200000/200000 [==============================] - 26s 132us/step - loss: 0.1607 - acc: 0.95061s - los\n",
      "Epoch 20/30\n",
      "200000/200000 [==============================] - 29s 143us/step - loss: 0.1518 - acc: 0.9533\n",
      "Epoch 21/30\n",
      "200000/200000 [==============================] - 30s 148us/step - loss: 0.1428 - acc: 0.9564\n",
      "Epoch 22/30\n",
      "200000/200000 [==============================] - 29s 147us/step - loss: 0.1351 - acc: 0.9587\n",
      "Epoch 23/30\n",
      "200000/200000 [==============================] - 29s 147us/step - loss: 0.1266 - acc: 0.9615\n",
      "Epoch 24/30\n",
      "200000/200000 [==============================] - 30s 148us/step - loss: 0.1198 - acc: 0.9642\n",
      "Epoch 25/30\n",
      "200000/200000 [==============================] - 31s 154us/step - loss: 0.1128 - acc: 0.9658\n",
      "Epoch 26/30\n",
      "200000/200000 [==============================] - 30s 149us/step - loss: 0.1062 - acc: 0.9685\n",
      "Epoch 27/30\n",
      "200000/200000 [==============================] - 28s 142us/step - loss: 0.0997 - acc: 0.9705\n",
      "Epoch 28/30\n",
      "200000/200000 [==============================] - 27s 137us/step - loss: 0.0939 - acc: 0.9731\n",
      "Epoch 29/30\n",
      "200000/200000 [==============================] - 31s 153us/step - loss: 0.0891 - acc: 0.9741\n",
      "Epoch 30/30\n",
      "200000/200000 [==============================] - 29s 145us/step - loss: 0.0833 - acc: 0.9763\n",
      "----------------------------------------------------------------------------------------\n"
     ]
    },
    {
     "data": {
      "image/png": "[encoded data removed]",
      "text/plain": [
       "<Figure size 432x288 with 1 Axes>"
      ]
     },
     "metadata": {
      "needs_background": "light"
     },
     "output_type": "display_data"
    },
    {
     "name": "stdout",
     "output_type": "stream",
     "text": [
      "50000/50000 [==============================] - 4s 89us/step\n",
      "----------------------------------------------------------------------------------------\n",
      "Execution time: 13489s\n",
      "----------------------------------------------------------------------------------------\n",
      "Accuracy: 0.904\n"
     ]
    },
    {
     "data": {
      "text/plain": [
       "<__main__.NetworkTester instance at 0x1294e9098>"
      ]
     },
     "execution_count": 17,
     "metadata": {},
     "output_type": "execute_result"
    }
   ],
   "source": [
    "NetworkTester(x=X, \n",
    "              y=Y,\n",
    "              hidden_layers_sizes=[image_size * image_size],\n",
    "              hidden_layers_activations=[tf.nn.tanh],\n",
    "              dataset_size=250000,\n",
    "              optimizer=tf.train.GradientDescentOptimizer(learning_rate=0.05))"
   ]
  },
  {
   "cell_type": "code",
   "execution_count": 18,
   "metadata": {
    "scrolled": false
   },
   "outputs": [
    {
     "name": "stdout",
     "output_type": "stream",
     "text": [
      "----------------------------------------------------------------------------------------\n",
      " [28 x 28] -> [784] -> relu -> [784] -> relu -> [10] -> softmax\n",
      "----------------------------------------------------------------------------------------\n",
      "Initial arguments:\n",
      "----------------------------------------------------------------------------------------\n",
      "('X_train shape =', (200000, 28, 28))\n",
      "('X_test shape =', (50000, 28, 28))\n",
      "('y_train shape =', (200000,))\n",
      "('y_test shape =', (50000,))\n",
      "Hidden layers = 2 layers\n",
      "Epochs to train = 30\n",
      "Beta for regularization: l1 = 0.000, l2 = 0.000\n",
      "Dropout prob = 0.300\n",
      "----------------------------------------------------------------------------------------\n",
      "Initial flags:\n",
      "----------------------------------------------------------------------------------------\n",
      "use_dropout=False, use_regularization=False\n",
      "----------------------------------------------------------------------------------------\n"
     ]
    },
    {
     "data": {
      "image/png": "[encoded data removed]",
      "text/plain": [
       "<Figure size 432x288 with 2 Axes>"
      ]
     },
     "metadata": {
      "needs_background": "light"
     },
     "output_type": "display_data"
    },
    {
     "name": "stdout",
     "output_type": "stream",
     "text": [
      "----------------------------------------------------------------------------------------\n",
      "_________________________________________________________________\n",
      "Layer (type)                 Output Shape              Param #   \n",
      "=================================================================\n",
      "flatten_5 (Flatten)          (None, 784)               0         \n",
      "_________________________________________________________________\n",
      "dense_10 (Dense)             (None, 784)               615440    \n",
      "_________________________________________________________________\n",
      "dense_11 (Dense)             (None, 784)               615440    \n",
      "_________________________________________________________________\n",
      "dense_12 (Dense)             (None, 10)                7850      \n",
      "=================================================================\n",
      "Total params: 1,238,730\n",
      "Trainable params: 1,238,730\n",
      "Non-trainable params: 0\n",
      "_________________________________________________________________\n",
      "Epoch 1/30\n",
      "200000/200000 [==============================] - 93s 467us/step - loss: 0.5930 - acc: 0.8345\n",
      "Epoch 2/30\n",
      "200000/200000 [==============================] - 85s 424us/step - loss: 0.4596 - acc: 0.8657\n",
      "Epoch 3/30\n",
      "200000/200000 [==============================] - 75s 377us/step - loss: 0.4097 - acc: 0.8802\n",
      "Epoch 4/30\n",
      "200000/200000 [==============================] - 68s 342us/step - loss: 0.3746 - acc: 0.8903\n",
      "Epoch 5/30\n",
      "200000/200000 [==============================] - 68s 342us/step - loss: 0.3485 - acc: 0.8977\n",
      "Epoch 6/30\n",
      "200000/200000 [==============================] - 80s 398us/step - loss: 0.3274 - acc: 0.9031\n",
      "Epoch 7/30\n",
      "200000/200000 [==============================] - 74s 372us/step - loss: 0.3089 - acc: 0.9086\n",
      "Epoch 8/30\n",
      "200000/200000 [==============================] - 70s 350us/step - loss: 0.2925 - acc: 0.9131\n",
      "Epoch 9/30\n",
      "200000/200000 [==============================] - 80s 398us/step - loss: 0.2774 - acc: 0.9176\n",
      "Epoch 10/30\n",
      "200000/200000 [==============================] - 83s 415us/step - loss: 0.2638 - acc: 0.9213\n",
      "Epoch 11/30\n",
      "200000/200000 [==============================] - 93s 467us/step - loss: 0.2510 - acc: 0.9253\n",
      "Epoch 12/30\n",
      "200000/200000 [==============================] - 82s 411us/step - loss: 0.2390 - acc: 0.9290\n",
      "Epoch 13/30\n",
      "200000/200000 [==============================] - 88s 440us/step - loss: 0.2272 - acc: 0.9324\n",
      "Epoch 14/30\n",
      "200000/200000 [==============================] - 71s 357us/step - loss: 0.2159 - acc: 0.9359\n",
      "Epoch 15/30\n",
      "200000/200000 [==============================] - 67s 333us/step - loss: 0.2054 - acc: 0.9388\n",
      "Epoch 16/30\n",
      "200000/200000 [==============================] - 75s 376us/step - loss: 0.1952 - acc: 0.9417\n",
      "Epoch 17/30\n",
      "200000/200000 [==============================] - 66s 328us/step - loss: 0.1847 - acc: 0.9452\n",
      "Epoch 18/30\n",
      "200000/200000 [==============================] - 59s 295us/step - loss: 0.1755 - acc: 0.9479\n",
      "Epoch 19/30\n",
      "200000/200000 [==============================] - 59s 295us/step - loss: 0.1658 - acc: 0.9516\n",
      "Epoch 20/30\n",
      "200000/200000 [==============================] - 59s 295us/step - loss: 0.1570 - acc: 0.9542\n",
      "Epoch 21/30\n",
      "200000/200000 [==============================] - 59s 297us/step - loss: 0.1482 - acc: 0.9570\n",
      "Epoch 22/30\n",
      "200000/200000 [==============================] - 60s 301us/step - loss: 0.1400 - acc: 0.9598\n",
      "Epoch 23/30\n",
      "200000/200000 [==============================] - 60s 299us/step - loss: 0.1320 - acc: 0.9623\n",
      "Epoch 24/30\n",
      "200000/200000 [==============================] - 60s 298us/step - loss: 0.1239 - acc: 0.9650\n",
      "Epoch 25/30\n",
      "200000/200000 [==============================] - 65s 324us/step - loss: 0.1171 - acc: 0.9674\n",
      "Epoch 26/30\n",
      "200000/200000 [==============================] - 72s 360us/step - loss: 0.1101 - acc: 0.9691\n",
      "Epoch 27/30\n",
      "200000/200000 [==============================] - 79s 395us/step - loss: 0.1033 - acc: 0.9715\n",
      "Epoch 28/30\n",
      "200000/200000 [==============================] - 71s 355us/step - loss: 0.0976 - acc: 0.9735\n",
      "Epoch 29/30\n",
      "200000/200000 [==============================] - 60s 301us/step - loss: 0.0912 - acc: 0.9759\n",
      "Epoch 30/30\n",
      "200000/200000 [==============================] - 61s 306us/step - loss: 0.0854 - acc: 0.9776\n",
      "----------------------------------------------------------------------------------------\n"
     ]
    },
    {
     "data": {
      "image/png": "[encoded data removed]",
      "text/plain": [
       "<Figure size 432x288 with 1 Axes>"
      ]
     },
     "metadata": {
      "needs_background": "light"
     },
     "output_type": "display_data"
    },
    {
     "name": "stdout",
     "output_type": "stream",
     "text": [
      "50000/50000 [==============================] - 6s 113us/step\n",
      "----------------------------------------------------------------------------------------\n",
      "Execution time: 2151s\n",
      "----------------------------------------------------------------------------------------\n",
      "Accuracy: 0.907\n"
     ]
    },
    {
     "data": {
      "text/plain": [
       "<__main__.NetworkTester instance at 0x129b9bd40>"
      ]
     },
     "execution_count": 18,
     "metadata": {},
     "output_type": "execute_result"
    }
   ],
   "source": [
    "NetworkTester(x=X, \n",
    "              y=Y,\n",
    "              hidden_layers_sizes=[image_size * image_size, image_size * image_size],\n",
    "              hidden_layers_activations=[tf.nn.relu, tf.nn.relu],\n",
    "              dataset_size=250000,\n",
    "              optimizer=tf.keras.optimizers.SGD(lr=0.01))"
   ]
  },
  {
   "cell_type": "code",
   "execution_count": 19,
   "metadata": {
    "scrolled": false
   },
   "outputs": [
    {
     "name": "stdout",
     "output_type": "stream",
     "text": [
      "----------------------------------------------------------------------------------------\n",
      " [28 x 28] -> [784] -> relu -> [784] -> relu -> [784] -> relu -> [784] -> relu -> [784] -> relu -> [10] -> softmax\n",
      "----------------------------------------------------------------------------------------\n",
      "Initial arguments:\n",
      "----------------------------------------------------------------------------------------\n",
      "('X_train shape =', (200000, 28, 28))\n",
      "('X_test shape =', (50000, 28, 28))\n",
      "('y_train shape =', (200000,))\n",
      "('y_test shape =', (50000,))\n",
      "Hidden layers = 5 layers\n",
      "Epochs to train = 30\n",
      "Beta for regularization: l1 = 0.000, l2 = 0.000\n",
      "Dropout prob = 0.300\n",
      "----------------------------------------------------------------------------------------\n",
      "Initial flags:\n",
      "----------------------------------------------------------------------------------------\n",
      "use_dropout=False, use_regularization=False\n",
      "----------------------------------------------------------------------------------------\n"
     ]
    },
    {
     "data": {
      "image/png": "[encoded data removed]",
      "text/plain": [
       "<Figure size 432x288 with 2 Axes>"
      ]
     },
     "metadata": {
      "needs_background": "light"
     },
     "output_type": "display_data"
    },
    {
     "name": "stdout",
     "output_type": "stream",
     "text": [
      "----------------------------------------------------------------------------------------\n",
      "_________________________________________________________________\n",
      "Layer (type)                 Output Shape              Param #   \n",
      "=================================================================\n",
      "flatten_6 (Flatten)          (None, 784)               0         \n",
      "_________________________________________________________________\n",
      "dense_13 (Dense)             (None, 784)               615440    \n",
      "_________________________________________________________________\n",
      "dense_14 (Dense)             (None, 784)               615440    \n",
      "_________________________________________________________________\n",
      "dense_15 (Dense)             (None, 784)               615440    \n",
      "_________________________________________________________________\n",
      "dense_16 (Dense)             (None, 784)               615440    \n",
      "_________________________________________________________________\n",
      "dense_17 (Dense)             (None, 784)               615440    \n",
      "_________________________________________________________________\n",
      "dense_18 (Dense)             (None, 10)                7850      \n",
      "=================================================================\n",
      "Total params: 3,085,050\n",
      "Trainable params: 3,085,050\n",
      "Non-trainable params: 0\n",
      "_________________________________________________________________\n",
      "Epoch 1/30\n",
      "200000/200000 [==============================] - 178s 888us/step - loss: 0.5700 - acc: 0.8350\n",
      "Epoch 2/30\n",
      "200000/200000 [==============================] - 168s 838us/step - loss: 0.4172 - acc: 0.8739\n",
      "Epoch 3/30\n",
      "200000/200000 [==============================] - 151s 755us/step - loss: 0.3622 - acc: 0.8901\n",
      "Epoch 4/30\n",
      "200000/200000 [==============================] - 156s 779us/step - loss: 0.3245 - acc: 0.9011\n",
      "Epoch 5/30\n",
      "200000/200000 [==============================] - 170s 848us/step - loss: 0.2948 - acc: 0.9100\n",
      "Epoch 6/30\n",
      "200000/200000 [==============================] - 209s 1ms/step - loss: 0.2692 - acc: 0.9174\n",
      "Epoch 7/30\n",
      "200000/200000 [==============================] - 181s 903us/step - loss: 0.2461 - acc: 0.9241\n",
      "Epoch 8/30\n",
      "200000/200000 [==============================] - 165s 826us/step - loss: 0.2241 - acc: 0.9308\n",
      "Epoch 9/30\n",
      "200000/200000 [==============================] - 153s 767us/step - loss: 0.2054 - acc: 0.9368\n",
      "Epoch 10/30\n",
      "200000/200000 [==============================] - 208s 1ms/step - loss: 0.1846 - acc: 0.9429\n",
      "Epoch 11/30\n",
      "200000/200000 [==============================] - 173s 864us/step - loss: 0.1688 - acc: 0.9478\n",
      "Epoch 12/30\n",
      "200000/200000 [==============================] - 165s 825us/step - loss: 0.1516 - acc: 0.9530\n",
      "Epoch 13/30\n",
      "200000/200000 [==============================] - 172s 860us/step - loss: 0.1362 - acc: 0.9576\n",
      "Epoch 14/30\n",
      "200000/200000 [==============================] - 168s 841us/step - loss: 0.1225 - acc: 0.9622\n",
      "Epoch 15/30\n",
      "200000/200000 [==============================] - 168s 841us/step - loss: 0.1097 - acc: 0.9662\n",
      "Epoch 16/30\n",
      "200000/200000 [==============================] - 168s 841us/step - loss: 0.0974 - acc: 0.9699\n",
      "Epoch 17/30\n",
      "200000/200000 [==============================] - 170s 851us/step - loss: 0.0880 - acc: 0.9730\n",
      "Epoch 18/30\n",
      "200000/200000 [==============================] - 333s 2ms/step - loss: 0.0805 - acc: 0.9753\n",
      "Epoch 19/30\n",
      "200000/200000 [==============================] - 190s 948us/step - loss: 0.0735 - acc: 0.9773\n",
      "Epoch 20/30\n",
      "200000/200000 [==============================] - 164s 821us/step - loss: 0.0657 - acc: 0.9801\n",
      "Epoch 21/30\n",
      "200000/200000 [==============================] - 159s 795us/step - loss: 0.0611 - acc: 0.9813\n",
      "Epoch 22/30\n",
      "200000/200000 [==============================] - 157s 786us/step - loss: 0.0554 - acc: 0.9837\n",
      "Epoch 23/30\n",
      "200000/200000 [==============================] - 174s 872us/step - loss: 0.0516 - acc: 0.9846\n",
      "Epoch 24/30\n",
      "200000/200000 [==============================] - 165s 824us/step - loss: 0.0480 - acc: 0.9858\n",
      "Epoch 25/30\n",
      "200000/200000 [==============================] - 176s 880us/step - loss: 0.0446 - acc: 0.9867\n",
      "Epoch 26/30\n",
      "200000/200000 [==============================] - 181s 904us/step - loss: 0.0417 - acc: 0.9876\n",
      "Epoch 27/30\n",
      "200000/200000 [==============================] - 174s 872us/step - loss: 0.0406 - acc: 0.9880\n",
      "Epoch 28/30\n",
      "200000/200000 [==============================] - 704s 4ms/step - loss: 0.0366 - acc: 0.9890\n",
      "Epoch 29/30\n",
      "200000/200000 [==============================] - 160s 799us/step - loss: 0.0355 - acc: 0.9896\n",
      "Epoch 30/30\n",
      "200000/200000 [==============================] - 261s 1ms/step - loss: 0.0337 - acc: 0.9901\n",
      "----------------------------------------------------------------------------------------\n"
     ]
    },
    {
     "data": {
      "image/png": "[encoded data removed]",
      "text/plain": [
       "<Figure size 432x288 with 1 Axes>"
      ]
     },
     "metadata": {
      "needs_background": "light"
     },
     "output_type": "display_data"
    },
    {
     "name": "stdout",
     "output_type": "stream",
     "text": [
      "50000/50000 [==============================] - 10s 197us/step\n",
      "----------------------------------------------------------------------------------------\n",
      "Execution time: 5931s\n",
      "----------------------------------------------------------------------------------------\n",
      "Accuracy: 0.912\n"
     ]
    },
    {
     "data": {
      "text/plain": [
       "<__main__.NetworkTester instance at 0x129267c20>"
      ]
     },
     "execution_count": 19,
     "metadata": {},
     "output_type": "execute_result"
    }
   ],
   "source": [
    "NetworkTester(x=X, \n",
    "              y=Y,\n",
    "              hidden_layers_sizes=[image_size * image_size, image_size * image_size, image_size * image_size, image_size * image_size, image_size * image_size],\n",
    "              hidden_layers_activations=[tf.nn.relu, tf.nn.relu, tf.nn.relu, tf.nn.relu, tf.nn.relu],\n",
    "              dataset_size=250000,\n",
    "              optimizer=tf.keras.optimizers.SGD(lr=0.01))"
   ]
  },
  {
   "cell_type": "code",
   "execution_count": 20,
   "metadata": {
    "scrolled": false
   },
   "outputs": [
    {
     "name": "stdout",
     "output_type": "stream",
     "text": [
      "----------------------------------------------------------------------------------------\n",
      " [28 x 28] -> [784] -> relu -> [98] -> relu -> [10] -> softmax\n",
      "----------------------------------------------------------------------------------------\n",
      "Initial arguments:\n",
      "----------------------------------------------------------------------------------------\n",
      "('X_train shape =', (200000, 28, 28))\n",
      "('X_test shape =', (50000, 28, 28))\n",
      "('y_train shape =', (200000,))\n",
      "('y_test shape =', (50000,))\n",
      "Hidden layers = 2 layers\n",
      "Epochs to train = 30\n",
      "Beta for regularization: l1 = 0.000, l2 = 0.000\n",
      "Dropout prob = 0.300\n",
      "----------------------------------------------------------------------------------------\n",
      "Initial flags:\n",
      "----------------------------------------------------------------------------------------\n",
      "use_dropout=False, use_regularization=False\n",
      "----------------------------------------------------------------------------------------\n"
     ]
    },
    {
     "data": {
      "image/png": "[encoded data removed]",
      "text/plain": [
       "<Figure size 432x288 with 2 Axes>"
      ]
     },
     "metadata": {
      "needs_background": "light"
     },
     "output_type": "display_data"
    },
    {
     "name": "stdout",
     "output_type": "stream",
     "text": [
      "----------------------------------------------------------------------------------------\n",
      "_________________________________________________________________\n",
      "Layer (type)                 Output Shape              Param #   \n",
      "=================================================================\n",
      "flatten_7 (Flatten)          (None, 784)               0         \n",
      "_________________________________________________________________\n",
      "dense_19 (Dense)             (None, 784)               615440    \n",
      "_________________________________________________________________\n",
      "dense_20 (Dense)             (None, 98)                76930     \n",
      "_________________________________________________________________\n",
      "dense_21 (Dense)             (None, 10)                990       \n",
      "=================================================================\n",
      "Total params: 693,360\n",
      "Trainable params: 693,360\n",
      "Non-trainable params: 0\n",
      "_________________________________________________________________\n",
      "Epoch 1/30\n",
      "200000/200000 [==============================] - 178s 889us/step - loss: 0.4624 - acc: 0.8607\n",
      "Epoch 2/30\n",
      "200000/200000 [==============================] - 64s 318us/step - loss: 0.3548 - acc: 0.8911\n",
      "Epoch 3/30\n",
      "200000/200000 [==============================] - 62s 310us/step - loss: 0.3157 - acc: 0.9019\n",
      "Epoch 4/30\n",
      "200000/200000 [==============================] - 340s 2ms/step - loss: 0.2885 - acc: 0.9090\n",
      "Epoch 5/30\n",
      "200000/200000 [==============================] - 713s 4ms/step - loss: 0.2680 - acc: 0.9149\n",
      "Epoch 6/30\n",
      "200000/200000 [==============================] - 76s 381us/step - loss: 0.2509 - acc: 0.9200\n",
      "Epoch 7/30\n",
      "200000/200000 [==============================] - 66s 330us/step - loss: 0.2355 - acc: 0.9244\n",
      "Epoch 8/30\n",
      "200000/200000 [==============================] - 72s 361us/step - loss: 0.2206 - acc: 0.9281\n",
      "Epoch 9/30\n",
      "200000/200000 [==============================] - 81s 405us/step - loss: 0.2098 - acc: 0.9309\n",
      "Epoch 10/30\n",
      "200000/200000 [==============================] - 69s 343us/step - loss: 0.2010 - acc: 0.9349\n",
      "Epoch 11/30\n",
      "200000/200000 [==============================] - 66s 331us/step - loss: 0.1902 - acc: 0.9380\n",
      "Epoch 12/30\n",
      "200000/200000 [==============================] - 65s 326us/step - loss: 0.1839 - acc: 0.9394\n",
      "Epoch 13/30\n",
      "200000/200000 [==============================] - 64s 319us/step - loss: 0.1768 - acc: 0.9421\n",
      "Epoch 14/30\n",
      "200000/200000 [==============================] - 64s 318us/step - loss: 0.1690 - acc: 0.9446\n",
      "Epoch 15/30\n",
      "200000/200000 [==============================] - 85s 427us/step - loss: 0.1646 - acc: 0.9460\n",
      "Epoch 16/30\n",
      "200000/200000 [==============================] - 88s 439us/step - loss: 0.1588 - acc: 0.9479\n",
      "Epoch 17/30\n",
      "200000/200000 [==============================] - 78s 390us/step - loss: 0.1544 - acc: 0.9495\n",
      "Epoch 18/30\n",
      "200000/200000 [==============================] - 77s 384us/step - loss: 0.1498 - acc: 0.9510\n",
      "Epoch 19/30\n",
      "200000/200000 [==============================] - 70s 352us/step - loss: 0.1461 - acc: 0.9516\n",
      "Epoch 20/30\n",
      "200000/200000 [==============================] - 67s 334us/step - loss: 0.1405 - acc: 0.9541\n",
      "Epoch 21/30\n",
      "200000/200000 [==============================] - 64s 318us/step - loss: 0.1375 - acc: 0.9545\n",
      "Epoch 22/30\n",
      "200000/200000 [==============================] - 67s 336us/step - loss: 0.1350 - acc: 0.9558\n",
      "Epoch 23/30\n",
      "200000/200000 [==============================] - 72s 358us/step - loss: 0.1330 - acc: 0.9566\n",
      "Epoch 24/30\n",
      "200000/200000 [==============================] - 65s 327us/step - loss: 0.1291 - acc: 0.9578\n",
      "Epoch 25/30\n",
      "200000/200000 [==============================] - 66s 330us/step - loss: 0.1270 - acc: 0.9582\n",
      "Epoch 26/30\n",
      "200000/200000 [==============================] - 65s 324us/step - loss: 0.1248 - acc: 0.9594\n",
      "Epoch 27/30\n",
      "200000/200000 [==============================] - 68s 339us/step - loss: 0.1227 - acc: 0.9601\n",
      "Epoch 28/30\n",
      "200000/200000 [==============================] - 66s 329us/step - loss: 0.1207 - acc: 0.9610\n",
      "Epoch 29/30\n",
      "200000/200000 [==============================] - 75s 377us/step - loss: 0.1188 - acc: 0.9615\n",
      "Epoch 30/30\n",
      "200000/200000 [==============================] - 74s 368us/step - loss: 0.1158 - acc: 0.9624\n",
      "----------------------------------------------------------------------------------------\n"
     ]
    },
    {
     "data": {
      "image/png": "[encoded data removed]",
      "text/plain": [
       "<Figure size 432x288 with 1 Axes>"
      ]
     },
     "metadata": {
      "needs_background": "light"
     },
     "output_type": "display_data"
    },
    {
     "name": "stdout",
     "output_type": "stream",
     "text": [
      "50000/50000 [==============================] - 5s 94us/step\n",
      "----------------------------------------------------------------------------------------\n",
      "Execution time: 3132s\n",
      "----------------------------------------------------------------------------------------\n",
      "Accuracy: 0.906\n"
     ]
    },
    {
     "data": {
      "text/plain": [
       "<__main__.NetworkTester instance at 0x1295ee878>"
      ]
     },
     "execution_count": 20,
     "metadata": {},
     "output_type": "execute_result"
    }
   ],
   "source": [
    "NetworkTester(x=X, \n",
    "              y=Y,\n",
    "              hidden_layers_sizes=[image_size * image_size, image_size * image_size / 8],\n",
    "              hidden_layers_activations=[tf.nn.relu, tf.nn.relu],\n",
    "              dataset_size=250000,\n",
    "              optimizer=tf.keras.optimizers.Adam())"
   ]
  },
  {
   "cell_type": "code",
   "execution_count": 21,
   "metadata": {
    "scrolled": false
   },
   "outputs": [
    {
     "name": "stdout",
     "output_type": "stream",
     "text": [
      "----------------------------------------------------------------------------------------\n",
      " [28 x 28] -> [784] -> relu -> [98] -> relu -> [10] -> softmax\n",
      "----------------------------------------------------------------------------------------\n",
      "Initial arguments:\n",
      "----------------------------------------------------------------------------------------\n",
      "('X_train shape =', (200000, 28, 28))\n",
      "('X_test shape =', (50000, 28, 28))\n",
      "('y_train shape =', (200000,))\n",
      "('y_test shape =', (50000,))\n",
      "Hidden layers = 2 layers\n",
      "Epochs to train = 30\n",
      "Beta for regularization: l1 = 0.000, l2 = 0.000\n",
      "Dropout prob = 0.300\n",
      "----------------------------------------------------------------------------------------\n",
      "Initial flags:\n",
      "----------------------------------------------------------------------------------------\n",
      "use_dropout=False, use_regularization=False\n",
      "----------------------------------------------------------------------------------------\n"
     ]
    },
    {
     "data": {
      "image/png": "[encoded data removed]",
      "text/plain": [
       "<Figure size 432x288 with 2 Axes>"
      ]
     },
     "metadata": {
      "needs_background": "light"
     },
     "output_type": "display_data"
    },
    {
     "name": "stdout",
     "output_type": "stream",
     "text": [
      "----------------------------------------------------------------------------------------\n",
      "_________________________________________________________________\n",
      "Layer (type)                 Output Shape              Param #   \n",
      "=================================================================\n",
      "flatten_8 (Flatten)          (None, 784)               0         \n",
      "_________________________________________________________________\n",
      "dense_22 (Dense)             (None, 784)               615440    \n",
      "_________________________________________________________________\n",
      "dense_23 (Dense)             (None, 98)                76930     \n",
      "_________________________________________________________________\n",
      "dense_24 (Dense)             (None, 10)                990       \n",
      "=================================================================\n",
      "Total params: 693,360\n",
      "Trainable params: 693,360\n",
      "Non-trainable params: 0\n",
      "_________________________________________________________________\n",
      "Epoch 1/30\n",
      "200000/200000 [==============================] - 51s 256us/step - loss: 0.4622 - acc: 0.8604\n",
      "Epoch 2/30\n",
      "200000/200000 [==============================] - 58s 291us/step - loss: 0.3564 - acc: 0.8901\n",
      "Epoch 3/30\n",
      "200000/200000 [==============================] - 122s 609us/step - loss: 0.3166 - acc: 0.9011\n",
      "Epoch 4/30\n",
      "200000/200000 [==============================] - 151s 754us/step - loss: 0.2891 - acc: 0.9087\n",
      "Epoch 5/30\n",
      "200000/200000 [==============================] - 74s 369us/step - loss: 0.2682 - acc: 0.9149\n",
      "Epoch 6/30\n",
      "200000/200000 [==============================] - 38s 191us/step - loss: 0.2497 - acc: 0.9199\n",
      "Epoch 7/30\n",
      "200000/200000 [==============================] - 42s 209us/step - loss: 0.2343 - acc: 0.9241\n",
      "Epoch 8/30\n",
      "200000/200000 [==============================] - 43s 214us/step - loss: 0.2215 - acc: 0.9287\n",
      "Epoch 9/30\n",
      "200000/200000 [==============================] - 38s 191us/step - loss: 0.2107 - acc: 0.9317\n",
      "Epoch 10/30\n",
      "200000/200000 [==============================] - 43s 214us/step - loss: 0.2001 - acc: 0.9345\n",
      "Epoch 11/30\n",
      "200000/200000 [==============================] - 47s 237us/step - loss: 0.1923 - acc: 0.9373\n",
      "Epoch 12/30\n",
      "200000/200000 [==============================] - 250s 1ms/step - loss: 0.1825 - acc: 0.9400\n",
      "Epoch 13/30\n",
      "200000/200000 [==============================] - 59s 295us/step - loss: 0.1754 - acc: 0.9425\n",
      "Epoch 14/30\n",
      "200000/200000 [==============================] - 39s 196us/step - loss: 0.1693 - acc: 0.9443\n",
      "Epoch 15/30\n",
      "200000/200000 [==============================] - 40s 198us/step - loss: 0.1626 - acc: 0.9464\n",
      "Epoch 16/30\n",
      "200000/200000 [==============================] - 40s 200us/step - loss: 0.1589 - acc: 0.9482\n",
      "Epoch 17/30\n",
      "200000/200000 [==============================] - 40s 200us/step - loss: 0.1523 - acc: 0.9499\n",
      "Epoch 18/30\n",
      "200000/200000 [==============================] - 40s 202us/step - loss: 0.1502 - acc: 0.9507\n",
      "Epoch 19/30\n",
      "200000/200000 [==============================] - 41s 203us/step - loss: 0.1450 - acc: 0.9529\n",
      "Epoch 20/30\n",
      "200000/200000 [==============================] - 41s 205us/step - loss: 0.1420 - acc: 0.9535\n",
      "Epoch 21/30\n",
      "200000/200000 [==============================] - 41s 207us/step - loss: 0.1372 - acc: 0.9550\n",
      "Epoch 22/30\n",
      "200000/200000 [==============================] - 41s 206us/step - loss: 0.1340 - acc: 0.9558\n",
      "Epoch 23/30\n",
      "200000/200000 [==============================] - 42s 212us/step - loss: 0.1304 - acc: 0.9573\n",
      "Epoch 24/30\n",
      "200000/200000 [==============================] - 42s 210us/step - loss: 0.1281 - acc: 0.9583\n",
      "Epoch 25/30\n",
      "200000/200000 [==============================] - 42s 211us/step - loss: 0.1265 - acc: 0.9587\n",
      "Epoch 26/30\n",
      "200000/200000 [==============================] - 42s 211us/step - loss: 0.1246 - acc: 0.9593\n",
      "Epoch 27/30\n",
      "200000/200000 [==============================] - 44s 221us/step - loss: 0.1217 - acc: 0.9600\n",
      "Epoch 28/30\n",
      "200000/200000 [==============================] - 48s 241us/step - loss: 0.1202 - acc: 0.9611\n",
      "Epoch 29/30\n",
      "200000/200000 [==============================] - 42s 211us/step - loss: 0.1201 - acc: 0.9613\n",
      "Epoch 30/30\n",
      "200000/200000 [==============================] - 42s 210us/step - loss: 0.1160 - acc: 0.9624\n",
      "----------------------------------------------------------------------------------------\n"
     ]
    },
    {
     "data": {
      "image/png": "[encoded data removed]",
      "text/plain": [
       "<Figure size 432x288 with 1 Axes>"
      ]
     },
     "metadata": {
      "needs_background": "light"
     },
     "output_type": "display_data"
    },
    {
     "name": "stdout",
     "output_type": "stream",
     "text": [
      "50000/50000 [==============================] - 5s 90us/step\n",
      "----------------------------------------------------------------------------------------\n",
      "Execution time: 1730s\n",
      "----------------------------------------------------------------------------------------\n",
      "Accuracy: 0.905\n"
     ]
    },
    {
     "data": {
      "text/plain": [
       "<__main__.NetworkTester instance at 0x128fe1200>"
      ]
     },
     "execution_count": 21,
     "metadata": {},
     "output_type": "execute_result"
    }
   ],
   "source": [
    "NetworkTester(x=X, \n",
    "              y=Y,\n",
    "              hidden_layers_sizes=[image_size * image_size, image_size * image_size / 8],\n",
    "              hidden_layers_activations=[tf.nn.relu, tf.nn.relu],\n",
    "              dataset_size=250000,\n",
    "              optimizer=tf.train.AdamOptimizer())"
   ]
  },
  {
   "cell_type": "code",
   "execution_count": 22,
   "metadata": {
    "scrolled": false
   },
   "outputs": [
    {
     "name": "stdout",
     "output_type": "stream",
     "text": [
      "----------------------------------------------------------------------------------------\n",
      " [28 x 28] -> [784] -> relu -> [98] -> relu -> [10] -> softmax\n",
      "----------------------------------------------------------------------------------------\n",
      "Initial arguments:\n",
      "----------------------------------------------------------------------------------------\n",
      "('X_train shape =', (200000, 28, 28))\n",
      "('X_test shape =', (50000, 28, 28))\n",
      "('y_train shape =', (200000,))\n",
      "('y_test shape =', (50000,))\n",
      "Hidden layers = 2 layers\n",
      "Epochs to train = 30\n",
      "Beta for regularization: l1 = 0.000, l2 = 0.000\n",
      "Dropout prob = 0.300\n",
      "----------------------------------------------------------------------------------------\n",
      "Initial flags:\n",
      "----------------------------------------------------------------------------------------\n",
      "use_dropout=False, use_regularization=False\n",
      "----------------------------------------------------------------------------------------\n"
     ]
    },
    {
     "data": {
      "image/png": "[encoded data removed]",
      "text/plain": [
       "<Figure size 432x288 with 2 Axes>"
      ]
     },
     "metadata": {
      "needs_background": "light"
     },
     "output_type": "display_data"
    },
    {
     "name": "stdout",
     "output_type": "stream",
     "text": [
      "----------------------------------------------------------------------------------------\n",
      "_________________________________________________________________\n",
      "Layer (type)                 Output Shape              Param #   \n",
      "=================================================================\n",
      "flatten_9 (Flatten)          (None, 784)               0         \n",
      "_________________________________________________________________\n",
      "dense_25 (Dense)             (None, 784)               615440    \n",
      "_________________________________________________________________\n",
      "dense_26 (Dense)             (None, 98)                76930     \n",
      "_________________________________________________________________\n",
      "dense_27 (Dense)             (None, 10)                990       \n",
      "=================================================================\n",
      "Total params: 693,360\n",
      "Trainable params: 693,360\n",
      "Non-trainable params: 0\n",
      "_________________________________________________________________\n",
      "Epoch 1/30\n",
      "200000/200000 [==============================] - 50s 250us/step - loss: 0.7864 - acc: 0.7968\n",
      "Epoch 2/30\n",
      "200000/200000 [==============================] - 38s 190us/step - loss: 0.7381 - acc: 0.8049\n",
      "Epoch 3/30\n",
      "200000/200000 [==============================] - 37s 186us/step - loss: 0.7281 - acc: 0.8067\n",
      "Epoch 4/30\n",
      "200000/200000 [==============================] - 38s 188us/step - loss: 0.7223 - acc: 0.8079\n",
      "Epoch 5/30\n",
      "200000/200000 [==============================] - 36s 179us/step - loss: 0.7183 - acc: 0.8086\n",
      "Epoch 6/30\n",
      "200000/200000 [==============================] - 197s 984us/step - loss: 0.7153 - acc: 0.8090\n",
      "Epoch 7/30\n",
      "200000/200000 [==============================] - 84s 419us/step - loss: 0.7129 - acc: 0.8095\n",
      "Epoch 8/30\n",
      "200000/200000 [==============================] - 48s 240us/step - loss: 0.7109 - acc: 0.8098\n",
      "Epoch 9/30\n",
      "200000/200000 [==============================] - 252s 1ms/step - loss: 0.7092 - acc: 0.8101\n",
      "Epoch 10/30\n",
      "200000/200000 [==============================] - 46s 228us/step - loss: 0.7077 - acc: 0.8104\n",
      "Epoch 11/30\n",
      "200000/200000 [==============================] - 45s 227us/step - loss: 0.7064 - acc: 0.8107\n",
      "Epoch 12/30\n",
      "200000/200000 [==============================] - 544s 3ms/step - loss: 0.7053 - acc: 0.8111\n",
      "Epoch 13/30\n",
      "200000/200000 [==============================] - 122s 609us/step - loss: 0.7042 - acc: 0.8113\n",
      "Epoch 14/30\n",
      "200000/200000 [==============================] - 43s 213us/step - loss: 0.7033 - acc: 0.8115\n",
      "Epoch 15/30\n",
      "200000/200000 [==============================] - 48s 238us/step - loss: 0.7024 - acc: 0.8117\n",
      "Epoch 16/30\n",
      "200000/200000 [==============================] - 293s 1ms/step - loss: 0.7016 - acc: 0.8118\n",
      "Epoch 17/30\n",
      "200000/200000 [==============================] - 45s 224us/step - loss: 0.7009 - acc: 0.8120\n",
      "Epoch 18/30\n",
      "200000/200000 [==============================] - 44s 221us/step - loss: 0.7002 - acc: 0.8121\n",
      "Epoch 19/30\n",
      "200000/200000 [==============================] - 40s 202us/step - loss: 0.6996 - acc: 0.8124\n",
      "Epoch 20/30\n",
      "200000/200000 [==============================] - 41s 203us/step - loss: 0.6989 - acc: 0.8124\n",
      "Epoch 21/30\n",
      "200000/200000 [==============================] - 41s 205us/step - loss: 0.6984 - acc: 0.8126\n",
      "Epoch 22/30\n",
      "200000/200000 [==============================] - 67s 337us/step - loss: 0.6978 - acc: 0.8127\n",
      "Epoch 23/30\n",
      "200000/200000 [==============================] - 56s 281us/step - loss: 0.6973 - acc: 0.8127\n",
      "Epoch 24/30\n",
      "200000/200000 [==============================] - 57s 285us/step - loss: 0.6968 - acc: 0.8128\n",
      "Epoch 25/30\n",
      "200000/200000 [==============================] - 47s 234us/step - loss: 0.6964 - acc: 0.8129\n",
      "Epoch 26/30\n",
      "200000/200000 [==============================] - 49s 243us/step - loss: 0.6959 - acc: 0.8130\n",
      "Epoch 27/30\n",
      "200000/200000 [==============================] - 64s 322us/step - loss: 0.6955 - acc: 0.8131\n",
      "Epoch 28/30\n",
      "200000/200000 [==============================] - 73s 365us/step - loss: 0.6951 - acc: 0.8132\n",
      "Epoch 29/30\n",
      "200000/200000 [==============================] - 60s 298us/step - loss: 0.6947 - acc: 0.8133\n",
      "Epoch 30/30\n",
      "200000/200000 [==============================] - 53s 266us/step - loss: 0.6944 - acc: 0.8134\n",
      "----------------------------------------------------------------------------------------\n"
     ]
    },
    {
     "data": {
      "image/png": "[encoded data removed]",
      "text/plain": [
       "<Figure size 432x288 with 1 Axes>"
      ]
     },
     "metadata": {
      "needs_background": "light"
     },
     "output_type": "display_data"
    },
    {
     "name": "stdout",
     "output_type": "stream",
     "text": [
      "50000/50000 [==============================] - 6s 112us/step\n",
      "----------------------------------------------------------------------------------------\n",
      "Execution time: 2664s\n",
      "----------------------------------------------------------------------------------------\n",
      "Accuracy: 0.813\n"
     ]
    },
    {
     "data": {
      "text/plain": [
       "<__main__.NetworkTester instance at 0x150b7e200>"
      ]
     },
     "execution_count": 22,
     "metadata": {},
     "output_type": "execute_result"
    }
   ],
   "source": [
    "NetworkTester(x=X, \n",
    "              y=Y,\n",
    "              hidden_layers_sizes=[image_size * image_size, image_size * image_size / 8],\n",
    "              hidden_layers_activations=[tf.nn.relu, tf.nn.relu],\n",
    "              dataset_size=250000,\n",
    "              optimizer=tf.keras.optimizers.SGD(lr=0.05, decay=0.1))"
   ]
  },
  {
   "cell_type": "code",
   "execution_count": 23,
   "metadata": {
    "scrolled": false
   },
   "outputs": [
    {
     "name": "stdout",
     "output_type": "stream",
     "text": [
      "----------------------------------------------------------------------------------------\n",
      " [28 x 28] -> [784] -> relu -> [98] -> relu -> [10] -> softmax\n",
      "----------------------------------------------------------------------------------------\n",
      "Initial arguments:\n",
      "----------------------------------------------------------------------------------------\n",
      "('X_train shape =', (200000, 28, 28))\n",
      "('X_test shape =', (50000, 28, 28))\n",
      "('y_train shape =', (200000,))\n",
      "('y_test shape =', (50000,))\n",
      "Hidden layers = 2 layers\n",
      "Epochs to train = 30\n",
      "Beta for regularization: l1 = 0.000, l2 = 0.000\n",
      "Dropout prob = 0.300\n",
      "----------------------------------------------------------------------------------------\n",
      "Initial flags:\n",
      "----------------------------------------------------------------------------------------\n",
      "use_dropout=True, use_regularization=False\n",
      "----------------------------------------------------------------------------------------\n"
     ]
    },
    {
     "data": {
      "image/png": "[encoded data removed]",
      "text/plain": [
       "<Figure size 432x288 with 2 Axes>"
      ]
     },
     "metadata": {
      "needs_background": "light"
     },
     "output_type": "display_data"
    },
    {
     "name": "stdout",
     "output_type": "stream",
     "text": [
      "----------------------------------------------------------------------------------------\n",
      "_________________________________________________________________\n",
      "Layer (type)                 Output Shape              Param #   \n",
      "=================================================================\n",
      "flatten_10 (Flatten)         (None, 784)               0         \n",
      "_________________________________________________________________\n",
      "dense_28 (Dense)             (None, 784)               615440    \n",
      "_________________________________________________________________\n",
      "dropout (Dropout)            (None, 784)               0         \n",
      "_________________________________________________________________\n",
      "dense_29 (Dense)             (None, 98)                76930     \n",
      "_________________________________________________________________\n",
      "dropout_1 (Dropout)          (None, 98)                0         \n",
      "_________________________________________________________________\n",
      "dense_30 (Dense)             (None, 10)                990       \n",
      "=================================================================\n",
      "Total params: 693,360\n",
      "Trainable params: 693,360\n",
      "Non-trainable params: 0\n",
      "_________________________________________________________________\n",
      "Epoch 1/30\n",
      "200000/200000 [==============================] - 55s 274us/step - loss: 0.5603 - acc: 0.8321\n",
      "Epoch 2/30\n",
      "200000/200000 [==============================] - 49s 243us/step - loss: 0.4588 - acc: 0.8623\n",
      "Epoch 3/30\n",
      "200000/200000 [==============================] - 51s 253us/step - loss: 0.4212 - acc: 0.8736\n",
      "Epoch 4/30\n",
      "200000/200000 [==============================] - 47s 236us/step - loss: 0.3985 - acc: 0.8791\n",
      "Epoch 5/30\n",
      "200000/200000 [==============================] - 52s 261us/step - loss: 0.3811 - acc: 0.8836\n",
      "Epoch 6/30\n",
      "200000/200000 [==============================] - 69s 346us/step - loss: 0.3689 - acc: 0.8869\n",
      "Epoch 7/30\n",
      "200000/200000 [==============================] - 65s 324us/step - loss: 0.3577 - acc: 0.8894\n",
      "Epoch 8/30\n",
      "200000/200000 [==============================] - 54s 269us/step - loss: 0.3488 - acc: 0.8919\n",
      "Epoch 9/30\n",
      "200000/200000 [==============================] - 58s 288us/step - loss: 0.3421 - acc: 0.8938\n",
      "Epoch 10/30\n",
      "200000/200000 [==============================] - 52s 259us/step - loss: 0.3371 - acc: 0.8952\n",
      "Epoch 11/30\n",
      "200000/200000 [==============================] - 62s 310us/step - loss: 0.3300 - acc: 0.8977\n",
      "Epoch 12/30\n",
      "200000/200000 [==============================] - 87s 433us/step - loss: 0.3273 - acc: 0.8979\n",
      "Epoch 13/30\n",
      "200000/200000 [==============================] - 85s 425us/step - loss: 0.3194 - acc: 0.9004\n",
      "Epoch 14/30\n",
      "200000/200000 [==============================] - 76s 381us/step - loss: 0.3163 - acc: 0.9010\n",
      "Epoch 15/30\n",
      "200000/200000 [==============================] - 53s 266us/step - loss: 0.3127 - acc: 0.9023\n",
      "Epoch 16/30\n",
      "200000/200000 [==============================] - 48s 240us/step - loss: 0.3084 - acc: 0.9033\n",
      "Epoch 17/30\n",
      "200000/200000 [==============================] - 48s 239us/step - loss: 0.3013 - acc: 0.9050\n",
      "Epoch 18/30\n",
      "200000/200000 [==============================] - 52s 259us/step - loss: 0.3008 - acc: 0.9057\n",
      "Epoch 19/30\n",
      "200000/200000 [==============================] - 57s 285us/step - loss: 0.2991 - acc: 0.9052\n",
      "Epoch 20/30\n",
      "200000/200000 [==============================] - 66s 328us/step - loss: 0.2959 - acc: 0.9078\n",
      "Epoch 21/30\n",
      "200000/200000 [==============================] - 58s 289us/step - loss: 0.2922 - acc: 0.9074\n",
      "Epoch 22/30\n",
      "200000/200000 [==============================] - 72s 359us/step - loss: 0.2877 - acc: 0.9090\n",
      "Epoch 23/30\n",
      "200000/200000 [==============================] - 73s 366us/step - loss: 0.2866 - acc: 0.9095\n",
      "Epoch 24/30\n",
      "200000/200000 [==============================] - 78s 392us/step - loss: 0.2839 - acc: 0.9104\n",
      "Epoch 25/30\n",
      "200000/200000 [==============================] - 84s 422us/step - loss: 0.2829 - acc: 0.9104\n",
      "Epoch 26/30\n",
      "200000/200000 [==============================] - 70s 348us/step - loss: 0.2815 - acc: 0.9110\n",
      "Epoch 27/30\n",
      "200000/200000 [==============================] - 78s 390us/step - loss: 0.2793 - acc: 0.9111\n",
      "Epoch 28/30\n",
      "200000/200000 [==============================] - 76s 379us/step - loss: 0.2772 - acc: 0.9127\n",
      "Epoch 29/30\n",
      "200000/200000 [==============================] - 70s 349us/step - loss: 0.2753 - acc: 0.9127\n",
      "Epoch 30/30\n",
      "200000/200000 [==============================] - 77s 383us/step - loss: 0.2728 - acc: 0.9139\n",
      "----------------------------------------------------------------------------------------\n"
     ]
    },
    {
     "data": {
      "image/png": "[encoded data removed]",
      "text/plain": [
       "<Figure size 432x288 with 1 Axes>"
      ]
     },
     "metadata": {
      "needs_background": "light"
     },
     "output_type": "display_data"
    },
    {
     "name": "stdout",
     "output_type": "stream",
     "text": [
      "50000/50000 [==============================] - 11s 221us/step\n",
      "----------------------------------------------------------------------------------------\n",
      "Execution time: 1933s\n",
      "----------------------------------------------------------------------------------------\n",
      "Accuracy: 0.906\n"
     ]
    },
    {
     "data": {
      "text/plain": [
       "<__main__.NetworkTester instance at 0x123b84050>"
      ]
     },
     "execution_count": 23,
     "metadata": {},
     "output_type": "execute_result"
    }
   ],
   "source": [
    "NetworkTester(x=X, \n",
    "              y=Y,\n",
    "              hidden_layers_sizes=[image_size * image_size, image_size * image_size / 8],\n",
    "              hidden_layers_activations=[tf.nn.relu, tf.nn.relu],\n",
    "              dataset_size=250000,\n",
    "              use_dropout=True,\n",
    "              dropout_prob=0.3,\n",
    "              optimizer=tf.train.AdamOptimizer())"
   ]
  },
  {
   "cell_type": "code",
   "execution_count": 24,
   "metadata": {
    "scrolled": false
   },
   "outputs": [
    {
     "name": "stdout",
     "output_type": "stream",
     "text": [
      "----------------------------------------------------------------------------------------\n",
      " [28 x 28] -> [784] -> relu -> [98] -> relu -> [10] -> softmax\n",
      "----------------------------------------------------------------------------------------\n",
      "Initial arguments:\n",
      "----------------------------------------------------------------------------------------\n",
      "('X_train shape =', (200000, 28, 28))\n",
      "('X_test shape =', (50000, 28, 28))\n",
      "('y_train shape =', (200000,))\n",
      "('y_test shape =', (50000,))\n",
      "Hidden layers = 2 layers\n",
      "Epochs to train = 30\n",
      "Beta for regularization: l1 = 0.000, l2 = 0.000\n",
      "Dropout prob = 0.200\n",
      "----------------------------------------------------------------------------------------\n",
      "Initial flags:\n",
      "----------------------------------------------------------------------------------------\n",
      "use_dropout=True, use_regularization=False\n",
      "----------------------------------------------------------------------------------------\n"
     ]
    },
    {
     "data": {
      "image/png": "[encoded data removed]",
      "text/plain": [
       "<Figure size 432x288 with 2 Axes>"
      ]
     },
     "metadata": {
      "needs_background": "light"
     },
     "output_type": "display_data"
    },
    {
     "name": "stdout",
     "output_type": "stream",
     "text": [
      "----------------------------------------------------------------------------------------\n",
      "_________________________________________________________________\n",
      "Layer (type)                 Output Shape              Param #   \n",
      "=================================================================\n",
      "flatten_11 (Flatten)         (None, 784)               0         \n",
      "_________________________________________________________________\n",
      "dense_31 (Dense)             (None, 784)               615440    \n",
      "_________________________________________________________________\n",
      "dropout_2 (Dropout)          (None, 784)               0         \n",
      "_________________________________________________________________\n",
      "dense_32 (Dense)             (None, 98)                76930     \n",
      "_________________________________________________________________\n",
      "dropout_3 (Dropout)          (None, 98)                0         \n",
      "_________________________________________________________________\n",
      "dense_33 (Dense)             (None, 10)                990       \n",
      "=================================================================\n",
      "Total params: 693,360\n",
      "Trainable params: 693,360\n",
      "Non-trainable params: 0\n",
      "_________________________________________________________________\n",
      "Epoch 1/30\n",
      "200000/200000 [==============================] - 91s 454us/step - loss: 0.5231 - acc: 0.8435\n",
      "Epoch 2/30\n",
      "200000/200000 [==============================] - 90s 449us/step - loss: 0.4179 - acc: 0.8728\n",
      "Epoch 3/30\n",
      "200000/200000 [==============================] - 87s 436us/step - loss: 0.3846 - acc: 0.88220s - loss: 0.3846 -\n",
      "Epoch 4/30\n",
      "200000/200000 [==============================] - 97s 483us/step - loss: 0.3631 - acc: 0.8880\n",
      "Epoch 5/30\n",
      "200000/200000 [==============================] - 96s 481us/step - loss: 0.3444 - acc: 0.8930\n",
      "Epoch 6/30\n",
      "200000/200000 [==============================] - 99s 493us/step - loss: 0.3330 - acc: 0.8958\n",
      "Epoch 7/30\n",
      "200000/200000 [==============================] - 82s 410us/step - loss: 0.3218 - acc: 0.8991\n",
      "Epoch 8/30\n",
      "200000/200000 [==============================] - 84s 420us/step - loss: 0.3137 - acc: 0.9013\n",
      "Epoch 9/30\n",
      "200000/200000 [==============================] - 93s 467us/step - loss: 0.3051 - acc: 0.9038\n",
      "Epoch 10/30\n",
      "200000/200000 [==============================] - 93s 463us/step - loss: 0.2893 - acc: 0.9080\n",
      "Epoch 12/30\n",
      "200000/200000 [==============================] - 93s 464us/step - loss: 0.2836 - acc: 0.9094\n",
      "Epoch 13/30\n",
      "200000/200000 [==============================] - 90s 451us/step - loss: 0.2788 - acc: 0.9109\n",
      "Epoch 14/30\n",
      "200000/200000 [==============================] - 94s 470us/step - loss: 0.2737 - acc: 0.9121\n",
      "Epoch 15/30\n",
      "200000/200000 [==============================] - 96s 481us/step - loss: 0.2700 - acc: 0.9138\n",
      "Epoch 16/30\n",
      "200000/200000 [==============================] - 82s 409us/step - loss: 0.2650 - acc: 0.9154\n",
      "Epoch 17/30\n",
      "200000/200000 [==============================] - 82s 409us/step - loss: 0.2635 - acc: 0.9166\n",
      "Epoch 18/30\n",
      "200000/200000 [==============================] - 79s 395us/step - loss: 0.2586 - acc: 0.9167\n",
      "Epoch 19/30\n",
      "200000/200000 [==============================] - 80s 400us/step - loss: 0.2553 - acc: 0.9183\n",
      "Epoch 20/30\n",
      "200000/200000 [==============================] - 79s 393us/step - loss: 0.2515 - acc: 0.9198\n",
      "Epoch 21/30\n",
      "200000/200000 [==============================] - 82s 409us/step - loss: 0.2487 - acc: 0.9200\n",
      "Epoch 22/30\n",
      "200000/200000 [==============================] - 82s 408us/step - loss: 0.2484 - acc: 0.9210\n",
      "Epoch 23/30\n",
      "200000/200000 [==============================] - 80s 399us/step - loss: 0.2403 - acc: 0.9227\n",
      "Epoch 24/30\n",
      "200000/200000 [==============================] - 86s 431us/step - loss: 0.2396 - acc: 0.9228\n",
      "Epoch 25/30\n",
      "200000/200000 [==============================] - 86s 429us/step - loss: 0.2384 - acc: 0.9236\n",
      "Epoch 26/30\n",
      "200000/200000 [==============================] - 50s 251us/step - loss: 0.2362 - acc: 0.9241\n",
      "Epoch 27/30\n",
      "200000/200000 [==============================] - 41s 207us/step - loss: 0.2340 - acc: 0.9247\n",
      "Epoch 28/30\n",
      "200000/200000 [==============================] - 41s 207us/step - loss: 0.2320 - acc: 0.9253\n",
      "Epoch 29/30\n",
      "200000/200000 [==============================] - 42s 209us/step - loss: 0.2301 - acc: 0.9259\n",
      "Epoch 30/30\n",
      "200000/200000 [==============================] - 43s 213us/step - loss: 0.2281 - acc: 0.9272\n",
      "----------------------------------------------------------------------------------------\n"
     ]
    },
    {
     "data": {
      "image/png": "[encoded data removed]",
      "text/plain": [
       "<Figure size 432x288 with 1 Axes>"
      ]
     },
     "metadata": {
      "needs_background": "light"
     },
     "output_type": "display_data"
    },
    {
     "name": "stdout",
     "output_type": "stream",
     "text": [
      "50000/50000 [==============================] - 5s 110us/step\n",
      "----------------------------------------------------------------------------------------\n",
      "Execution time: 2418s\n",
      "----------------------------------------------------------------------------------------\n",
      "Accuracy: 0.905\n"
     ]
    },
    {
     "data": {
      "text/plain": [
       "<__main__.NetworkTester instance at 0x12852f998>"
      ]
     },
     "execution_count": 24,
     "metadata": {},
     "output_type": "execute_result"
    }
   ],
   "source": [
    "NetworkTester(x=X, \n",
    "              y=Y,\n",
    "              hidden_layers_sizes=[image_size * image_size, image_size * image_size / 8],\n",
    "              hidden_layers_activations=[tf.nn.relu, tf.nn.relu],\n",
    "              dataset_size=250000,\n",
    "              use_dropout=True,\n",
    "              dropout_prob=0.2,\n",
    "              optimizer=tf.train.AdamOptimizer())"
   ]
  },
  {
   "cell_type": "code",
   "execution_count": 25,
   "metadata": {
    "scrolled": false
   },
   "outputs": [
    {
     "name": "stdout",
     "output_type": "stream",
     "text": [
      "----------------------------------------------------------------------------------------\n",
      " [28 x 28] -> [784] -> relu -> [98] -> relu -> [10] -> softmax\n",
      "----------------------------------------------------------------------------------------\n",
      "Initial arguments:\n",
      "----------------------------------------------------------------------------------------\n",
      "('X_train shape =', (200000, 28, 28))\n",
      "('X_test shape =', (50000, 28, 28))\n",
      "('y_train shape =', (200000,))\n",
      "('y_test shape =', (50000,))\n",
      "Hidden layers = 2 layers\n",
      "Epochs to train = 30\n",
      "Beta for regularization: l1 = 0.000, l2 = 0.000\n",
      "Dropout prob = 0.150\n",
      "----------------------------------------------------------------------------------------\n",
      "Initial flags:\n",
      "----------------------------------------------------------------------------------------\n",
      "use_dropout=True, use_regularization=False\n",
      "----------------------------------------------------------------------------------------\n"
     ]
    },
    {
     "data": {
      "image/png": "[encoded data removed]",
      "text/plain": [
       "<Figure size 432x288 with 2 Axes>"
      ]
     },
     "metadata": {
      "needs_background": "light"
     },
     "output_type": "display_data"
    },
    {
     "name": "stdout",
     "output_type": "stream",
     "text": [
      "----------------------------------------------------------------------------------------\n",
      "_________________________________________________________________\n",
      "Layer (type)                 Output Shape              Param #   \n",
      "=================================================================\n",
      "flatten_12 (Flatten)         (None, 784)               0         \n",
      "_________________________________________________________________\n",
      "dense_34 (Dense)             (None, 784)               615440    \n",
      "_________________________________________________________________\n",
      "dropout_4 (Dropout)          (None, 784)               0         \n",
      "_________________________________________________________________\n",
      "dense_35 (Dense)             (None, 98)                76930     \n",
      "_________________________________________________________________\n",
      "dropout_5 (Dropout)          (None, 98)                0         \n",
      "_________________________________________________________________\n",
      "dense_36 (Dense)             (None, 10)                990       \n",
      "=================================================================\n",
      "Total params: 693,360\n",
      "Trainable params: 693,360\n",
      "Non-trainable params: 0\n",
      "_________________________________________________________________\n",
      "Epoch 1/30\n",
      "200000/200000 [==============================] - 59s 295us/step - loss: 0.5056 - acc: 0.8481\n",
      "Epoch 2/30\n",
      "200000/200000 [==============================] - 43s 214us/step - loss: 0.4040 - acc: 0.8773\n",
      "Epoch 3/30\n",
      "200000/200000 [==============================] - 43s 215us/step - loss: 0.3695 - acc: 0.8869\n",
      "Epoch 4/30\n",
      "200000/200000 [==============================] - 42s 212us/step - loss: 0.3435 - acc: 0.8940\n",
      "Epoch 5/30\n",
      "200000/200000 [==============================] - 44s 221us/step - loss: 0.3269 - acc: 0.8974\n",
      "Epoch 6/30\n",
      "200000/200000 [==============================] - 42s 211us/step - loss: 0.3138 - acc: 0.9020\n",
      "Epoch 7/30\n",
      "200000/200000 [==============================] - 41s 207us/step - loss: 0.3027 - acc: 0.9042\n",
      "Epoch 8/30\n",
      "200000/200000 [==============================] - 41s 207us/step - loss: 0.2912 - acc: 0.9071\n",
      "Epoch 9/30\n",
      "200000/200000 [==============================] - 41s 207us/step - loss: 0.2827 - acc: 0.9102\n",
      "Epoch 10/30\n",
      "200000/200000 [==============================] - 42s 209us/step - loss: 0.2761 - acc: 0.9120\n",
      "Epoch 11/30\n",
      "200000/200000 [==============================] - 42s 209us/step - loss: 0.2694 - acc: 0.9137\n",
      "Epoch 12/30\n",
      "200000/200000 [==============================] - 43s 216us/step - loss: 0.2640 - acc: 0.9153\n",
      "Epoch 13/30\n",
      "200000/200000 [==============================] - 47s 234us/step - loss: 0.2578 - acc: 0.9174\n",
      "Epoch 14/30\n",
      "200000/200000 [==============================] - 47s 235us/step - loss: 0.2524 - acc: 0.9181\n",
      "Epoch 15/30\n",
      "200000/200000 [==============================] - 52s 261us/step - loss: 0.2466 - acc: 0.9203\n",
      "Epoch 16/30\n",
      "200000/200000 [==============================] - 46s 230us/step - loss: 0.2435 - acc: 0.9213\n",
      "Epoch 17/30\n",
      "200000/200000 [==============================] - 47s 233us/step - loss: 0.2368 - acc: 0.9230\n",
      "Epoch 18/30\n",
      "200000/200000 [==============================] - 41s 204us/step - loss: 0.2360 - acc: 0.9236\n",
      "Epoch 19/30\n",
      "200000/200000 [==============================] - 42s 212us/step - loss: 0.2311 - acc: 0.9249\n",
      "Epoch 20/30\n",
      "200000/200000 [==============================] - 56s 280us/step - loss: 0.2303 - acc: 0.9259\n",
      "Epoch 21/30\n",
      "200000/200000 [==============================] - 59s 294us/step - loss: 0.2231 - acc: 0.9278\n",
      "Epoch 22/30\n",
      "200000/200000 [==============================] - 48s 238us/step - loss: 0.2208 - acc: 0.9282\n",
      "Epoch 23/30\n",
      "200000/200000 [==============================] - 47s 237us/step - loss: 0.2201 - acc: 0.9290\n",
      "Epoch 24/30\n",
      "200000/200000 [==============================] - 42s 212us/step - loss: 0.2167 - acc: 0.9299\n",
      "Epoch 25/30\n",
      "200000/200000 [==============================] - 52s 261us/step - loss: 0.2147 - acc: 0.9303\n",
      "Epoch 26/30\n",
      "200000/200000 [==============================] - 44s 221us/step - loss: 0.2133 - acc: 0.9311\n",
      "Epoch 27/30\n",
      "200000/200000 [==============================] - 48s 238us/step - loss: 0.2104 - acc: 0.9319\n",
      "Epoch 28/30\n",
      "200000/200000 [==============================] - 47s 233us/step - loss: 0.2092 - acc: 0.9325\n",
      "Epoch 29/30\n",
      "200000/200000 [==============================] - 52s 260us/step - loss: 0.2071 - acc: 0.9334\n",
      "Epoch 30/30\n",
      "200000/200000 [==============================] - 47s 233us/step - loss: 0.2037 - acc: 0.9337\n",
      "----------------------------------------------------------------------------------------\n"
     ]
    },
    {
     "data": {
      "image/png": "[encoded data removed]",
      "text/plain": [
       "<Figure size 432x288 with 1 Axes>"
      ]
     },
     "metadata": {
      "needs_background": "light"
     },
     "output_type": "display_data"
    },
    {
     "name": "stdout",
     "output_type": "stream",
     "text": [
      "50000/50000 [==============================] - 7s 134us/step\n",
      "----------------------------------------------------------------------------------------\n",
      "Execution time: 1397s\n",
      "----------------------------------------------------------------------------------------\n",
      "Accuracy: 0.908\n"
     ]
    },
    {
     "data": {
      "text/plain": [
       "<__main__.NetworkTester instance at 0x12a04c2d8>"
      ]
     },
     "execution_count": 25,
     "metadata": {},
     "output_type": "execute_result"
    }
   ],
   "source": [
    "NetworkTester(x=X, \n",
    "              y=Y,\n",
    "              hidden_layers_sizes=[image_size * image_size, image_size * image_size / 8],\n",
    "              hidden_layers_activations=[tf.nn.relu, tf.nn.relu],\n",
    "              dataset_size=250000,\n",
    "              use_dropout=True,\n",
    "              dropout_prob=0.15,\n",
    "              optimizer=tf.train.AdamOptimizer())"
   ]
  },
  {
   "cell_type": "code",
   "execution_count": 26,
   "metadata": {
    "scrolled": false
   },
   "outputs": [
    {
     "name": "stdout",
     "output_type": "stream",
     "text": [
      "----------------------------------------------------------------------------------------\n",
      " [28 x 28] -> [784] -> relu -> [98] -> relu -> [10] -> softmax\n",
      "----------------------------------------------------------------------------------------\n",
      "Initial arguments:\n",
      "----------------------------------------------------------------------------------------\n",
      "('X_train shape =', (200000, 28, 28))\n",
      "('X_test shape =', (50000, 28, 28))\n",
      "('y_train shape =', (200000,))\n",
      "('y_test shape =', (50000,))\n",
      "Hidden layers = 2 layers\n",
      "Epochs to train = 30\n",
      "Beta for regularization: l1 = 0.000, l2 = 0.000\n",
      "Dropout prob = 0.200\n",
      "----------------------------------------------------------------------------------------\n",
      "Initial flags:\n",
      "----------------------------------------------------------------------------------------\n",
      "use_dropout=True, use_regularization=True\n",
      "----------------------------------------------------------------------------------------\n"
     ]
    },
    {
     "data": {
      "image/png": "[encoded data removed]",
      "text/plain": [
       "<Figure size 432x288 with 2 Axes>"
      ]
     },
     "metadata": {
      "needs_background": "light"
     },
     "output_type": "display_data"
    },
    {
     "name": "stdout",
     "output_type": "stream",
     "text": [
      "----------------------------------------------------------------------------------------\n",
      "_________________________________________________________________\n",
      "Layer (type)                 Output Shape              Param #   \n",
      "=================================================================\n",
      "flatten_13 (Flatten)         (None, 784)               0         \n",
      "_________________________________________________________________\n",
      "dense_37 (Dense)             (None, 784)               615440    \n",
      "_________________________________________________________________\n",
      "dropout_6 (Dropout)          (None, 784)               0         \n",
      "_________________________________________________________________\n",
      "dense_38 (Dense)             (None, 98)                76930     \n",
      "_________________________________________________________________\n",
      "dropout_7 (Dropout)          (None, 98)                0         \n",
      "_________________________________________________________________\n",
      "dense_39 (Dense)             (None, 10)                990       \n",
      "=================================================================\n",
      "Total params: 693,360\n",
      "Trainable params: 693,360\n",
      "Non-trainable params: 0\n",
      "_________________________________________________________________\n",
      "Epoch 1/30\n",
      "200000/200000 [==============================] - 235s 1ms/step - loss: 1.0068 - acc: 0.8254 1s - loss: 1.0080 - ac\n",
      "Epoch 2/30\n",
      "200000/200000 [==============================] - 102s 511us/step - loss: 0.8002 - acc: 0.8434\n",
      "Epoch 3/30\n",
      "200000/200000 [==============================] - 77s 386us/step - loss: 0.7913 - acc: 0.8460\n",
      "Epoch 4/30\n",
      "200000/200000 [==============================] - 70s 348us/step - loss: 0.7859 - acc: 0.8479\n",
      "Epoch 5/30\n",
      "200000/200000 [==============================] - 70s 348us/step - loss: 0.7894 - acc: 0.8483\n",
      "Epoch 6/30\n",
      "200000/200000 [==============================] - 71s 354us/step - loss: 0.7847 - acc: 0.8496\n",
      "Epoch 7/30\n",
      "200000/200000 [==============================] - 75s 376us/step - loss: 0.7907 - acc: 0.8490\n",
      "Epoch 8/30\n",
      "200000/200000 [==============================] - 71s 357us/step - loss: 0.7859 - acc: 0.8500\n",
      "Epoch 9/30\n",
      "200000/200000 [==============================] - 73s 364us/step - loss: 0.7884 - acc: 0.8502\n",
      "Epoch 10/30\n",
      "200000/200000 [==============================] - 74s 369us/step - loss: 0.7845 - acc: 0.8504\n",
      "Epoch 11/30\n",
      "200000/200000 [==============================] - 72s 362us/step - loss: 0.7847 - acc: 0.8501\n",
      "Epoch 12/30\n",
      "200000/200000 [==============================] - 70s 348us/step - loss: 0.7880 - acc: 0.8516\n",
      "Epoch 13/30\n",
      "200000/200000 [==============================] - 69s 347us/step - loss: 0.7823 - acc: 0.8505\n",
      "Epoch 14/30\n",
      "200000/200000 [==============================] - 70s 349us/step - loss: 0.7840 - acc: 0.8511\n",
      "Epoch 15/30\n",
      "200000/200000 [==============================] - 71s 355us/step - loss: 0.7823 - acc: 0.8511\n",
      "Epoch 16/30\n",
      "200000/200000 [==============================] - 71s 354us/step - loss: 0.7857 - acc: 0.8516\n",
      "Epoch 17/30\n",
      "200000/200000 [==============================] - 71s 354us/step - loss: 0.7886 - acc: 0.8508\n",
      "Epoch 18/30\n",
      "200000/200000 [==============================] - 71s 355us/step - loss: 0.7842 - acc: 0.8510\n",
      "Epoch 19/30\n",
      "200000/200000 [==============================] - 72s 358us/step - loss: 0.7831 - acc: 0.8514\n",
      "Epoch 20/30\n",
      "200000/200000 [==============================] - 72s 358us/step - loss: 0.7824 - acc: 0.8518\n",
      "Epoch 21/30\n",
      "200000/200000 [==============================] - 71s 354us/step - loss: 0.7821 - acc: 0.8516\n",
      "Epoch 22/30\n",
      "200000/200000 [==============================] - 71s 355us/step - loss: 0.7796 - acc: 0.8516\n",
      "Epoch 23/30\n",
      "200000/200000 [==============================] - 75s 373us/step - loss: 0.7852 - acc: 0.8510\n",
      "Epoch 24/30\n",
      "200000/200000 [==============================] - 74s 369us/step - loss: 0.7828 - acc: 0.8519\n",
      "Epoch 25/30\n",
      "200000/200000 [==============================] - 73s 366us/step - loss: 0.7856 - acc: 0.8507\n",
      "Epoch 26/30\n",
      "200000/200000 [==============================] - 74s 368us/step - loss: 0.7801 - acc: 0.8517\n",
      "Epoch 27/30\n",
      "200000/200000 [==============================] - 74s 369us/step - loss: 0.7848 - acc: 0.8514\n",
      "Epoch 28/30\n",
      "200000/200000 [==============================] - 74s 369us/step - loss: 0.7822 - acc: 0.8518\n",
      "Epoch 29/30\n",
      "200000/200000 [==============================] - 74s 371us/step - loss: 0.7840 - acc: 0.8516\n",
      "Epoch 30/30\n",
      "200000/200000 [==============================] - 74s 372us/step - loss: 0.7816 - acc: 0.8523\n",
      "----------------------------------------------------------------------------------------\n"
     ]
    },
    {
     "data": {
      "image/png": "[encoded data removed]",
      "text/plain": [
       "<Figure size 432x288 with 1 Axes>"
      ]
     },
     "metadata": {
      "needs_background": "light"
     },
     "output_type": "display_data"
    },
    {
     "name": "stdout",
     "output_type": "stream",
     "text": [
      "50000/50000 [==============================] - 8s 163us/step\n",
      "----------------------------------------------------------------------------------------\n",
      "Execution time: 2369s\n",
      "----------------------------------------------------------------------------------------\n",
      "Accuracy: 0.873\n"
     ]
    },
    {
     "data": {
      "text/plain": [
       "<__main__.NetworkTester instance at 0x128fb9200>"
      ]
     },
     "execution_count": 26,
     "metadata": {},
     "output_type": "execute_result"
    }
   ],
   "source": [
    "NetworkTester(x=X, \n",
    "              y=Y,\n",
    "              hidden_layers_sizes=[image_size * image_size, image_size * image_size / 8],\n",
    "              hidden_layers_activations=[tf.nn.relu, tf.nn.relu],\n",
    "              dataset_size=250000,\n",
    "              use_dropout=True,\n",
    "              use_regularization=True,\n",
    "              l1=10e-5,\n",
    "              l2=10e-05,\n",
    "              dropout_prob=0.2,\n",
    "              optimizer=tf.train.AdamOptimizer())"
   ]
  },
  {
   "cell_type": "code",
   "execution_count": 27,
   "metadata": {
    "scrolled": false
   },
   "outputs": [
    {
     "name": "stdout",
     "output_type": "stream",
     "text": [
      "----------------------------------------------------------------------------------------\n",
      " [28 x 28] -> [784] -> sigmoid -> [196] -> relu -> [224] -> relu -> [28] -> relu -> [10] -> softmax\n",
      "----------------------------------------------------------------------------------------\n",
      "Initial arguments:\n",
      "----------------------------------------------------------------------------------------\n",
      "('X_train shape =', (200000, 28, 28))\n",
      "('X_test shape =', (50000, 28, 28))\n",
      "('y_train shape =', (200000,))\n",
      "('y_test shape =', (50000,))\n",
      "Hidden layers = 4 layers\n",
      "Epochs to train = 30\n",
      "Beta for regularization: l1 = 0.000, l2 = 0.000\n",
      "Dropout prob = 0.200\n",
      "----------------------------------------------------------------------------------------\n",
      "Initial flags:\n",
      "----------------------------------------------------------------------------------------\n",
      "use_dropout=True, use_regularization=True\n",
      "----------------------------------------------------------------------------------------\n"
     ]
    },
    {
     "data": {
      "image/png": "[encoded data removed]",
      "text/plain": [
       "<Figure size 432x288 with 2 Axes>"
      ]
     },
     "metadata": {
      "needs_background": "light"
     },
     "output_type": "display_data"
    },
    {
     "name": "stdout",
     "output_type": "stream",
     "text": [
      "----------------------------------------------------------------------------------------\n",
      "_________________________________________________________________\n",
      "Layer (type)                 Output Shape              Param #   \n",
      "=================================================================\n",
      "flatten_14 (Flatten)         (None, 784)               0         \n",
      "_________________________________________________________________\n",
      "dense_40 (Dense)             (None, 784)               615440    \n",
      "_________________________________________________________________\n",
      "dropout_8 (Dropout)          (None, 784)               0         \n",
      "_________________________________________________________________\n",
      "dense_41 (Dense)             (None, 196)               153860    \n",
      "_________________________________________________________________\n",
      "dropout_9 (Dropout)          (None, 196)               0         \n",
      "_________________________________________________________________\n",
      "dense_42 (Dense)             (None, 224)               44128     \n",
      "_________________________________________________________________\n",
      "dropout_10 (Dropout)         (None, 224)               0         \n",
      "_________________________________________________________________\n",
      "dense_43 (Dense)             (None, 28)                6300      \n",
      "_________________________________________________________________\n",
      "dropout_11 (Dropout)         (None, 28)                0         \n",
      "_________________________________________________________________\n",
      "dense_44 (Dense)             (None, 10)                290       \n",
      "=================================================================\n",
      "Total params: 820,018\n",
      "Trainable params: 820,018\n",
      "Non-trainable params: 0\n",
      "_________________________________________________________________\n",
      "Epoch 1/30\n",
      "200000/200000 [==============================] - 107s 533us/step - loss: 1.3585 - acc: 0.7757\n",
      "Epoch 2/30\n",
      "200000/200000 [==============================] - 79s 393us/step - loss: 1.0641 - acc: 0.8071\n",
      "Epoch 3/30\n",
      "200000/200000 [==============================] - 78s 392us/step - loss: 1.0367 - acc: 0.8110\n",
      "Epoch 4/30\n",
      "200000/200000 [==============================] - 78s 392us/step - loss: 1.0275 - acc: 0.8114\n",
      "Epoch 5/30\n",
      "200000/200000 [==============================] - 79s 393us/step - loss: 1.0181 - acc: 0.8123\n",
      "Epoch 6/30\n",
      "200000/200000 [==============================] - 78s 390us/step - loss: 1.0119 - acc: 0.8141\n",
      "Epoch 7/30\n",
      "200000/200000 [==============================] - 97s 487us/step - loss: 1.0120 - acc: 0.8145\n",
      "Epoch 8/30\n",
      "200000/200000 [==============================] - 79s 393us/step - loss: 1.0109 - acc: 0.8142\n",
      "Epoch 9/30\n",
      "200000/200000 [==============================] - 79s 396us/step - loss: 1.0148 - acc: 0.8146\n",
      "Epoch 10/30\n",
      "200000/200000 [==============================] - 84s 418us/step - loss: 1.0079 - acc: 0.8156\n",
      "Epoch 11/30\n",
      "200000/200000 [==============================] - 84s 420us/step - loss: 1.0088 - acc: 0.8157\n",
      "Epoch 12/30\n",
      "200000/200000 [==============================] - 85s 423us/step - loss: 1.0062 - acc: 0.8160\n",
      "Epoch 13/30\n",
      "200000/200000 [==============================] - 85s 427us/step - loss: 1.0074 - acc: 0.8149\n",
      "Epoch 14/30\n",
      "200000/200000 [==============================] - 85s 425us/step - loss: 1.0099 - acc: 0.8154\n",
      "Epoch 15/30\n",
      "200000/200000 [==============================] - 86s 429us/step - loss: 1.0083 - acc: 0.8154\n",
      "Epoch 16/30\n",
      "200000/200000 [==============================] - 86s 428us/step - loss: 1.0032 - acc: 0.8161\n",
      "Epoch 17/30\n",
      "200000/200000 [==============================] - 86s 432us/step - loss: 1.0041 - acc: 0.8154\n",
      "Epoch 18/30\n",
      "200000/200000 [==============================] - 87s 433us/step - loss: 1.0056 - acc: 0.8162\n",
      "Epoch 19/30\n",
      "200000/200000 [==============================] - 87s 436us/step - loss: 1.0097 - acc: 0.8152\n",
      "Epoch 20/30\n",
      "200000/200000 [==============================] - 87s 435us/step - loss: 1.0048 - acc: 0.8156\n",
      "Epoch 21/30\n",
      "200000/200000 [==============================] - 87s 436us/step - loss: 0.9994 - acc: 0.8162\n",
      "Epoch 22/30\n",
      "200000/200000 [==============================] - 88s 442us/step - loss: 1.0063 - acc: 0.8160\n",
      "Epoch 23/30\n",
      "200000/200000 [==============================] - 88s 439us/step - loss: 1.0064 - acc: 0.8152\n",
      "Epoch 24/30\n",
      "200000/200000 [==============================] - 1013s 5ms/step - loss: 1.0032 - acc: 0.8163\n",
      "Epoch 25/30\n",
      "200000/200000 [==============================] - 96s 481us/step - loss: 1.0025 - acc: 0.8162\n",
      "Epoch 26/30\n",
      "200000/200000 [==============================] - 86s 432us/step - loss: 0.9994 - acc: 0.8156\n",
      "Epoch 27/30\n",
      "200000/200000 [==============================] - 85s 426us/step - loss: 0.9991 - acc: 0.8164\n",
      "Epoch 28/30\n",
      "200000/200000 [==============================] - 85s 427us/step - loss: 1.0016 - acc: 0.8154\n",
      "Epoch 29/30\n",
      "200000/200000 [==============================] - 86s 432us/step - loss: 1.0018 - acc: 0.8158\n",
      "Epoch 30/30\n",
      "200000/200000 [==============================] - 101s 504us/step - loss: 1.0014 - acc: 0.8159s - lo\n",
      "----------------------------------------------------------------------------------------\n"
     ]
    },
    {
     "data": {
      "image/png": "[encoded data removed]",
      "text/plain": [
       "<Figure size 432x288 with 1 Axes>"
      ]
     },
     "metadata": {
      "needs_background": "light"
     },
     "output_type": "display_data"
    },
    {
     "name": "stdout",
     "output_type": "stream",
     "text": [
      "50000/50000 [==============================] - 10s 196us/step\n",
      "----------------------------------------------------------------------------------------\n",
      "Execution time: 3524s\n",
      "----------------------------------------------------------------------------------------\n",
      "Accuracy: 0.837\n"
     ]
    },
    {
     "data": {
      "text/plain": [
       "<__main__.NetworkTester instance at 0x1286696c8>"
      ]
     },
     "execution_count": 27,
     "metadata": {},
     "output_type": "execute_result"
    }
   ],
   "source": [
    "NetworkTester(x=X, \n",
    "              y=Y,\n",
    "              hidden_layers_sizes=[image_size * image_size, image_size * image_size / 4, image_size * 8, image_size],\n",
    "              hidden_layers_activations=[tf.nn.sigmoid, tf.nn.relu, tf.nn.relu, tf.nn.relu],\n",
    "              dataset_size=250000,\n",
    "              use_dropout=True,\n",
    "              use_regularization=True,\n",
    "              l1=10e-5,\n",
    "              l2=10e-05,\n",
    "              dropout_prob=0.2,\n",
    "              optimizer=tf.train.AdamOptimizer())"
   ]
  },
  {
   "cell_type": "code",
   "execution_count": 28,
   "metadata": {
    "scrolled": false
   },
   "outputs": [
    {
     "name": "stdout",
     "output_type": "stream",
     "text": [
      "----------------------------------------------------------------------------------------\n",
      " [28 x 28] -> [784] -> sigmoid -> [196] -> relu -> [224] -> relu -> [28] -> relu -> [10] -> softmax\n",
      "----------------------------------------------------------------------------------------\n",
      "Initial arguments:\n",
      "----------------------------------------------------------------------------------------\n",
      "('X_train shape =', (200000, 28, 28))\n",
      "('X_test shape =', (50000, 28, 28))\n",
      "('y_train shape =', (200000,))\n",
      "('y_test shape =', (50000,))\n",
      "Hidden layers = 4 layers\n",
      "Epochs to train = 30\n",
      "Beta for regularization: l1 = 0.000, l2 = 0.000\n",
      "Dropout prob = 0.200\n",
      "----------------------------------------------------------------------------------------\n",
      "Initial flags:\n",
      "----------------------------------------------------------------------------------------\n",
      "use_dropout=True, use_regularization=False\n",
      "----------------------------------------------------------------------------------------\n"
     ]
    },
    {
     "data": {
      "image/png": "[encoded data removed]",
      "text/plain": [
       "<Figure size 432x288 with 2 Axes>"
      ]
     },
     "metadata": {
      "needs_background": "light"
     },
     "output_type": "display_data"
    },
    {
     "name": "stdout",
     "output_type": "stream",
     "text": [
      "----------------------------------------------------------------------------------------\n",
      "_________________________________________________________________\n",
      "Layer (type)                 Output Shape              Param #   \n",
      "=================================================================\n",
      "flatten_15 (Flatten)         (None, 784)               0         \n",
      "_________________________________________________________________\n",
      "dense_45 (Dense)             (None, 784)               615440    \n",
      "_________________________________________________________________\n",
      "dropout_12 (Dropout)         (None, 784)               0         \n",
      "_________________________________________________________________\n",
      "dense_46 (Dense)             (None, 196)               153860    \n",
      "_________________________________________________________________\n",
      "dropout_13 (Dropout)         (None, 196)               0         \n",
      "_________________________________________________________________\n",
      "dense_47 (Dense)             (None, 224)               44128     \n",
      "_________________________________________________________________\n",
      "dropout_14 (Dropout)         (None, 224)               0         \n",
      "_________________________________________________________________\n",
      "dense_48 (Dense)             (None, 28)                6300      \n",
      "_________________________________________________________________\n",
      "dropout_15 (Dropout)         (None, 28)                0         \n",
      "_________________________________________________________________\n",
      "dense_49 (Dense)             (None, 10)                290       \n",
      "=================================================================\n",
      "Total params: 820,018\n",
      "Trainable params: 820,018\n",
      "Non-trainable params: 0\n",
      "_________________________________________________________________\n",
      "Epoch 1/30\n",
      "200000/200000 [==============================] - 53s 263us/step - loss: 0.5975 - acc: 0.8240\n",
      "Epoch 2/30\n",
      "200000/200000 [==============================] - 49s 247us/step - loss: 0.4624 - acc: 0.8637\n",
      "Epoch 3/30\n",
      "200000/200000 [==============================] - 47s 236us/step - loss: 0.4196 - acc: 0.8750\n",
      "Epoch 4/30\n",
      "200000/200000 [==============================] - 47s 235us/step - loss: 0.3999 - acc: 0.8809\n",
      "Epoch 5/30\n",
      "200000/200000 [==============================] - 47s 236us/step - loss: 0.3798 - acc: 0.8866\n",
      "Epoch 6/30\n",
      "200000/200000 [==============================] - 47s 237us/step - loss: 0.3669 - acc: 0.8910\n",
      "Epoch 7/30\n",
      "200000/200000 [==============================] - 48s 239us/step - loss: 0.3569 - acc: 0.8926\n",
      "Epoch 8/30\n",
      "200000/200000 [==============================] - 48s 242us/step - loss: 0.3457 - acc: 0.8960\n",
      "Epoch 9/30\n",
      "200000/200000 [==============================] - 49s 244us/step - loss: 0.3370 - acc: 0.8987\n",
      "Epoch 10/30\n",
      "200000/200000 [==============================] - 48s 242us/step - loss: 0.3319 - acc: 0.8999\n",
      "Epoch 11/30\n",
      "200000/200000 [==============================] - 49s 243us/step - loss: 0.3252 - acc: 0.9014\n",
      "Epoch 12/30\n",
      "200000/200000 [==============================] - 49s 244us/step - loss: 0.3186 - acc: 0.9033\n",
      "Epoch 13/30\n",
      "200000/200000 [==============================] - 49s 245us/step - loss: 0.3104 - acc: 0.9057\n",
      "Epoch 14/30\n",
      "200000/200000 [==============================] - 49s 245us/step - loss: 0.3080 - acc: 0.9065\n",
      "Epoch 15/30\n",
      "200000/200000 [==============================] - 50s 250us/step - loss: 0.3028 - acc: 0.9074\n",
      "Epoch 16/30\n",
      "200000/200000 [==============================] - 49s 247us/step - loss: 0.3011 - acc: 0.9080\n",
      "Epoch 17/30\n",
      "200000/200000 [==============================] - 50s 248us/step - loss: 0.2959 - acc: 0.9093\n",
      "Epoch 18/30\n",
      "200000/200000 [==============================] - 50s 249us/step - loss: 0.2942 - acc: 0.9105\n",
      "Epoch 19/30\n",
      "200000/200000 [==============================] - 50s 251us/step - loss: 0.2896 - acc: 0.9118\n",
      "Epoch 20/30\n",
      "200000/200000 [==============================] - 50s 251us/step - loss: 0.2862 - acc: 0.9130\n",
      "Epoch 21/30\n",
      "200000/200000 [==============================] - 59s 294us/step - loss: 0.2811 - acc: 0.9141\n",
      "Epoch 22/30\n",
      "200000/200000 [==============================] - 49s 243us/step - loss: 0.2774 - acc: 0.9153\n",
      "Epoch 23/30\n",
      "200000/200000 [==============================] - 49s 243us/step - loss: 0.2771 - acc: 0.9156\n",
      "Epoch 24/30\n",
      "200000/200000 [==============================] - 49s 244us/step - loss: 0.2750 - acc: 0.9162\n",
      "Epoch 25/30\n",
      "200000/200000 [==============================] - 49s 245us/step - loss: 0.2716 - acc: 0.9167\n",
      "Epoch 26/30\n",
      "200000/200000 [==============================] - 49s 245us/step - loss: 0.2682 - acc: 0.9177\n",
      "Epoch 27/30\n",
      "200000/200000 [==============================] - 50s 250us/step - loss: 0.2654 - acc: 0.9188\n",
      "Epoch 28/30\n",
      "200000/200000 [==============================] - 50s 251us/step - loss: 0.2650 - acc: 0.9187\n",
      "Epoch 29/30\n",
      "200000/200000 [==============================] - 50s 250us/step - loss: 0.2633 - acc: 0.9198\n",
      "Epoch 30/30\n",
      "200000/200000 [==============================] - 51s 253us/step - loss: 0.2621 - acc: 0.9195\n",
      "----------------------------------------------------------------------------------------\n"
     ]
    },
    {
     "data": {
      "image/png": "[encoded data removed]",
      "text/plain": [
       "<Figure size 432x288 with 1 Axes>"
      ]
     },
     "metadata": {
      "needs_background": "light"
     },
     "output_type": "display_data"
    },
    {
     "name": "stdout",
     "output_type": "stream",
     "text": [
      "50000/50000 [==============================] - 6s 120us/step\n",
      "----------------------------------------------------------------------------------------\n",
      "Execution time: 1489s\n",
      "----------------------------------------------------------------------------------------\n",
      "Accuracy: 0.907\n"
     ]
    },
    {
     "data": {
      "text/plain": [
       "<__main__.NetworkTester instance at 0x1301db758>"
      ]
     },
     "execution_count": 28,
     "metadata": {},
     "output_type": "execute_result"
    }
   ],
   "source": [
    "NetworkTester(x=X, \n",
    "              y=Y,\n",
    "              hidden_layers_sizes=[image_size * image_size, image_size * image_size / 4, image_size * 8, image_size],\n",
    "              hidden_layers_activations=[tf.nn.sigmoid, tf.nn.relu, tf.nn.relu, tf.nn.relu],\n",
    "              dataset_size=250000,\n",
    "              use_dropout=True,\n",
    "              dropout_prob=0.2,\n",
    "              optimizer=tf.train.AdamOptimizer())"
   ]
  },
  {
   "cell_type": "code",
   "execution_count": 29,
   "metadata": {
    "scrolled": false
   },
   "outputs": [
    {
     "name": "stdout",
     "output_type": "stream",
     "text": [
      "----------------------------------------------------------------------------------------\n",
      " [28 x 28] -> [784] -> sigmoid -> [196] -> relu -> [224] -> relu -> [28] -> relu -> [10] -> softmax\n",
      "----------------------------------------------------------------------------------------\n",
      "Initial arguments:\n",
      "----------------------------------------------------------------------------------------\n",
      "('X_train shape =', (200000, 28, 28))\n",
      "('X_test shape =', (50000, 28, 28))\n",
      "('y_train shape =', (200000,))\n",
      "('y_test shape =', (50000,))\n",
      "Hidden layers = 4 layers\n",
      "Epochs to train = 30\n",
      "Beta for regularization: l1 = 0.000, l2 = 0.000\n",
      "Dropout prob = 0.300\n",
      "----------------------------------------------------------------------------------------\n",
      "Initial flags:\n",
      "----------------------------------------------------------------------------------------\n",
      "use_dropout=False, use_regularization=False\n",
      "----------------------------------------------------------------------------------------\n"
     ]
    },
    {
     "data": {
      "image/png": "[encoded data removed]",
      "text/plain": [
       "<Figure size 432x288 with 2 Axes>"
      ]
     },
     "metadata": {
      "needs_background": "light"
     },
     "output_type": "display_data"
    },
    {
     "name": "stdout",
     "output_type": "stream",
     "text": [
      "----------------------------------------------------------------------------------------\n",
      "_________________________________________________________________\n",
      "Layer (type)                 Output Shape              Param #   \n",
      "=================================================================\n",
      "flatten_16 (Flatten)         (None, 784)               0         \n",
      "_________________________________________________________________\n",
      "dense_50 (Dense)             (None, 784)               615440    \n",
      "_________________________________________________________________\n",
      "dense_51 (Dense)             (None, 196)               153860    \n",
      "_________________________________________________________________\n",
      "dense_52 (Dense)             (None, 224)               44128     \n",
      "_________________________________________________________________\n",
      "dense_53 (Dense)             (None, 28)                6300      \n",
      "_________________________________________________________________\n",
      "dense_54 (Dense)             (None, 10)                290       \n",
      "=================================================================\n",
      "Total params: 820,018\n",
      "Trainable params: 820,018\n",
      "Non-trainable params: 0\n",
      "_________________________________________________________________\n",
      "Epoch 1/30\n",
      "200000/200000 [==============================] - 100s 498us/step - loss: 0.5007 - acc: 0.8476\n",
      "Epoch 2/30\n",
      "200000/200000 [==============================] - 44s 222us/step - loss: 0.3790 - acc: 0.8827\n",
      "Epoch 3/30\n",
      "200000/200000 [==============================] - 48s 239us/step - loss: 0.3395 - acc: 0.8940\n",
      "Epoch 4/30\n",
      "200000/200000 [==============================] - 44s 222us/step - loss: 0.3149 - acc: 0.9007\n",
      "Epoch 5/30\n",
      "200000/200000 [==============================] - 54s 269us/step - loss: 0.2983 - acc: 0.9057\n",
      "Epoch 6/30\n",
      "200000/200000 [==============================] - 65s 324us/step - loss: 0.2822 - acc: 0.9103\n",
      "Epoch 7/30\n",
      "200000/200000 [==============================] - 87s 437us/step - loss: 0.2697 - acc: 0.9144\n",
      "Epoch 8/30\n",
      "200000/200000 [==============================] - 58s 288us/step - loss: 0.2611 - acc: 0.9166\n",
      "Epoch 9/30\n",
      "200000/200000 [==============================] - 52s 261us/step - loss: 0.2497 - acc: 0.9205\n",
      "Epoch 10/30\n",
      "200000/200000 [==============================] - 46s 231us/step - loss: 0.2419 - acc: 0.9226\n",
      "Epoch 11/30\n",
      "200000/200000 [==============================] - 46s 232us/step - loss: 0.2354 - acc: 0.9241\n",
      "Epoch 12/30\n",
      "200000/200000 [==============================] - 47s 233us/step - loss: 0.2306 - acc: 0.9261\n",
      "Epoch 13/30\n",
      "200000/200000 [==============================] - 48s 240us/step - loss: 0.2214 - acc: 0.9290\n",
      "Epoch 14/30\n",
      "200000/200000 [==============================] - 48s 239us/step - loss: 0.2164 - acc: 0.9302\n",
      "Epoch 15/30\n",
      "200000/200000 [==============================] - 47s 237us/step - loss: 0.2113 - acc: 0.9324\n",
      "Epoch 16/30\n",
      "200000/200000 [==============================] - 48s 240us/step - loss: 0.2039 - acc: 0.9339\n",
      "Epoch 17/30\n",
      "200000/200000 [==============================] - 48s 241us/step - loss: 0.2013 - acc: 0.9352\n",
      "Epoch 18/30\n",
      "200000/200000 [==============================] - 48s 238us/step - loss: 0.1986 - acc: 0.9357\n",
      "Epoch 19/30\n",
      "200000/200000 [==============================] - 49s 246us/step - loss: 0.1928 - acc: 0.9371\n",
      "Epoch 20/30\n",
      "200000/200000 [==============================] - 49s 243us/step - loss: 0.1896 - acc: 0.9388\n",
      "Epoch 21/30\n",
      "200000/200000 [==============================] - 49s 245us/step - loss: 0.1867 - acc: 0.9393\n",
      "Epoch 22/30\n",
      "200000/200000 [==============================] - 50s 248us/step - loss: 0.1831 - acc: 0.9407\n",
      "Epoch 23/30\n",
      "200000/200000 [==============================] - 50s 248us/step - loss: 0.1793 - acc: 0.9414\n",
      "Epoch 24/30\n",
      "200000/200000 [==============================] - 49s 245us/step - loss: 0.1749 - acc: 0.9432\n",
      "Epoch 25/30\n",
      "200000/200000 [==============================] - 50s 251us/step - loss: 0.1723 - acc: 0.9441\n",
      "Epoch 26/30\n",
      "200000/200000 [==============================] - 50s 249us/step - loss: 0.1686 - acc: 0.9453\n",
      "Epoch 27/30\n",
      "200000/200000 [==============================] - 50s 248us/step - loss: 0.1695 - acc: 0.9453\n",
      "Epoch 28/30\n",
      "200000/200000 [==============================] - 47s 235us/step - loss: 0.1646 - acc: 0.9468\n",
      "Epoch 29/30\n",
      "200000/200000 [==============================] - 46s 232us/step - loss: 0.1626 - acc: 0.9474\n",
      "Epoch 30/30\n",
      "200000/200000 [==============================] - 47s 233us/step - loss: 0.1617 - acc: 0.9474\n",
      "----------------------------------------------------------------------------------------\n"
     ]
    },
    {
     "data": {
      "image/png": "[encoded data removed]",
      "text/plain": [
       "<Figure size 432x288 with 1 Axes>"
      ]
     },
     "metadata": {
      "needs_background": "light"
     },
     "output_type": "display_data"
    },
    {
     "name": "stdout",
     "output_type": "stream",
     "text": [
      "50000/50000 [==============================] - 7s 133us/step\n",
      "----------------------------------------------------------------------------------------\n",
      "Execution time: 1571s\n",
      "----------------------------------------------------------------------------------------\n",
      "Accuracy: 0.905\n"
     ]
    },
    {
     "data": {
      "text/plain": [
       "<__main__.NetworkTester instance at 0x12439eb90>"
      ]
     },
     "execution_count": 29,
     "metadata": {},
     "output_type": "execute_result"
    }
   ],
   "source": [
    "NetworkTester(x=X, \n",
    "              y=Y,\n",
    "              hidden_layers_sizes=[image_size * image_size, image_size * image_size / 4, image_size * 8, image_size],\n",
    "              hidden_layers_activations=[tf.nn.sigmoid, tf.nn.relu, tf.nn.relu, tf.nn.relu],\n",
    "              dataset_size=250000,\n",
    "              optimizer=tf.train.AdamOptimizer())"
   ]
  },
  {
   "cell_type": "code",
   "execution_count": 30,
   "metadata": {
    "scrolled": false
   },
   "outputs": [
    {
     "name": "stdout",
     "output_type": "stream",
     "text": [
      "----------------------------------------------------------------------------------------\n",
      " [28 x 28] -> [784] -> relu -> [196] -> relu -> [224] -> relu -> [28] -> relu -> [10] -> softmax\n",
      "----------------------------------------------------------------------------------------\n",
      "Initial arguments:\n",
      "----------------------------------------------------------------------------------------\n",
      "('X_train shape =', (200000, 28, 28))\n",
      "('X_test shape =', (50000, 28, 28))\n",
      "('y_train shape =', (200000,))\n",
      "('y_test shape =', (50000,))\n",
      "Hidden layers = 4 layers\n",
      "Epochs to train = 30\n",
      "Beta for regularization: l1 = 0.000, l2 = 0.000\n",
      "Dropout prob = 0.300\n",
      "----------------------------------------------------------------------------------------\n",
      "Initial flags:\n",
      "----------------------------------------------------------------------------------------\n",
      "use_dropout=False, use_regularization=False\n",
      "----------------------------------------------------------------------------------------\n"
     ]
    },
    {
     "data": {
      "image/png": "[encoded data removed]",
      "text/plain": [
       "<Figure size 432x288 with 2 Axes>"
      ]
     },
     "metadata": {
      "needs_background": "light"
     },
     "output_type": "display_data"
    },
    {
     "name": "stdout",
     "output_type": "stream",
     "text": [
      "----------------------------------------------------------------------------------------\n",
      "_________________________________________________________________\n",
      "Layer (type)                 Output Shape              Param #   \n",
      "=================================================================\n",
      "flatten_17 (Flatten)         (None, 784)               0         \n",
      "_________________________________________________________________\n",
      "dense_55 (Dense)             (None, 784)               615440    \n",
      "_________________________________________________________________\n",
      "dense_56 (Dense)             (None, 196)               153860    \n",
      "_________________________________________________________________\n",
      "dense_57 (Dense)             (None, 224)               44128     \n",
      "_________________________________________________________________\n",
      "dense_58 (Dense)             (None, 28)                6300      \n",
      "_________________________________________________________________\n",
      "dense_59 (Dense)             (None, 10)                290       \n",
      "=================================================================\n",
      "Total params: 820,018\n",
      "Trainable params: 820,018\n",
      "Non-trainable params: 0\n",
      "_________________________________________________________________\n",
      "Epoch 1/30\n",
      "200000/200000 [==============================] - 65s 323us/step - loss: 0.4791 - acc: 0.8548\n",
      "Epoch 2/30\n",
      "200000/200000 [==============================] - 46s 231us/step - loss: 0.3657 - acc: 0.8882\n",
      "Epoch 3/30\n",
      "200000/200000 [==============================] - 46s 229us/step - loss: 0.3268 - acc: 0.8992\n",
      "Epoch 4/30\n",
      "200000/200000 [==============================] - 46s 231us/step - loss: 0.2998 - acc: 0.9066\n",
      "Epoch 5/30\n",
      "200000/200000 [==============================] - 46s 231us/step - loss: 0.2782 - acc: 0.91241s - \n",
      "Epoch 6/30\n",
      "200000/200000 [==============================] - 46s 230us/step - loss: 0.2620 - acc: 0.9173\n",
      "Epoch 7/30\n",
      "200000/200000 [==============================] - 47s 233us/step - loss: 0.2480 - acc: 0.9216\n",
      "Epoch 8/30\n",
      "200000/200000 [==============================] - 46s 231us/step - loss: 0.2361 - acc: 0.9251\n",
      "Epoch 9/30\n",
      "200000/200000 [==============================] - 47s 234us/step - loss: 0.2249 - acc: 0.9283\n",
      "Epoch 10/30\n",
      "200000/200000 [==============================] - 50s 250us/step - loss: 0.2157 - acc: 0.9310\n",
      "Epoch 11/30\n",
      "200000/200000 [==============================] - 49s 245us/step - loss: 0.2081 - acc: 0.9336\n",
      "Epoch 12/30\n",
      "200000/200000 [==============================] - 49s 245us/step - loss: 0.1998 - acc: 0.9358\n",
      "Epoch 13/30\n",
      "200000/200000 [==============================] - 49s 245us/step - loss: 0.1926 - acc: 0.9386\n",
      "Epoch 14/30\n",
      "200000/200000 [==============================] - 50s 250us/step - loss: 0.1875 - acc: 0.9403\n",
      "Epoch 15/30\n",
      "200000/200000 [==============================] - 49s 247us/step - loss: 0.1817 - acc: 0.9426\n",
      "Epoch 16/30\n",
      "200000/200000 [==============================] - 50s 248us/step - loss: 0.1755 - acc: 0.9437\n",
      "Epoch 17/30\n",
      "200000/200000 [==============================] - 50s 252us/step - loss: 0.1704 - acc: 0.9457\n",
      "Epoch 18/30\n",
      "200000/200000 [==============================] - 51s 254us/step - loss: 0.1689 - acc: 0.9463\n",
      "Epoch 19/30\n",
      "200000/200000 [==============================] - 51s 254us/step - loss: 0.1634 - acc: 0.9482\n",
      "Epoch 20/30\n",
      "200000/200000 [==============================] - 51s 256us/step - loss: 0.1585 - acc: 0.9493\n",
      "Epoch 21/30\n",
      "200000/200000 [==============================] - 51s 255us/step - loss: 0.1557 - acc: 0.9504\n",
      "Epoch 22/30\n",
      "200000/200000 [==============================] - 50s 252us/step - loss: 0.1529 - acc: 0.9515\n",
      "Epoch 23/30\n",
      "200000/200000 [==============================] - 52s 258us/step - loss: 0.1494 - acc: 0.9531\n",
      "Epoch 24/30\n",
      "200000/200000 [==============================] - 51s 255us/step - loss: 0.1454 - acc: 0.9543\n",
      "Epoch 25/30\n",
      "200000/200000 [==============================] - 49s 244us/step - loss: 0.1430 - acc: 0.9551\n",
      "Epoch 26/30\n",
      "200000/200000 [==============================] - 49s 247us/step - loss: 0.1404 - acc: 0.9556\n",
      "Epoch 27/30\n",
      "200000/200000 [==============================] - 49s 247us/step - loss: 0.1388 - acc: 0.9566\n",
      "Epoch 28/30\n",
      "200000/200000 [==============================] - 50s 249us/step - loss: 0.1343 - acc: 0.9579\n",
      "Epoch 29/30\n",
      "200000/200000 [==============================] - 50s 248us/step - loss: 0.1342 - acc: 0.9580\n",
      "Epoch 30/30\n",
      "200000/200000 [==============================] - 50s 249us/step - loss: 0.1322 - acc: 0.9589\n",
      "----------------------------------------------------------------------------------------\n"
     ]
    },
    {
     "data": {
      "image/png": "[encoded data removed]",
      "text/plain": [
       "<Figure size 432x288 with 1 Axes>"
      ]
     },
     "metadata": {
      "needs_background": "light"
     },
     "output_type": "display_data"
    },
    {
     "name": "stdout",
     "output_type": "stream",
     "text": [
      "50000/50000 [==============================] - 6s 127us/step\n",
      "----------------------------------------------------------------------------------------\n",
      "Execution time: 1492s\n",
      "----------------------------------------------------------------------------------------\n",
      "Accuracy: 0.909\n"
     ]
    },
    {
     "data": {
      "text/plain": [
       "<__main__.NetworkTester instance at 0x12868b9e0>"
      ]
     },
     "execution_count": 30,
     "metadata": {},
     "output_type": "execute_result"
    }
   ],
   "source": [
    "NetworkTester(x=X, \n",
    "              y=Y,\n",
    "              hidden_layers_sizes=[image_size * image_size, image_size * image_size / 4, image_size * 8, image_size],\n",
    "              hidden_layers_activations=[tf.nn.relu, tf.nn.relu, tf.nn.relu, tf.nn.relu],\n",
    "              dataset_size=250000,\n",
    "              optimizer=tf.train.AdamOptimizer())"
   ]
  },
  {
   "cell_type": "code",
   "execution_count": 14,
   "metadata": {
    "scrolled": false
   },
   "outputs": [
    {
     "name": "stdout",
     "output_type": "stream",
     "text": [
      "----------------------------------------------------------------------------------------\n",
      " [28 x 28] -> [784] -> sigmoid -> [196] -> sigmoid -> [224] -> sigmoid -> [28] -> relu -> [10] -> softmax\n",
      "----------------------------------------------------------------------------------------\n",
      "Initial arguments:\n",
      "----------------------------------------------------------------------------------------\n",
      "('X_train shape =', (200000, 28, 28))\n",
      "('X_test shape =', (50000, 28, 28))\n",
      "('y_train shape =', (200000,))\n",
      "('y_test shape =', (50000,))\n",
      "Hidden layers = 4 layers\n",
      "Epochs to train = 30\n",
      "Beta for regularization: l1 = 0.000, l2 = 0.000\n",
      "Dropout prob = 0.300\n",
      "----------------------------------------------------------------------------------------\n",
      "Initial flags:\n",
      "----------------------------------------------------------------------------------------\n",
      "use_dropout=False, use_regularization=False\n",
      "----------------------------------------------------------------------------------------\n"
     ]
    },
    {
     "data": {
      "image/png": "[encoded data removed]",
      "text/plain": [
       "<Figure size 432x288 with 2 Axes>"
      ]
     },
     "metadata": {
      "needs_background": "light"
     },
     "output_type": "display_data"
    },
    {
     "name": "stdout",
     "output_type": "stream",
     "text": [
      "----------------------------------------------------------------------------------------\n",
      "_________________________________________________________________\n",
      "Layer (type)                 Output Shape              Param #   \n",
      "=================================================================\n",
      "flatten (Flatten)            (None, 784)               0         \n",
      "_________________________________________________________________\n",
      "dense (Dense)                (None, 784)               615440    \n",
      "_________________________________________________________________\n",
      "dense_1 (Dense)              (None, 196)               153860    \n",
      "_________________________________________________________________\n",
      "dense_2 (Dense)              (None, 224)               44128     \n",
      "_________________________________________________________________\n",
      "dense_3 (Dense)              (None, 28)                6300      \n",
      "_________________________________________________________________\n",
      "dense_4 (Dense)              (None, 10)                290       \n",
      "=================================================================\n",
      "Total params: 820,018\n",
      "Trainable params: 820,018\n",
      "Non-trainable params: 0\n",
      "_________________________________________________________________\n",
      "Epoch 1/30\n",
      "200000/200000 [==============================] - 46s 230us/step - loss: 0.5221 - acc: 0.8429\n",
      "Epoch 2/30\n",
      "200000/200000 [==============================] - 38s 191us/step - loss: 0.3735 - acc: 0.8844\n",
      "Epoch 3/30\n",
      "200000/200000 [==============================] - 41s 207us/step - loss: 0.3287 - acc: 0.8974\n",
      "Epoch 4/30\n",
      "200000/200000 [==============================] - 47s 237us/step - loss: 0.3010 - acc: 0.9052\n",
      "Epoch 5/30\n",
      "200000/200000 [==============================] - 47s 236us/step - loss: 0.2792 - acc: 0.9116\n",
      "Epoch 6/30\n",
      "200000/200000 [==============================] - 44s 219us/step - loss: 0.2646 - acc: 0.9160\n",
      "Epoch 7/30\n",
      "200000/200000 [==============================] - 46s 230us/step - loss: 0.2498 - acc: 0.9209\n",
      "Epoch 8/30\n",
      "200000/200000 [==============================] - 49s 243us/step - loss: 0.2374 - acc: 0.9244\n",
      "Epoch 9/30\n",
      "200000/200000 [==============================] - 50s 248us/step - loss: 0.2250 - acc: 0.9282\n",
      "Epoch 10/30\n",
      "200000/200000 [==============================] - 43s 213us/step - loss: 0.2157 - acc: 0.9309\n",
      "Epoch 11/30\n",
      "200000/200000 [==============================] - 38s 188us/step - loss: 0.2059 - acc: 0.9337\n",
      "Epoch 12/30\n",
      "200000/200000 [==============================] - 37s 187us/step - loss: 0.1988 - acc: 0.9363\n",
      "Epoch 13/30\n",
      "200000/200000 [==============================] - 39s 193us/step - loss: 0.1892 - acc: 0.9393\n",
      "Epoch 14/30\n",
      "200000/200000 [==============================] - 38s 188us/step - loss: 0.1832 - acc: 0.9412\n",
      "Epoch 15/30\n",
      "200000/200000 [==============================] - 52s 259us/step - loss: 0.1752 - acc: 0.9437\n",
      "Epoch 16/30\n",
      "200000/200000 [==============================] - 59s 295us/step - loss: 0.1694 - acc: 0.9457\n",
      "Epoch 17/30\n",
      "200000/200000 [==============================] - 59s 297us/step - loss: 0.1624 - acc: 0.9478\n",
      "Epoch 18/30\n",
      "200000/200000 [==============================] - 60s 298us/step - loss: 0.1566 - acc: 0.9496\n",
      "Epoch 19/30\n",
      "200000/200000 [==============================] - 61s 304us/step - loss: 0.1504 - acc: 0.9517\n",
      "Epoch 20/30\n",
      "200000/200000 [==============================] - 59s 295us/step - loss: 0.1451 - acc: 0.9535\n",
      "Epoch 21/30\n",
      "200000/200000 [==============================] - 56s 281us/step - loss: 0.1422 - acc: 0.9543\n",
      "Epoch 22/30\n",
      "200000/200000 [==============================] - 57s 283us/step - loss: 0.1374 - acc: 0.9560\n",
      "Epoch 23/30\n",
      "200000/200000 [==============================] - 57s 287us/step - loss: 0.1318 - acc: 0.9573\n",
      "Epoch 24/30\n",
      "200000/200000 [==============================] - 59s 293us/step - loss: 0.1269 - acc: 0.9592\n",
      "Epoch 25/30\n",
      "200000/200000 [==============================] - 58s 291us/step - loss: 0.1229 - acc: 0.9610\n",
      "Epoch 26/30\n",
      "200000/200000 [==============================] - 59s 296us/step - loss: 0.1217 - acc: 0.9609\n",
      "Epoch 27/30\n",
      "200000/200000 [==============================] - 60s 299us/step - loss: 0.1172 - acc: 0.9628\n",
      "Epoch 28/30\n",
      "200000/200000 [==============================] - 60s 301us/step - loss: 0.1139 - acc: 0.9631\n",
      "Epoch 29/30\n",
      "200000/200000 [==============================] - 63s 313us/step - loss: 0.1113 - acc: 0.9643\n",
      "Epoch 30/30\n",
      "200000/200000 [==============================] - 61s 306us/step - loss: 0.1104 - acc: 0.9648\n",
      "----------------------------------------------------------------------------------------\n"
     ]
    },
    {
     "data": {
      "image/png": "[encoded data removed]",
      "text/plain": [
       "<Figure size 432x288 with 1 Axes>"
      ]
     },
     "metadata": {
      "needs_background": "light"
     },
     "output_type": "display_data"
    },
    {
     "name": "stdout",
     "output_type": "stream",
     "text": [
      "50000/50000 [==============================] - 5s 101us/step\n",
      "----------------------------------------------------------------------------------------\n",
      "Execution time: 1547s\n",
      "----------------------------------------------------------------------------------------\n",
      "Accuracy: 0.908\n"
     ]
    },
    {
     "data": {
      "text/plain": [
       "<__main__.NetworkTester instance at 0x12d5233b0>"
      ]
     },
     "execution_count": 14,
     "metadata": {},
     "output_type": "execute_result"
    }
   ],
   "source": [
    "NetworkTester(x=X, \n",
    "              y=Y,\n",
    "              hidden_layers_sizes=[image_size * image_size, image_size * image_size / 4, image_size * 8, image_size],\n",
    "              hidden_layers_activations=[tf.nn.sigmoid, tf.nn.sigmoid, tf.nn.sigmoid, tf.nn.relu],\n",
    "              dataset_size=250000,\n",
    "              optimizer=tf.train.AdamOptimizer())"
   ]
  },
  {
   "cell_type": "code",
   "execution_count": 15,
   "metadata": {
    "scrolled": false
   },
   "outputs": [
    {
     "name": "stdout",
     "output_type": "stream",
     "text": [
      "----------------------------------------------------------------------------------------\n",
      " [28 x 28] -> [784] -> sigmoid -> [196] -> tanh -> [224] -> tanh -> [28] -> relu -> [10] -> softmax\n",
      "----------------------------------------------------------------------------------------\n",
      "Initial arguments:\n",
      "----------------------------------------------------------------------------------------\n",
      "('X_train shape =', (200000, 28, 28))\n",
      "('X_test shape =', (50000, 28, 28))\n",
      "('y_train shape =', (200000,))\n",
      "('y_test shape =', (50000,))\n",
      "Hidden layers = 4 layers\n",
      "Epochs to train = 30\n",
      "Beta for regularization: l1 = 0.000, l2 = 0.000\n",
      "Dropout prob = 0.300\n",
      "----------------------------------------------------------------------------------------\n",
      "Initial flags:\n",
      "----------------------------------------------------------------------------------------\n",
      "use_dropout=False, use_regularization=False\n",
      "----------------------------------------------------------------------------------------\n"
     ]
    },
    {
     "data": {
      "image/png": "[encoded data removed]",
      "text/plain": [
       "<Figure size 432x288 with 2 Axes>"
      ]
     },
     "metadata": {
      "needs_background": "light"
     },
     "output_type": "display_data"
    },
    {
     "name": "stdout",
     "output_type": "stream",
     "text": [
      "----------------------------------------------------------------------------------------\n",
      "_________________________________________________________________\n",
      "Layer (type)                 Output Shape              Param #   \n",
      "=================================================================\n",
      "flatten_1 (Flatten)          (None, 784)               0         \n",
      "_________________________________________________________________\n",
      "dense_5 (Dense)              (None, 784)               615440    \n",
      "_________________________________________________________________\n",
      "dense_6 (Dense)              (None, 196)               153860    \n",
      "_________________________________________________________________\n",
      "dense_7 (Dense)              (None, 224)               44128     \n",
      "_________________________________________________________________\n",
      "dense_8 (Dense)              (None, 28)                6300      \n",
      "_________________________________________________________________\n",
      "dense_9 (Dense)              (None, 10)                290       \n",
      "=================================================================\n",
      "Total params: 820,018\n",
      "Trainable params: 820,018\n",
      "Non-trainable params: 0\n",
      "_________________________________________________________________\n",
      "Epoch 1/30\n",
      "200000/200000 [==============================] - 58s 288us/step - loss: 0.5196 - acc: 0.8413\n",
      "Epoch 2/30\n",
      "200000/200000 [==============================] - 55s 275us/step - loss: 0.3907 - acc: 0.8795\n",
      "Epoch 3/30\n",
      "200000/200000 [==============================] - 57s 285us/step - loss: 0.3505 - acc: 0.8909\n",
      "Epoch 4/30\n",
      "200000/200000 [==============================] - 58s 290us/step - loss: 0.3283 - acc: 0.8971\n",
      "Epoch 5/30\n",
      "200000/200000 [==============================] - 57s 286us/step - loss: 0.3127 - acc: 0.9018\n",
      "Epoch 6/30\n",
      "200000/200000 [==============================] - 58s 291us/step - loss: 0.3009 - acc: 0.9052\n",
      "Epoch 7/30\n",
      "200000/200000 [==============================] - 59s 296us/step - loss: 0.2904 - acc: 0.9085\n",
      "Epoch 8/30\n",
      "200000/200000 [==============================] - 61s 305us/step - loss: 0.2826 - acc: 0.9104\n",
      "Epoch 9/30\n",
      "200000/200000 [==============================] - 62s 309us/step - loss: 0.2763 - acc: 0.9128\n",
      "Epoch 10/30\n",
      "200000/200000 [==============================] - 61s 304us/step - loss: 0.2715 - acc: 0.9144\n",
      "Epoch 11/30\n",
      "200000/200000 [==============================] - 60s 299us/step - loss: 0.2680 - acc: 0.9155\n",
      "Epoch 12/30\n",
      "200000/200000 [==============================] - 62s 309us/step - loss: 0.2626 - acc: 0.9167\n",
      "Epoch 13/30\n",
      "200000/200000 [==============================] - 62s 311us/step - loss: 0.2584 - acc: 0.9182\n",
      "Epoch 14/30\n",
      "200000/200000 [==============================] - 63s 313us/step - loss: 0.2550 - acc: 0.9188\n",
      "Epoch 15/30\n",
      "200000/200000 [==============================] - 63s 316us/step - loss: 0.2491 - acc: 0.92090s - loss: 0.2490 - acc: 0.92\n",
      "Epoch 16/30\n",
      "200000/200000 [==============================] - 64s 322us/step - loss: 0.2478 - acc: 0.9206\n",
      "Epoch 17/30\n",
      "200000/200000 [==============================] - 64s 320us/step - loss: 0.2444 - acc: 0.9217\n",
      "Epoch 18/30\n",
      "200000/200000 [==============================] - 65s 324us/step - loss: 0.2441 - acc: 0.9225\n",
      "Epoch 19/30\n",
      "200000/200000 [==============================] - 67s 335us/step - loss: 0.2391 - acc: 0.9240\n",
      "Epoch 20/30\n",
      "200000/200000 [==============================] - 65s 327us/step - loss: 0.2404 - acc: 0.9238\n",
      "Epoch 21/30\n",
      "200000/200000 [==============================] - 65s 324us/step - loss: 0.2410 - acc: 0.9235\n",
      "Epoch 22/30\n",
      "200000/200000 [==============================] - 65s 327us/step - loss: 0.2362 - acc: 0.9245\n",
      "Epoch 23/30\n",
      "200000/200000 [==============================] - 67s 333us/step - loss: 0.2316 - acc: 0.9261\n",
      "Epoch 24/30\n",
      "200000/200000 [==============================] - 64s 318us/step - loss: 0.2325 - acc: 0.9262\n",
      "Epoch 25/30\n",
      "200000/200000 [==============================] - 64s 319us/step - loss: 0.2316 - acc: 0.9263\n",
      "Epoch 26/30\n",
      "200000/200000 [==============================] - 63s 313us/step - loss: 0.2278 - acc: 0.9273\n",
      "Epoch 27/30\n",
      "200000/200000 [==============================] - 63s 316us/step - loss: 0.2255 - acc: 0.9281\n",
      "Epoch 28/30\n",
      "200000/200000 [==============================] - 66s 329us/step - loss: 0.2232 - acc: 0.9285\n",
      "Epoch 29/30\n",
      "200000/200000 [==============================] - 65s 325us/step - loss: 0.2196 - acc: 0.9303\n",
      "Epoch 30/30\n",
      "200000/200000 [==============================] - 64s 320us/step - loss: 0.2199 - acc: 0.9297\n",
      "----------------------------------------------------------------------------------------\n"
     ]
    },
    {
     "data": {
      "image/png": "[encoded data removed]",
      "text/plain": [
       "<Figure size 432x288 with 1 Axes>"
      ]
     },
     "metadata": {
      "needs_background": "light"
     },
     "output_type": "display_data"
    },
    {
     "name": "stdout",
     "output_type": "stream",
     "text": [
      "50000/50000 [==============================] - 5s 98us/step\n",
      "----------------------------------------------------------------------------------------\n",
      "Execution time: 1872s\n",
      "----------------------------------------------------------------------------------------\n",
      "Accuracy: 0.899\n"
     ]
    },
    {
     "data": {
      "text/plain": [
       "<__main__.NetworkTester instance at 0x12e7d7050>"
      ]
     },
     "execution_count": 15,
     "metadata": {},
     "output_type": "execute_result"
    }
   ],
   "source": [
    "NetworkTester(x=X, \n",
    "              y=Y,\n",
    "              hidden_layers_sizes=[image_size * image_size, image_size * image_size / 4, image_size * 8, image_size],\n",
    "              hidden_layers_activations=[tf.nn.sigmoid, tf.nn.tanh, tf.nn.tanh, tf.nn.relu],\n",
    "              dataset_size=250000,\n",
    "              optimizer=tf.train.AdamOptimizer())"
   ]
  },
  {
   "cell_type": "code",
   "execution_count": 16,
   "metadata": {
    "scrolled": true
   },
   "outputs": [],
   "source": [
    "pd.set_option('display.max_colwidth', 300)"
   ]
  },
  {
   "cell_type": "code",
   "execution_count": 17,
   "metadata": {
    "scrolled": true
   },
   "outputs": [
    {
     "name": "stdout",
     "output_type": "stream",
     "text": [
      "----------------------------------------------------\n",
      "Best test accuracy found: 0.908\n"
     ]
    },
    {
     "data": {
      "text/html": [
       "<div>\n",
       "<style scoped>\n",
       "    .dataframe tbody tr th:only-of-type {\n",
       "        vertical-align: middle;\n",
       "    }\n",
       "\n",
       "    .dataframe tbody tr th {\n",
       "        vertical-align: top;\n",
       "    }\n",
       "\n",
       "    .dataframe thead th {\n",
       "        text-align: right;\n",
       "    }\n",
       "</style>\n",
       "<table border=\"1\" class=\"dataframe\">\n",
       "  <thead>\n",
       "    <tr style=\"text-align: right;\">\n",
       "      <th></th>\n",
       "      <th>architecture</th>\n",
       "      <th>accuracy</th>\n",
       "    </tr>\n",
       "  </thead>\n",
       "  <tbody>\n",
       "    <tr>\n",
       "      <th>0</th>\n",
       "      <td>[28 x 28] -&gt; [784] -&gt; sigmoid -&gt; [196] -&gt; sigmoid -&gt; [224] -&gt; sigmoid -&gt; [28] -&gt; relu -&gt; [10] -&gt; softmax</td>\n",
       "      <td>0.90786</td>\n",
       "    </tr>\n",
       "    <tr>\n",
       "      <th>1</th>\n",
       "      <td>[28 x 28] -&gt; [784] -&gt; sigmoid -&gt; [196] -&gt; tanh -&gt; [224] -&gt; tanh -&gt; [28] -&gt; relu -&gt; [10] -&gt; softmax</td>\n",
       "      <td>0.89938</td>\n",
       "    </tr>\n",
       "  </tbody>\n",
       "</table>\n",
       "</div>"
      ],
      "text/plain": [
       "                                                                                                architecture  \\\n",
       "0   [28 x 28] -> [784] -> sigmoid -> [196] -> sigmoid -> [224] -> sigmoid -> [28] -> relu -> [10] -> softmax   \n",
       "1         [28 x 28] -> [784] -> sigmoid -> [196] -> tanh -> [224] -> tanh -> [28] -> relu -> [10] -> softmax   \n",
       "\n",
       "   accuracy  \n",
       "0   0.90786  \n",
       "1   0.89938  "
      ]
     },
     "execution_count": 17,
     "metadata": {},
     "output_type": "execute_result"
    }
   ],
   "source": [
    "comparator.debug()"
   ]
  }
 ],
 "metadata": {
  "kernelspec": {
   "display_name": "Python 2",
   "language": "python",
   "name": "python2"
  },
  "language_info": {
   "codemirror_mode": {
    "name": "ipython",
    "version": 2
   },
   "file_extension": ".py",
   "mimetype": "text/x-python",
   "name": "python",
   "nbconvert_exporter": "python",
   "pygments_lexer": "ipython2",
   "version": "2.7.15"
  }
 },
 "nbformat": 4,
 "nbformat_minor": 2
}

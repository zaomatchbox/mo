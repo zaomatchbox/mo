{
 "cells": [
  {
   "cell_type": "code",
   "execution_count": 2,
   "metadata": {},
   "outputs": [],
   "source": [
    "import pandas as pd\n",
    "from PIL import Image\n",
    "import numpy as np\n",
    "import scipy.misc as smp\n",
    "import matplotlib.pyplot as plt\n",
    "from pylab import *\n",
    "import numpy, imageio, glob, sys, os, random\n",
    "import tensorflow as tf\n",
    "from tensorflow import keras\n",
    "from sklearn.model_selection import train_test_split\n",
    "from timeit import default_timer as timer"
   ]
  },
  {
   "cell_type": "code",
   "execution_count": 3,
   "metadata": {},
   "outputs": [],
   "source": [
    "def get_labels_and_files(folder):\n",
    "    filelists = []\n",
    "    for label in range(0,10):\n",
    "        filelist = []\n",
    "        filelists.append(filelist);\n",
    "        dirname = os.path.join(folder, chr(ord('A') + label))\n",
    "        for file in os.listdir(dirname):\n",
    "            if (file.endswith('.png')):\n",
    "                fullname = os.path.join(dirname, file)\n",
    "            if (os.path.getsize(fullname) > 0):\n",
    "                filelist.append(fullname)\n",
    "            else:\n",
    "                print('file ' + fullname + ' is empty')\n",
    "        filelist.sort()\n",
    "\n",
    "    labelsAndFiles = []\n",
    "    for label in range(0,10):\n",
    "        filelist = filelists[label]\n",
    "        for filename in filelist:\n",
    "            labelsAndFiles.append((label, filename))\n",
    "\n",
    "    return labelsAndFiles\n",
    "\n",
    "def make_arrays(labelsAndFiles):\n",
    "    images = []\n",
    "    labels = []\n",
    "    for i in range(0, len(labelsAndFiles)):\n",
    "        if (i % 100 == 0):\n",
    "            sys.stdout.write(\"\\r%d%% complete\" % ((i * 100)/len(labelsAndFiles)))\n",
    "            sys.stdout.flush()\n",
    "\n",
    "        filename = labelsAndFiles[i][1]\n",
    "        try:\n",
    "            image = imageio.imread(filename)\n",
    "            images.append(image)\n",
    "            labels.append(labelsAndFiles[i][0])\n",
    "        except:\n",
    "            # If this happens we won't have the requested number\n",
    "            print(\"\\nCan't read image file \" + filename)\n",
    "\n",
    "    count = len(images)\n",
    "    imagedata = numpy.zeros((count,28,28), dtype=numpy.uint8)\n",
    "    labeldata = numpy.zeros(count, dtype=numpy.uint8)\n",
    "    for i in range(0, count):\n",
    "        imagedata[i] = images[i]\n",
    "        labeldata[i] = labels[i]\n",
    "    print(\"\\n\")\n",
    "    return imagedata, labeldata\n",
    "\n",
    "def write_labeldata(labeldata, outputfile):\n",
    "    header = numpy.array([0x0801, len(labeldata)], dtype='>i4')\n",
    "    with open(outputfile, \"wb\") as f:\n",
    "        f.write(header.tobytes())\n",
    "        f.write(labeldata.tobytes())\n",
    "\n",
    "def write_imagedata(imagedata, outputfile):\n",
    "    header = numpy.array([0x0803, len(imagedata), 28, 28], dtype='>i4')\n",
    "    with open(outputfile, \"wb\") as f:\n",
    "        f.write(header.tobytes())\n",
    "        f.write(imagedata.tobytes())\n",
    "\n",
    "def load_data(dirname):\n",
    "    labelsAndFiles = get_labels_and_files(dirname)\n",
    "    random.shuffle(labelsAndFiles)\n",
    "    imagedata, labeldata = make_arrays(labelsAndFiles)\n",
    "    return (imagedata, labeldata)"
   ]
  },
  {
   "cell_type": "code",
   "execution_count": 4,
   "metadata": {},
   "outputs": [
    {
     "name": "stdout",
     "output_type": "stream",
     "text": [
      "file /Users/asaskevich/Downloads/notMNIST_small/A/RGVtb2NyYXRpY2FCb2xkT2xkc3R5bGUgQm9sZC50dGY=.png is empty\n",
      "file /Users/asaskevich/Downloads/notMNIST_small/F/Q3Jvc3NvdmVyIEJvbGRPYmxpcXVlLnR0Zg==.png is empty\n",
      "99% complete\n",
      "\n"
     ]
    }
   ],
   "source": [
    "X, Y = load_data('/Users/asaskevich/Downloads/notMNIST_small/')"
   ]
  },
  {
   "cell_type": "code",
   "execution_count": 5,
   "metadata": {},
   "outputs": [
    {
     "data": {
      "text/plain": [
       "8"
      ]
     },
     "execution_count": 5,
     "metadata": {},
     "output_type": "execute_result"
    }
   ],
   "source": [
    "Y[0]"
   ]
  },
  {
   "cell_type": "code",
   "execution_count": 6,
   "metadata": {},
   "outputs": [
    {
     "data": {
      "text/plain": [
       "array([[ 91, 205, 241, 253, 255, 255, 255, 255, 255, 255, 255, 255, 255,\n",
       "        255, 255, 255, 255, 255, 255, 255, 255, 255, 255, 255, 253, 241,\n",
       "        205,  90],\n",
       "       [183, 255, 254, 255, 252, 252, 255, 255, 255, 255, 255, 255, 255,\n",
       "        255, 255, 255, 255, 255, 255, 255, 255, 255, 252, 252, 255, 254,\n",
       "        255, 178],\n",
       "       [ 20, 123, 201, 249, 255, 255, 254, 253, 255, 255, 255, 255, 255,\n",
       "        255, 255, 255, 255, 255, 255, 255, 253, 254, 255, 255, 248, 201,\n",
       "        119,  18],\n",
       "       [  0,   0,   3,  42, 117, 196, 249, 255, 255, 255, 255, 255, 255,\n",
       "        255, 255, 255, 255, 255, 255, 254, 255, 249, 188, 110,  42,   3,\n",
       "          0,   0],\n",
       "       [  1,   4,   0,   0,   1,   0,  49, 187, 255, 255, 255, 255, 255,\n",
       "        255, 255, 255, 255, 255, 255, 254, 168,  43,   0,   1,   0,   1,\n",
       "          3,   1],\n",
       "       [  0,   0,   0,   2,   3,   2,   0,  12, 232, 255, 254, 255, 255,\n",
       "        255, 255, 255, 255, 254, 255, 231,   5,   1,   2,   3,   2,   0,\n",
       "          0,   0],\n",
       "       [  0,   0,   0,   0,   0,   0,   6,   0, 227, 255, 254, 255, 255,\n",
       "        255, 255, 255, 255, 254, 255, 227,   0,   6,   0,   0,   0,   0,\n",
       "          0,   0],\n",
       "       [  0,   0,   0,   0,   0,   0,   3,   0, 227, 255, 254, 255, 255,\n",
       "        255, 255, 255, 255, 254, 255, 227,   0,   3,   0,   0,   0,   0,\n",
       "          0,   0],\n",
       "       [  0,   0,   0,   0,   0,   0,   3,   0, 227, 255, 254, 255, 255,\n",
       "        255, 255, 255, 255, 254, 255, 227,   0,   3,   0,   0,   0,   0,\n",
       "          0,   0],\n",
       "       [  0,   0,   0,   0,   0,   0,   3,   0, 227, 255, 254, 255, 255,\n",
       "        255, 255, 255, 255, 254, 255, 227,   0,   3,   0,   0,   0,   0,\n",
       "          0,   0],\n",
       "       [  0,   0,   0,   0,   0,   0,   3,   0, 227, 255, 254, 255, 255,\n",
       "        255, 255, 255, 255, 254, 255, 227,   0,   3,   0,   0,   0,   0,\n",
       "          0,   0],\n",
       "       [  0,   0,   0,   0,   0,   0,   3,   0, 227, 255, 254, 255, 255,\n",
       "        255, 255, 255, 255, 254, 255, 227,   0,   3,   0,   0,   0,   0,\n",
       "          0,   0],\n",
       "       [  0,   0,   0,   0,   0,   0,   3,   0, 227, 255, 254, 255, 255,\n",
       "        255, 255, 255, 255, 254, 255, 227,   0,   3,   0,   0,   0,   0,\n",
       "          0,   0],\n",
       "       [  0,   0,   0,   0,   0,   0,   3,   0, 227, 255, 254, 255, 255,\n",
       "        255, 255, 255, 255, 254, 255, 227,   0,   3,   0,   0,   0,   0,\n",
       "          0,   0],\n",
       "       [  0,   0,   0,   0,   0,   0,   3,   0, 227, 255, 254, 255, 255,\n",
       "        255, 255, 255, 255, 254, 255, 227,   0,   3,   0,   0,   0,   0,\n",
       "          0,   0],\n",
       "       [  0,   0,   0,   0,   0,   0,   3,   0, 227, 255, 254, 255, 255,\n",
       "        255, 255, 255, 255, 254, 255, 227,   0,   3,   0,   0,   0,   0,\n",
       "          0,   0],\n",
       "       [  0,   0,   0,   0,   0,   0,   3,   0, 227, 255, 254, 255, 255,\n",
       "        255, 255, 255, 255, 254, 255, 227,   0,   3,   0,   0,   0,   0,\n",
       "          0,   0],\n",
       "       [  0,   0,   0,   0,   0,   0,   3,   0, 227, 255, 254, 255, 255,\n",
       "        255, 255, 255, 255, 254, 255, 227,   0,   3,   0,   0,   0,   0,\n",
       "          0,   0],\n",
       "       [  0,   0,   0,   0,   0,   0,   3,   0, 227, 255, 254, 255, 255,\n",
       "        255, 255, 255, 255, 254, 255, 227,   0,   3,   0,   0,   0,   0,\n",
       "          0,   0],\n",
       "       [  0,   0,   0,   0,   0,   0,   3,   0, 227, 255, 254, 255, 255,\n",
       "        255, 255, 255, 255, 254, 255, 227,   0,   3,   0,   0,   0,   0,\n",
       "          0,   0],\n",
       "       [  0,   0,   0,   0,   0,   0,   3,   0, 227, 255, 254, 255, 255,\n",
       "        255, 255, 255, 255, 254, 255, 227,   0,   3,   0,   0,   0,   0,\n",
       "          0,   0],\n",
       "       [  0,   0,   0,   0,   0,   0,   6,   0, 227, 255, 254, 255, 255,\n",
       "        255, 255, 255, 255, 254, 255, 227,   0,   6,   0,   0,   0,   0,\n",
       "          0,   0],\n",
       "       [  0,   0,   0,   2,   4,   2,   1,   3, 230, 255, 254, 255, 255,\n",
       "        255, 255, 255, 255, 254, 255, 232,  12,   0,   2,   3,   2,   0,\n",
       "          0,   0],\n",
       "       [  1,   3,   1,   0,   1,   0,  40, 165, 253, 255, 255, 255, 255,\n",
       "        255, 255, 255, 255, 255, 255, 255, 186,  49,   0,   1,   0,   0,\n",
       "          4,   1],\n",
       "       [  0,   0,   3,  41, 108, 185, 248, 255, 254, 255, 255, 255, 255,\n",
       "        255, 255, 255, 255, 255, 255, 255, 255, 249, 195, 116,  42,   3,\n",
       "          0,   0],\n",
       "       [ 17, 119, 201, 248, 255, 255, 254, 253, 255, 255, 255, 255, 255,\n",
       "        255, 255, 255, 255, 255, 255, 255, 253, 254, 255, 255, 248, 201,\n",
       "        122,  19],\n",
       "       [177, 255, 254, 255, 252, 252, 255, 255, 255, 255, 255, 255, 255,\n",
       "        255, 255, 255, 255, 255, 255, 255, 255, 255, 252, 252, 255, 254,\n",
       "        255, 181],\n",
       "       [ 92, 206, 241, 252, 255, 255, 255, 255, 255, 255, 255, 255, 255,\n",
       "        255, 255, 255, 255, 255, 255, 255, 255, 255, 255, 255, 252, 241,\n",
       "        206,  90]], dtype=uint8)"
      ]
     },
     "execution_count": 6,
     "metadata": {},
     "output_type": "execute_result"
    }
   ],
   "source": [
    "X[0]"
   ]
  },
  {
   "cell_type": "code",
   "execution_count": 7,
   "metadata": {},
   "outputs": [
    {
     "data": {
      "text/plain": [
       "(18724, 28, 28)"
      ]
     },
     "execution_count": 7,
     "metadata": {},
     "output_type": "execute_result"
    }
   ],
   "source": [
    "X.shape"
   ]
  },
  {
   "cell_type": "code",
   "execution_count": 8,
   "metadata": {},
   "outputs": [],
   "source": [
    "image_size = 28\n",
    "pixel_depth = 255"
   ]
  },
  {
   "cell_type": "code",
   "execution_count": 9,
   "metadata": {},
   "outputs": [
    {
     "data": {
      "image/png": "[encoded data removed]",
      "text/plain": [
       "<Figure size 72x72 with 1 Axes>"
      ]
     },
     "metadata": {
      "needs_background": "light"
     },
     "output_type": "display_data"
    },
    {
     "data": {
      "image/png": "[encoded data removed]",
      "text/plain": [
       "<Figure size 72x72 with 1 Axes>"
      ]
     },
     "metadata": {
      "needs_background": "light"
     },
     "output_type": "display_data"
    },
    {
     "data": {
      "image/png": "[encoded data removed]",
      "text/plain": [
       "<Figure size 72x72 with 1 Axes>"
      ]
     },
     "metadata": {
      "needs_background": "light"
     },
     "output_type": "display_data"
    },
    {
     "data": {
      "image/png": "[encoded data removed]",
      "text/plain": [
       "<Figure size 72x72 with 1 Axes>"
      ]
     },
     "metadata": {
      "needs_background": "light"
     },
     "output_type": "display_data"
    },
    {
     "data": {
      "image/png": "[encoded data removed]",
      "text/plain": [
       "<Figure size 72x72 with 1 Axes>"
      ]
     },
     "metadata": {
      "needs_background": "light"
     },
     "output_type": "display_data"
    }
   ],
   "source": [
    "for i in range(5):\n",
    "    img_mat = (X[np.random.choice(range(len(X)-1))]).reshape(image_size, image_size)\n",
    "    plt.figure(figsize=(1,1))\n",
    "    plt.imshow(img_mat, cmap='gray')\n",
    "    plt.show()"
   ]
  },
  {
   "cell_type": "code",
   "execution_count": 10,
   "metadata": {},
   "outputs": [
    {
     "data": {
      "text/plain": [
       "(array([1872., 1873., 1873., 1873., 1873., 1872., 1872., 1872., 1872.,\n",
       "        1872.]),\n",
       " array([0. , 0.9, 1.8, 2.7, 3.6, 4.5, 5.4, 6.3, 7.2, 8.1, 9. ]),\n",
       " <a list of 10 Patch objects>)"
      ]
     },
     "execution_count": 10,
     "metadata": {},
     "output_type": "execute_result"
    },
    {
     "data": {
      "image/png": "[encoded data removed]",
      "text/plain": [
       "<Figure size 432x288 with 1 Axes>"
      ]
     },
     "metadata": {
      "needs_background": "light"
     },
     "output_type": "display_data"
    }
   ],
   "source": [
    "plt.hist(Y)"
   ]
  },
  {
   "cell_type": "code",
   "execution_count": 11,
   "metadata": {},
   "outputs": [],
   "source": [
    "def data_split(X_full, Y_full, train_size, test_size, valid_size, random_state=42):\n",
    "    size = train_size + test_size + valid_size\n",
    "    print('Total size of dataset = %d, train = %d, test = %d, valid = %d' % (size, train_size, test_size, valid_size))\n",
    "    \n",
    "    X, y = X_full[:size], Y_full[:size]\n",
    "    \n",
    "    X_train, X_test, y_train, y_test = train_test_split(X, y, test_size=float(test_size + valid_size) / float(size), random_state=random_state)\n",
    "    X_val, X_test, y_val, y_test = train_test_split(X_test, y_test, test_size=float(test_size) / float(test_size + valid_size), random_state=random_state)\n",
    "    return X_train, y_train, X_val, y_val, X_test, y_test"
   ]
  },
  {
   "cell_type": "code",
   "execution_count": 12,
   "metadata": {},
   "outputs": [
    {
     "name": "stdout",
     "output_type": "stream",
     "text": [
      "Total size of dataset = 229000, train = 200000, test = 19000, valid = 10000\n"
     ]
    }
   ],
   "source": [
    "X_train, y_train, X_val, y_val, X_test, y_test = data_split(X, Y, 200000, 19000, 10000)"
   ]
  },
  {
   "cell_type": "code",
   "execution_count": 13,
   "metadata": {},
   "outputs": [
    {
     "data": {
      "text/plain": [
       "(16352, 28, 28)"
      ]
     },
     "execution_count": 13,
     "metadata": {},
     "output_type": "execute_result"
    }
   ],
   "source": [
    "X_train.shape"
   ]
  },
  {
   "cell_type": "code",
   "execution_count": 14,
   "metadata": {},
   "outputs": [
    {
     "data": {
      "text/plain": [
       "(1555, 28, 28)"
      ]
     },
     "execution_count": 14,
     "metadata": {},
     "output_type": "execute_result"
    }
   ],
   "source": [
    "X_test.shape"
   ]
  },
  {
   "cell_type": "code",
   "execution_count": 15,
   "metadata": {},
   "outputs": [
    {
     "data": {
      "text/plain": [
       "(array([1613., 1616., 1640., 1621., 1649., 1631., 1637., 1648., 1642.,\n",
       "        1655.]),\n",
       " array([0. , 0.9, 1.8, 2.7, 3.6, 4.5, 5.4, 6.3, 7.2, 8.1, 9. ]),\n",
       " <a list of 10 Patch objects>)"
      ]
     },
     "execution_count": 15,
     "metadata": {},
     "output_type": "execute_result"
    },
    {
     "data": {
      "image/png": "[encoded data removed]",
      "text/plain": [
       "<Figure size 432x288 with 1 Axes>"
      ]
     },
     "metadata": {
      "needs_background": "light"
     },
     "output_type": "display_data"
    }
   ],
   "source": [
    "plt.hist(y_train)"
   ]
  },
  {
   "cell_type": "code",
   "execution_count": 16,
   "metadata": {},
   "outputs": [
    {
     "data": {
      "text/plain": [
       "(array([167., 166., 159., 163., 146., 162., 147., 148., 157., 140.]),\n",
       " array([0. , 0.9, 1.8, 2.7, 3.6, 4.5, 5.4, 6.3, 7.2, 8.1, 9. ]),\n",
       " <a list of 10 Patch objects>)"
      ]
     },
     "execution_count": 16,
     "metadata": {},
     "output_type": "execute_result"
    },
    {
     "data": {
      "image/png": "[encoded data removed]",
      "text/plain": [
       "<Figure size 432x288 with 1 Axes>"
      ]
     },
     "metadata": {
      "needs_background": "light"
     },
     "output_type": "display_data"
    }
   ],
   "source": [
    "plt.hist(y_test)"
   ]
  },
  {
   "cell_type": "code",
   "execution_count": 17,
   "metadata": {},
   "outputs": [],
   "source": [
    "model = keras.Sequential([\n",
    "    keras.layers.Conv2D(filters=2, kernel_size=(3, 3), activation='relu', input_shape=(image_size, image_size, 1)),\n",
    "    keras.layers.Conv2D(filters=4, kernel_size=(3, 3), activation='relu'),\n",
    "    keras.layers.Flatten(),\n",
    "    keras.layers.Dense(128, activation=tf.nn.relu),\n",
    "    keras.layers.Dense(10, activation=tf.nn.softmax)\n",
    "])"
   ]
  },
  {
   "cell_type": "code",
   "execution_count": 18,
   "metadata": {},
   "outputs": [],
   "source": [
    "model.compile(optimizer=tf.train.GradientDescentOptimizer(learning_rate=0.01), \n",
    "              loss='sparse_categorical_crossentropy',\n",
    "              metrics=['accuracy'])"
   ]
  },
  {
   "cell_type": "code",
   "execution_count": 19,
   "metadata": {},
   "outputs": [],
   "source": [
    "X_train = X_train.reshape((len(X_train), image_size, image_size, 1))"
   ]
  },
  {
   "cell_type": "code",
   "execution_count": 20,
   "metadata": {},
   "outputs": [],
   "source": [
    "X_test = X_test.reshape((len(X_test), image_size, image_size, 1))"
   ]
  },
  {
   "cell_type": "code",
   "execution_count": 21,
   "metadata": {},
   "outputs": [
    {
     "name": "stdout",
     "output_type": "stream",
     "text": [
      "Epoch 1/15\n",
      "16352/16352 [==============================] - 10s 632us/step - loss: 1.4447 - acc: 0.5624\n",
      "Epoch 2/15\n",
      "16352/16352 [==============================] - 10s 597us/step - loss: 0.6502 - acc: 0.8216\n",
      "Epoch 3/15\n",
      "16352/16352 [==============================] - 11s 668us/step - loss: 0.5212 - acc: 0.8492\n",
      "Epoch 4/15\n",
      "16352/16352 [==============================] - 10s 632us/step - loss: 0.4073 - acc: 0.8813\n",
      "Epoch 5/15\n",
      "16352/16352 [==============================] - 11s 685us/step - loss: 0.3516 - acc: 0.8973\n",
      "Epoch 6/15\n",
      "16352/16352 [==============================] - 12s 724us/step - loss: 0.5109 - acc: 0.8485\n",
      "Epoch 7/15\n",
      "16352/16352 [==============================] - 12s 736us/step - loss: 0.4145 - acc: 0.8782\n",
      "Epoch 8/15\n",
      "16352/16352 [==============================] - 12s 735us/step - loss: 0.3195 - acc: 0.9046\n",
      "Epoch 9/15\n",
      "16352/16352 [==============================] - 11s 696us/step - loss: 0.2706 - acc: 0.9194\n",
      "Epoch 10/15\n",
      "16352/16352 [==============================] - 12s 721us/step - loss: 0.2375 - acc: 0.9289\n",
      "Epoch 11/15\n",
      "16352/16352 [==============================] - 10s 635us/step - loss: 0.2081 - acc: 0.9385\n",
      "Epoch 12/15\n",
      "16352/16352 [==============================] - 10s 635us/step - loss: 0.1852 - acc: 0.9458\n",
      "Epoch 13/15\n",
      "16352/16352 [==============================] - 10s 637us/step - loss: 0.1647 - acc: 0.9509\n",
      "Epoch 14/15\n",
      "16352/16352 [==============================] - 10s 637us/step - loss: 0.1473 - acc: 0.9563\n",
      "Epoch 15/15\n",
      "16352/16352 [==============================] - 10s 635us/step - loss: 0.1308 - acc: 0.9619\n"
     ]
    },
    {
     "data": {
      "text/plain": [
       "<tensorflow.python.keras.callbacks.History at 0x121c32ad0>"
      ]
     },
     "execution_count": 21,
     "metadata": {},
     "output_type": "execute_result"
    }
   ],
   "source": [
    "model.fit(X_train, y_train, epochs=15)"
   ]
  },
  {
   "cell_type": "code",
   "execution_count": 22,
   "metadata": {},
   "outputs": [
    {
     "name": "stdout",
     "output_type": "stream",
     "text": [
      "1555/1555 [==============================] - 1s 386us/step\n",
      "('Test accuracy:', 0.9016077171951244)\n"
     ]
    }
   ],
   "source": [
    "test_loss, test_acc = model.evaluate(X_test, y_test)\n",
    "\n",
    "print('Test accuracy:', test_acc)"
   ]
  },
  {
   "cell_type": "code",
   "execution_count": 23,
   "metadata": {},
   "outputs": [
    {
     "name": "stdout",
     "output_type": "stream",
     "text": [
      "_________________________________________________________________\n",
      "Layer (type)                 Output Shape              Param #   \n",
      "=================================================================\n",
      "conv2d (Conv2D)              (None, 26, 26, 2)         20        \n",
      "_________________________________________________________________\n",
      "conv2d_1 (Conv2D)            (None, 24, 24, 4)         76        \n",
      "_________________________________________________________________\n",
      "flatten (Flatten)            (None, 2304)              0         \n",
      "_________________________________________________________________\n",
      "dense (Dense)                (None, 128)               295040    \n",
      "_________________________________________________________________\n",
      "dense_1 (Dense)              (None, 10)                1290      \n",
      "=================================================================\n",
      "Total params: 296,426\n",
      "Trainable params: 296,426\n",
      "Non-trainable params: 0\n",
      "_________________________________________________________________\n"
     ]
    }
   ],
   "source": [
    "model.summary()"
   ]
  },
  {
   "cell_type": "code",
   "execution_count": 24,
   "metadata": {},
   "outputs": [],
   "source": [
    "class NetworkTester:\n",
    "    def __init__(\n",
    "            self,\n",
    "            x=np.array([]),\n",
    "            y=np.array([]),\n",
    "            test_percentage=0.3,\n",
    "            random_state=42,\n",
    "            epochs=15,\n",
    "            dataset_size=10e10,\n",
    "            image_size=28,\n",
    "            layers=[],\n",
    "    ):\n",
    "        self.epochs = epochs\n",
    "        self.X = x[:dataset_size, :].reshape((len(x[:dataset_size, :]), image_size, image_size, 1))\n",
    "        self.Y = y[:dataset_size]\n",
    "        self.random_state = random_state\n",
    "        self.test_percentage = test_percentage\n",
    "        self.X_train, self.X_test, self.y_train, self.y_test = train_test_split(self.X, self.Y,\n",
    "                                                                                test_size=self.test_percentage,\n",
    "                                                                                random_state=self.random_state)\n",
    "        self.image_size = image_size\n",
    "        self.layers = layers\n",
    "\n",
    "        start = timer()\n",
    "        self.debug()\n",
    "        self.build()\n",
    "\n",
    "        self.model.summary()\n",
    "\n",
    "        self.fit(self.X_train, self.y_train)\n",
    "        self.score(self.X_test, self.y_test)\n",
    "\n",
    "        end = timer()\n",
    "        print('----------------------------------------------------------------------------------------')\n",
    "        print('Execution time: %ds' % (end - start))\n",
    "        print('----------------------------------------------------------------------------------------')\n",
    "        print('Accuracy: %.3f' % self.accuracy)\n",
    "\n",
    "    def debug(self):\n",
    "        print('----------------------------------------------------------------------------------------')\n",
    "        print('Initial arguments:')\n",
    "        print('----------------------------------------------------------------------------------------')\n",
    "        print('X_train shape =', self.X_train.shape)\n",
    "        print('X_test shape =', self.X_test.shape)\n",
    "        print('y_train shape =', self.y_train.shape)\n",
    "        print('y_test shape =', self.y_test.shape)\n",
    "        print('Epochs to train = %d' % self.epochs)\n",
    "        print('----------------------------------------------------------------------------------------')\n",
    "\n",
    "        plt.title('Train and Test distribution')\n",
    "        plt.subplot(2, 1, 1)\n",
    "        plt.xlabel('Output')\n",
    "        plt.ylabel('N')\n",
    "        plt.hist(self.y_train, label='Train')\n",
    "        plt.legend()\n",
    "        plt.subplot(2, 1, 2)\n",
    "        plt.xlabel('Output')\n",
    "        plt.ylabel('N')\n",
    "        plt.hist(self.y_test, label='Test')\n",
    "        plt.legend()\n",
    "        plt.show()\n",
    "        print('----------------------------------------------------------------------------------------')\n",
    "\n",
    "    def build(self):\n",
    "        model = keras.Sequential(self.layers)\n",
    "        model.compile(optimizer='adamax',\n",
    "                      loss='sparse_categorical_crossentropy',\n",
    "                      metrics=['accuracy'])\n",
    "\n",
    "        self.model = model\n",
    "\n",
    "    def fit(self, x, y):\n",
    "        history = self.model.fit(x, y, epochs=self.epochs, use_multiprocessing=True)\n",
    "        print('----------------------------------------------------------------------------------------')\n",
    "        accs = list(history.history.get('acc'))\n",
    "        plt.title('Accuracy')\n",
    "        plt.xlabel('Epoch')\n",
    "        plt.ylabel('Accuracy')\n",
    "        plt.plot(accs)\n",
    "        plt.show()\n",
    "\n",
    "    def score(self, x, y):\n",
    "        test_loss, test_acc = self.model.evaluate(x, y)\n",
    "        self.accuracy = test_acc"
   ]
  },
  {
   "cell_type": "code",
   "execution_count": 25,
   "metadata": {},
   "outputs": [
    {
     "name": "stdout",
     "output_type": "stream",
     "text": [
      "----------------------------------------------------------------------------------------\n",
      "Initial arguments:\n",
      "----------------------------------------------------------------------------------------\n",
      "('X_train shape =', (14979, 28, 28, 1))\n",
      "('X_test shape =', (3745, 28, 28, 1))\n",
      "('y_train shape =', (14979,))\n",
      "('y_test shape =', (3745,))\n",
      "Epochs to train = 15\n",
      "----------------------------------------------------------------------------------------\n"
     ]
    },
    {
     "data": {
      "image/png": "[encoded data removed]",
      "text/plain": [
       "<Figure size 432x288 with 2 Axes>"
      ]
     },
     "metadata": {
      "needs_background": "light"
     },
     "output_type": "display_data"
    },
    {
     "name": "stdout",
     "output_type": "stream",
     "text": [
      "----------------------------------------------------------------------------------------\n",
      "_________________________________________________________________\n",
      "Layer (type)                 Output Shape              Param #   \n",
      "=================================================================\n",
      "conv2d_2 (Conv2D)            (None, 26, 26, 2)         20        \n",
      "_________________________________________________________________\n",
      "conv2d_3 (Conv2D)            (None, 24, 24, 4)         76        \n",
      "_________________________________________________________________\n",
      "flatten_1 (Flatten)          (None, 2304)              0         \n",
      "_________________________________________________________________\n",
      "dense_2 (Dense)              (None, 128)               295040    \n",
      "_________________________________________________________________\n",
      "dense_3 (Dense)              (None, 10)                1290      \n",
      "=================================================================\n",
      "Total params: 296,426\n",
      "Trainable params: 296,426\n",
      "Non-trainable params: 0\n",
      "_________________________________________________________________\n",
      "Epoch 1/15\n",
      "14979/14979 [==============================] - 11s 767us/step - loss: 11.8079 - acc: 0.2653\n",
      "Epoch 2/15\n",
      "14979/14979 [==============================] - 14s 933us/step - loss: 11.6662 - acc: 0.2747\n",
      "Epoch 3/15\n",
      "14979/14979 [==============================] - 12s 776us/step - loss: 11.5934 - acc: 0.2801\n",
      "Epoch 4/15\n",
      "14979/14979 [==============================] - 12s 799us/step - loss: 11.5697 - acc: 0.2815\n",
      "Epoch 5/15\n",
      "14979/14979 [==============================] - 12s 783us/step - loss: 11.5636 - acc: 0.2821\n",
      "Epoch 6/15\n",
      "14979/14979 [==============================] - 12s 780us/step - loss: 11.5517 - acc: 0.2826\n",
      "Epoch 7/15\n",
      "14979/14979 [==============================] - 12s 769us/step - loss: 11.5510 - acc: 0.2827\n",
      "Epoch 8/15\n",
      "14979/14979 [==============================] - 11s 734us/step - loss: 11.5691 - acc: 0.2815\n",
      "Epoch 9/15\n",
      "14979/14979 [==============================] - 14s 933us/step - loss: 11.5352 - acc: 0.2839\n",
      "Epoch 10/15\n",
      "14979/14979 [==============================] - 14s 906us/step - loss: 11.5324 - acc: 0.2841\n",
      "Epoch 11/15\n",
      "14979/14979 [==============================] - 11s 742us/step - loss: 11.5137 - acc: 0.2853\n",
      "Epoch 12/15\n",
      "14979/14979 [==============================] - 12s 819us/step - loss: 11.5901 - acc: 0.2803\n",
      "Epoch 13/15\n",
      "14979/14979 [==============================] - 13s 839us/step - loss: 11.5235 - acc: 0.2847\n",
      "Epoch 14/15\n",
      "14979/14979 [==============================] - 13s 881us/step - loss: 11.4827 - acc: 0.2871\n",
      "Epoch 15/15\n",
      "14979/14979 [==============================] - 11s 740us/step - loss: 11.4889 - acc: 0.2869\n",
      "----------------------------------------------------------------------------------------\n"
     ]
    },
    {
     "data": {
      "image/png": "[encoded data removed]",
      "text/plain": [
       "<Figure size 432x288 with 1 Axes>"
      ]
     },
     "metadata": {
      "needs_background": "light"
     },
     "output_type": "display_data"
    },
    {
     "name": "stdout",
     "output_type": "stream",
     "text": [
      "3745/3745 [==============================] - 2s 429us/step\n",
      "----------------------------------------------------------------------------------------\n",
      "Execution time: 186s\n",
      "----------------------------------------------------------------------------------------\n",
      "Accuracy: 0.281\n"
     ]
    },
    {
     "data": {
      "text/plain": [
       "<__main__.NetworkTester instance at 0x12174a5f0>"
      ]
     },
     "execution_count": 25,
     "metadata": {},
     "output_type": "execute_result"
    }
   ],
   "source": [
    "NetworkTester(\n",
    "        x=X,\n",
    "        y=Y,\n",
    "        layers=[\n",
    "            keras.layers.Conv2D(filters=2, kernel_size=(3, 3), activation='relu', input_shape=(image_size, image_size, 1)),\n",
    "            keras.layers.Conv2D(filters=4, kernel_size=(3, 3), activation='relu'),\n",
    "            keras.layers.Flatten(),\n",
    "            keras.layers.Dense(128, activation=tf.nn.relu),\n",
    "            keras.layers.Dense(10, activation=tf.nn.softmax)\n",
    "        ],\n",
    "        dataset_size=250000\n",
    ")"
   ]
  },
  {
   "cell_type": "code",
   "execution_count": 26,
   "metadata": {},
   "outputs": [
    {
     "name": "stdout",
     "output_type": "stream",
     "text": [
      "----------------------------------------------------------------------------------------\n",
      "Initial arguments:\n",
      "----------------------------------------------------------------------------------------\n",
      "('X_train shape =', (14979, 28, 28, 1))\n",
      "('X_test shape =', (3745, 28, 28, 1))\n",
      "('y_train shape =', (14979,))\n",
      "('y_test shape =', (3745,))\n",
      "Epochs to train = 15\n",
      "----------------------------------------------------------------------------------------\n"
     ]
    },
    {
     "data": {
      "image/png": "[encoded data removed]",
      "text/plain": [
       "<Figure size 432x288 with 2 Axes>"
      ]
     },
     "metadata": {
      "needs_background": "light"
     },
     "output_type": "display_data"
    },
    {
     "name": "stdout",
     "output_type": "stream",
     "text": [
      "----------------------------------------------------------------------------------------\n",
      "_________________________________________________________________\n",
      "Layer (type)                 Output Shape              Param #   \n",
      "=================================================================\n",
      "conv2d_4 (Conv2D)            (None, 23, 23, 8)         296       \n",
      "_________________________________________________________________\n",
      "conv2d_5 (Conv2D)            (None, 18, 18, 10)        2890      \n",
      "_________________________________________________________________\n",
      "flatten_2 (Flatten)          (None, 3240)              0         \n",
      "_________________________________________________________________\n",
      "dense_4 (Dense)              (None, 256)               829696    \n",
      "_________________________________________________________________\n",
      "dense_5 (Dense)              (None, 10)                2570      \n",
      "=================================================================\n",
      "Total params: 835,452\n",
      "Trainable params: 835,452\n",
      "Non-trainable params: 0\n",
      "_________________________________________________________________\n",
      "Epoch 1/15\n",
      "14979/14979 [==============================] - 48s 3ms/step - loss: 11.9704 - acc: 0.2539\n",
      "Epoch 2/15\n",
      "14979/14979 [==============================] - 46s 3ms/step - loss: 11.6058 - acc: 0.2776\n",
      "Epoch 3/15\n",
      "14979/14979 [==============================] - 42s 3ms/step - loss: 8.4953 - acc: 0.4231\n",
      "Epoch 4/15\n",
      "14979/14979 [==============================] - 39s 3ms/step - loss: 0.6738 - acc: 0.8266\n",
      "Epoch 5/15\n",
      "14979/14979 [==============================] - 41s 3ms/step - loss: 0.3273 - acc: 0.9089\n",
      "Epoch 6/15\n",
      "14979/14979 [==============================] - 43s 3ms/step - loss: 0.1694 - acc: 0.9539\n",
      "Epoch 7/15\n",
      "14979/14979 [==============================] - 50s 3ms/step - loss: 0.0952 - acc: 0.9758\n",
      "Epoch 8/15\n",
      "14979/14979 [==============================] - 43s 3ms/step - loss: 0.0660 - acc: 0.9845\n",
      "Epoch 9/15\n",
      "14979/14979 [==============================] - 40s 3ms/step - loss: 0.0497 - acc: 0.9891\n",
      "Epoch 10/15\n",
      "14979/14979 [==============================] - 39s 3ms/step - loss: 0.0376 - acc: 0.9920\n",
      "Epoch 11/15\n",
      "14979/14979 [==============================] - 46s 3ms/step - loss: 0.0347 - acc: 0.9931\n",
      "Epoch 12/15\n",
      "14979/14979 [==============================] - 35s 2ms/step - loss: 0.0290 - acc: 0.9942\n",
      "Epoch 13/15\n",
      "14979/14979 [==============================] - 30s 2ms/step - loss: 0.0259 - acc: 0.9950\n",
      "Epoch 14/15\n",
      "14979/14979 [==============================] - 40s 3ms/step - loss: 0.0246 - acc: 0.9952\n",
      "Epoch 15/15\n",
      "14979/14979 [==============================] - 45s 3ms/step - loss: 0.0214 - acc: 0.9955\n",
      "----------------------------------------------------------------------------------------\n"
     ]
    },
    {
     "data": {
      "image/png": "[encoded data removed]",
      "text/plain": [
       "<Figure size 432x288 with 1 Axes>"
      ]
     },
     "metadata": {
      "needs_background": "light"
     },
     "output_type": "display_data"
    },
    {
     "name": "stdout",
     "output_type": "stream",
     "text": [
      "3745/3745 [==============================] - 4s 1ms/step\n",
      "----------------------------------------------------------------------------------------\n",
      "Execution time: 635s\n",
      "----------------------------------------------------------------------------------------\n",
      "Accuracy: 0.899\n"
     ]
    },
    {
     "data": {
      "text/plain": [
       "<__main__.NetworkTester instance at 0x1216f3200>"
      ]
     },
     "execution_count": 26,
     "metadata": {},
     "output_type": "execute_result"
    }
   ],
   "source": [
    "NetworkTester(\n",
    "        x=X,\n",
    "        y=Y,\n",
    "        layers=[\n",
    "            keras.layers.Conv2D(filters=8, kernel_size=(6, 6), activation='relu', input_shape=(image_size, image_size, 1)),\n",
    "            keras.layers.Conv2D(filters=10, kernel_size=(6, 6), activation='relu'),\n",
    "            keras.layers.Flatten(),\n",
    "            keras.layers.Dense(256, activation=tf.nn.relu),\n",
    "            keras.layers.Dense(10, activation=tf.nn.softmax)\n",
    "        ],\n",
    "        dataset_size=250000\n",
    ")"
   ]
  },
  {
   "cell_type": "code",
   "execution_count": null,
   "metadata": {},
   "outputs": [],
   "source": [
    "NetworkTester(\n",
    "        x=X,\n",
    "        y=Y,\n",
    "        layers=[\n",
    "            keras.layers.Conv2D(filters=16, kernel_size=(3, 3), activation='relu', input_shape=(image_size, image_size, 1)),\n",
    "            keras.layers.MaxPooling2D((2, 2)),\n",
    "            keras.layers.Conv2D(filters=32, kernel_size=(3, 3), activation='relu'),\n",
    "            keras.layers.MaxPooling2D((2, 2)),\n",
    "            keras.layers.Flatten(),\n",
    "            keras.layers.Dense(image_size * image_size, activation=tf.nn.relu),\n",
    "            keras.layers.Dense(10, activation=tf.nn.softmax)\n",
    "        ],\n",
    "        dataset_size=250000\n",
    ")"
   ]
  },
  {
   "cell_type": "code",
   "execution_count": null,
   "metadata": {},
   "outputs": [],
   "source": [
    "NetworkTester(\n",
    "        x=X,\n",
    "        y=Y,\n",
    "        layers=[\n",
    "            keras.layers.Conv2D(filters=16, kernel_size=(3, 3), activation='relu', input_shape=(image_size, image_size, 1)),\n",
    "            keras.layers.AveragePooling2D((2, 2)),\n",
    "            keras.layers.Conv2D(filters=32, kernel_size=(3, 3), activation='relu'),\n",
    "            keras.layers.AveragePooling2D((2, 2)),\n",
    "            keras.layers.Flatten(),\n",
    "            keras.layers.Dense(image_size * image_size, activation=tf.nn.relu),\n",
    "            keras.layers.Dense(10, activation=tf.nn.softmax)\n",
    "        ],\n",
    "        dataset_size=250000\n",
    ")"
   ]
  },
  {
   "cell_type": "code",
   "execution_count": null,
   "metadata": {},
   "outputs": [],
   "source": [
    "NetworkTester(\n",
    "        x=X,\n",
    "        y=Y,\n",
    "        layers=[\n",
    "            keras.layers.Conv2D(filters=16, kernel_size=(3, 3), activation='relu', input_shape=(image_size, image_size, 1)),\n",
    "            keras.layers.AveragePooling2D((2, 2)),\n",
    "            keras.layers.Conv2D(filters=32, kernel_size=(3, 3), activation='relu'),\n",
    "            keras.layers.MaxPooling2D((2, 2)),\n",
    "            keras.layers.Flatten(),\n",
    "            keras.layers.Dense(image_size * image_size, activation=tf.nn.relu),\n",
    "            keras.layers.Dense(10, activation=tf.nn.softmax)\n",
    "        ],\n",
    "        dataset_size=250000\n",
    ")"
   ]
  },
  {
   "cell_type": "code",
   "execution_count": null,
   "metadata": {},
   "outputs": [],
   "source": [
    "NetworkTester(\n",
    "        x=X,\n",
    "        y=Y,\n",
    "        layers=[\n",
    "            keras.layers.Conv2D(filters=16, kernel_size=(3, 3), activation='relu', input_shape=(image_size, image_size, 1)),\n",
    "            keras.layers.AveragePooling2D((2, 2)),\n",
    "            keras.layers.Flatten(),\n",
    "            keras.layers.Dense(image_size * image_size, activation=tf.nn.relu),\n",
    "            keras.layers.Dense(10, activation=tf.nn.softmax)\n",
    "        ],\n",
    "        dataset_size=250000\n",
    ")"
   ]
  },
  {
   "cell_type": "code",
   "execution_count": null,
   "metadata": {},
   "outputs": [],
   "source": [
    "NetworkTester(\n",
    "        x=X,\n",
    "        y=Y,\n",
    "        layers=[\n",
    "            keras.layers.Conv2D(filters=16, kernel_size=(3, 3), activation='relu', input_shape=(image_size, image_size, 1)),\n",
    "            keras.layers.MaxPooling2D((2, 2)),\n",
    "            keras.layers.Flatten(),\n",
    "            keras.layers.Dense(image_size * image_size, activation=tf.nn.relu),\n",
    "            keras.layers.Dense(10, activation=tf.nn.softmax)\n",
    "        ],\n",
    "        dataset_size=250000\n",
    ")"
   ]
  },
  {
   "cell_type": "code",
   "execution_count": null,
   "metadata": {},
   "outputs": [],
   "source": [
    "print('LeNet')"
   ]
  },
  {
   "cell_type": "code",
   "execution_count": null,
   "metadata": {},
   "outputs": [],
   "source": [
    "NetworkTester(\n",
    "        x=X,\n",
    "        y=Y,\n",
    "        layers=[\n",
    "            keras.layers.Conv2D(filters=6, kernel_size=(3, 3), activation='relu', input_shape=(image_size, image_size, 1)),\n",
    "            keras.layers.AveragePooling2D(),\n",
    "            keras.layers.Conv2D(filters=16, kernel_size=(3, 3), activation='relu'),\n",
    "            keras.layers.AveragePooling2D(),\n",
    "            keras.layers.Flatten(),\n",
    "            keras.layers.Dense(120, activation=tf.nn.relu),\n",
    "            keras.layers.Dense(84, activation=tf.nn.relu),\n",
    "            keras.layers.Dense(10, activation=tf.nn.softmax)\n",
    "        ],\n",
    "        dataset_size=250000\n",
    ")"
   ]
  }
 ],
 "metadata": {
  "kernelspec": {
   "display_name": "Python 2",
   "language": "python",
   "name": "python2"
  },
  "language_info": {
   "codemirror_mode": {
    "name": "ipython",
    "version": 2
   },
   "file_extension": ".py",
   "mimetype": "text/x-python",
   "name": "python",
   "nbconvert_exporter": "python",
   "pygments_lexer": "ipython2",
   "version": "2.7.15"
  }
 },
 "nbformat": 4,
 "nbformat_minor": 2
}

{
 "cells": [
  {
   "cell_type": "code",
   "execution_count": 1,
   "metadata": {
    "collapsed": true
   },
   "outputs": [],
   "source": [
    "import numpy as np\n",
    "import pandas as pd\n",
    "from sklearn.linear_model import LogisticRegression\n",
    "from sklearn.neighbors import KNeighborsClassifier\n",
    "from sklearn.model_selection import GridSearchCV, KFold, train_test_split\n",
    "from sklearn.svm import LinearSVC\n",
    "from sklearn.tree import DecisionTreeClassifier\n",
    "from sklearn.metrics import confusion_matrix\n",
    "from tqdm import tqdm\n",
    "import time\n",
    "\n",
    "%matplotlib inline\n",
    "import matplotlib.pyplot as plt"
   ]
  },
  {
   "cell_type": "markdown",
   "metadata": {},
   "source": [
    "Считываем вход из файлов и преобразуем в DataFrame. Кроме того, если необходимо выполнить преобразование входа, можно передать соответствующую трансформирующую функцию *map_f*"
   ]
  },
  {
   "cell_type": "code",
   "execution_count": 2,
   "metadata": {
    "collapsed": true
   },
   "outputs": [],
   "source": [
    "INPUT_PATH = './input/'\n",
    "\n",
    "storage = {}\n",
    "\n",
    "def read_base(N, map_f=None):\n",
    "    global storage\n",
    "    dataset = storage.get(N)\n",
    "    c_type = 'mapped' if map_f else 'raw'\n",
    "    if dataset:\n",
    "        if dataset.get(c_type):\n",
    "            print 'found cached data...'\n",
    "            return dataset[c_type]\n",
    "    else:\n",
    "        storage[N] = dict()\n",
    "    print 'reading data from source...'\n",
    "    LINES = 10**6\n",
    "    path = '{}Base{}.txt'.format(INPUT_PATH, N)\n",
    "    X, y = [], []\n",
    "    with open(path, 'r') as fin:\n",
    "        for l in tqdm(fin.readlines()):\n",
    "            x = l.split()[0]\n",
    "            if map_f:\n",
    "                X.append(map_f(x))\n",
    "            else:\n",
    "                X.append(list(x))\n",
    "            y.append(l.split()[1])\n",
    "    print 'converting to dataframe...'\n",
    "    storage[N][c_type] = (pd.DataFrame(X, dtype=int), pd.Series(y, dtype=int))\n",
    "    return storage[N][c_type]"
   ]
  },
  {
   "cell_type": "markdown",
   "metadata": {},
   "source": [
    "Убедимся, что данные выглядят так, как надо:"
   ]
  },
  {
   "cell_type": "code",
   "execution_count": 3,
   "metadata": {},
   "outputs": [
    {
     "name": "stderr",
     "output_type": "stream",
     "text": [
      "  3%|▎         | 33464/1000000 [00:00<00:02, 334392.37it/s]"
     ]
    },
    {
     "name": "stdout",
     "output_type": "stream",
     "text": [
      "reading data from source...\n"
     ]
    },
    {
     "name": "stderr",
     "output_type": "stream",
     "text": [
      "100%|██████████| 1000000/1000000 [00:02<00:00, 359767.49it/s]\n"
     ]
    },
    {
     "name": "stdout",
     "output_type": "stream",
     "text": [
      "converting to dataframe...\n",
      "(1000000, 8) (1000000,)\n",
      "   0  1  2  3  4  5  6  7\n",
      "0  1  0  0  0  1  0  0  1\n",
      "1  0  0  1  0  1  0  1  1\n",
      "2  1  1  1  1  1  0  1  1\n",
      "3  1  0  1  0  1  0  1  1\n",
      "4  1  0  1  1  0  0  0  0\n",
      "0    0\n",
      "1    0\n",
      "2    1\n",
      "3    1\n",
      "4    1\n",
      "dtype: int64\n"
     ]
    }
   ],
   "source": [
    "X, y = read_base(8)\n",
    "print X.shape, y.shape\n",
    "print X[:5]\n",
    "print y[:5]"
   ]
  },
  {
   "cell_type": "markdown",
   "metadata": {},
   "source": [
    "Определим функцию обучения для определенного классификатора. Предпочтение в разделение исходной выборки на train/test был отдан методу *train_test_split*, поскольку  *KFold* не имеет смысла, поскольку, например для *LogisticRegression*:\n",
    "\n",
    "```warm_start : bool, default: False\n",
    "When set to True, reuse the solution of the previous call to fit as initialization, otherwise, just erase the previous solution. Useless for liblinear solver.```"
   ]
  },
  {
   "cell_type": "markdown",
   "metadata": {},
   "source": [
    "Кроме того, будем выводить **confusion_matrix** для каждого результата обучения, а также метрику **accuracy** (*model.score*)"
   ]
  },
  {
   "cell_type": "code",
   "execution_count": 4,
   "metadata": {
    "collapsed": true
   },
   "outputs": [],
   "source": [
    "def learn(X, y, model):\n",
    "    X_train, X_test, y_train, y_test = train_test_split(X, y, test_size=0.2, random_state=42)\n",
    "    model.fit(X_train, y_train)\n",
    "    y_pred = model.predict(X_test)\n",
    "    cm = confusion_matrix(y_test, y_pred)\n",
    "#     kf = KFold(n_splits=5)\n",
    "#     for train_index, test_index in kf.split(X):\n",
    "#         X_train, X_test = X.loc[train_index, :], X.loc[test_index, :]\n",
    "#         y_train, y_test = y[train_index], y[test_index]\n",
    "#         model.fit(X_train, y_train)\n",
    "#         y_pred = model.predict(X_test)\n",
    "#         cm = confusion_matrix(y_test, y_pred)\n",
    "    print\n",
    "    print cm\n",
    "    score = model.score(X_test, y_test)\n",
    "    print score\n",
    "    return score"
   ]
  },
  {
   "cell_type": "markdown",
   "metadata": {},
   "source": [
    "Здесь выполним трансформирующую функцию для входа. Помимо считанных значений из файла, попробуем добавить в качестве характеристик следующие параметры: посчитаем для каждого *i* переключателя характер распространения сигнала на нем, а именно, поменялись ли в итоге каналами сигналы или нет. Другими словами, если количество *1* четно до *i* блока, то сигналы идут по тем же каналам, как и были запущены из истока, иначе нет. Это достигается поэлементным ксором переключателей. Точно так же сделаем и для блоков, начиная с выхода (в обратном направлении)"
   ]
  },
  {
   "cell_type": "code",
   "execution_count": 5,
   "metadata": {
    "collapsed": true
   },
   "outputs": [],
   "source": [
    "def try_map(x):\n",
    "    all_xor = reduce(lambda kum, v: kum ^ int(v), x, 0)\n",
    "    res = list(x)\n",
    "    res.append(all_xor)\n",
    "    cur_xor = all_xor\n",
    "    for i in x:\n",
    "        cur_xor ^= int(i)\n",
    "        res.append(cur_xor)\n",
    "    cur_xor = 0\n",
    "    for i in x:\n",
    "        cur_xor ^= int(i)\n",
    "        res.append(cur_xor)\n",
    "    return res"
   ]
  },
  {
   "cell_type": "markdown",
   "metadata": {},
   "source": [
    "Проверим работоспособность с логистической регрессией на небольшом входе:"
   ]
  },
  {
   "cell_type": "code",
   "execution_count": 6,
   "metadata": {},
   "outputs": [
    {
     "name": "stderr",
     "output_type": "stream",
     "text": [
      "  0%|          | 3644/1000000 [00:00<00:28, 35193.09it/s]"
     ]
    },
    {
     "name": "stdout",
     "output_type": "stream",
     "text": [
      "reading data from source...\n"
     ]
    },
    {
     "name": "stderr",
     "output_type": "stream",
     "text": [
      "100%|██████████| 1000000/1000000 [00:20<00:00, 48386.93it/s]\n"
     ]
    },
    {
     "name": "stdout",
     "output_type": "stream",
     "text": [
      "converting to dataframe...\n",
      "finished reading input...\n",
      "\n",
      "[[ 81460      0]\n",
      " [     0 118540]]\n",
      "1.0\n"
     ]
    },
    {
     "data": {
      "text/plain": [
       "1.0"
      ]
     },
     "execution_count": 6,
     "metadata": {},
     "output_type": "execute_result"
    }
   ],
   "source": [
    "model = LogisticRegression(n_jobs=-1, random_state=6)\n",
    "X, y = read_base(8, try_map)\n",
    "print 'finished reading input...'\n",
    "learn(X, y, model)"
   ]
  },
  {
   "cell_type": "markdown",
   "metadata": {},
   "source": [
    "Определим функцию для сравнения результатов обучения без применения т.н. \"feature engineering\" и вместе с ним:"
   ]
  },
  {
   "cell_type": "code",
   "execution_count": 7,
   "metadata": {
    "collapsed": true
   },
   "outputs": [],
   "source": [
    "def try_both(N, model):\n",
    "    X, y = read_base(N)\n",
    "    learn(X, y, model)\n",
    "    \n",
    "    X, y = read_base(N, try_map)\n",
    "    learn(X, y, model)"
   ]
  },
  {
   "cell_type": "markdown",
   "metadata": {},
   "source": [
    "Выполним обучение для всех возможных *BaseN* с выбранной моделью, параллельно насчитывая время, затраченное на чтение/обучение:"
   ]
  },
  {
   "cell_type": "code",
   "execution_count": 8,
   "metadata": {
    "collapsed": true
   },
   "outputs": [],
   "source": [
    "def check_all_N(model, N_from=8, N_to=130):\n",
    "    scores = []\n",
    "    Ns = range(N_from, N_to, 8)\n",
    "    \n",
    "    def run(N):\n",
    "        print 'running with map for N={}'.format(N)\n",
    "        X, y = read_base(N, try_map)\n",
    "        return learn(X, y, model)\n",
    "    \n",
    "    for N in Ns:\n",
    "        st = time.clock()\n",
    "        scores.append(run(N))\n",
    "        print time.clock() - st\n",
    "\n",
    "    plt.figure(figsize=(16, 7))\n",
    "    plt.plot(Ns, scores)\n",
    "    plt.title('Score')\n",
    "    plt.xlabel('N')\n",
    "    plt.ylabel('Score')\n",
    "    plt.show()"
   ]
  },
  {
   "cell_type": "markdown",
   "metadata": {},
   "source": [
    "Запустим логистическую регрессию:"
   ]
  },
  {
   "cell_type": "code",
   "execution_count": 9,
   "metadata": {},
   "outputs": [
    {
     "name": "stdout",
     "output_type": "stream",
     "text": [
      "running with map for N=8\n",
      "found cached data...\n"
     ]
    },
    {
     "name": "stderr",
     "output_type": "stream",
     "text": [
      "\r",
      "  0%|          | 0/1000000 [00:00<?, ?it/s]"
     ]
    },
    {
     "name": "stdout",
     "output_type": "stream",
     "text": [
      "\n",
      "[[ 81460      0]\n",
      " [     0 118540]]\n",
      "1.0\n",
      "4.562974\n",
      "running with map for N=16\n",
      "reading data from source...\n"
     ]
    },
    {
     "name": "stderr",
     "output_type": "stream",
     "text": [
      "100%|██████████| 1000000/1000000 [00:41<00:00, 24151.01it/s]\n"
     ]
    },
    {
     "name": "stdout",
     "output_type": "stream",
     "text": [
      "converting to dataframe...\n"
     ]
    },
    {
     "name": "stderr",
     "output_type": "stream",
     "text": [
      "\r",
      "  0%|          | 0/1000000 [00:00<?, ?it/s]"
     ]
    },
    {
     "name": "stdout",
     "output_type": "stream",
     "text": [
      "\n",
      "[[ 96281    198]\n",
      " [   433 103088]]\n",
      "0.996845\n",
      "72.034826\n",
      "running with map for N=24\n",
      "reading data from source...\n"
     ]
    },
    {
     "name": "stderr",
     "output_type": "stream",
     "text": [
      "100%|██████████| 1000000/1000000 [00:55<00:00, 17933.98it/s]\n"
     ]
    },
    {
     "name": "stdout",
     "output_type": "stream",
     "text": [
      "converting to dataframe...\n",
      "\n",
      "[[99541   449]\n",
      " [  536 99474]]\n",
      "0.995075\n",
      "97.26631\n",
      "running with map for N=32\n",
      "reading data from source...\n"
     ]
    },
    {
     "name": "stderr",
     "output_type": "stream",
     "text": [
      "100%|██████████| 1000000/1000000 [01:09<00:00, 14447.43it/s]\n"
     ]
    },
    {
     "name": "stdout",
     "output_type": "stream",
     "text": [
      "converting to dataframe...\n",
      "\n",
      "[[ 89447    591]\n",
      " [   521 109441]]\n",
      "0.99444\n",
      "125.942369\n",
      "running with map for N=40\n",
      "reading data from source...\n"
     ]
    },
    {
     "name": "stderr",
     "output_type": "stream",
     "text": [
      "100%|██████████| 1000000/1000000 [01:27<00:00, 11489.20it/s]\n"
     ]
    },
    {
     "name": "stdout",
     "output_type": "stream",
     "text": [
      "converting to dataframe...\n",
      "\n",
      "[[ 91149    574]\n",
      " [   581 107696]]\n",
      "0.994225"
     ]
    },
    {
     "name": "stderr",
     "output_type": "stream",
     "text": [
      "\r",
      "  0%|          | 0/1000000 [00:00<?, ?it/s]"
     ]
    },
    {
     "name": "stdout",
     "output_type": "stream",
     "text": [
      "\n",
      "155.104923\n",
      "running with map for N=48\n",
      "reading data from source...\n"
     ]
    },
    {
     "name": "stderr",
     "output_type": "stream",
     "text": [
      "100%|██████████| 1000000/1000000 [01:43<00:00, 9662.67it/s]\n"
     ]
    },
    {
     "name": "stdout",
     "output_type": "stream",
     "text": [
      "converting to dataframe...\n",
      "\n",
      "[[103040    573]\n",
      " [   601  95786]]\n",
      "0.99413\n"
     ]
    },
    {
     "name": "stderr",
     "output_type": "stream",
     "text": [
      "\r",
      "  0%|          | 0/1000000 [00:00<?, ?it/s]"
     ]
    },
    {
     "name": "stdout",
     "output_type": "stream",
     "text": [
      "187.811405\n",
      "running with map for N=56\n",
      "reading data from source...\n"
     ]
    },
    {
     "name": "stderr",
     "output_type": "stream",
     "text": [
      "100%|██████████| 1000000/1000000 [01:58<00:00, 8462.32it/s]\n"
     ]
    },
    {
     "name": "stdout",
     "output_type": "stream",
     "text": [
      "converting to dataframe...\n",
      "\n",
      "[[ 88050    609]\n",
      " [   636 110705]]\n"
     ]
    },
    {
     "name": "stderr",
     "output_type": "stream",
     "text": [
      "\r",
      "  0%|          | 0/1000000 [00:00<?, ?it/s]"
     ]
    },
    {
     "name": "stdout",
     "output_type": "stream",
     "text": [
      "0.993775\n",
      "227.086726\n",
      "running with map for N=64\n",
      "reading data from source...\n"
     ]
    },
    {
     "name": "stderr",
     "output_type": "stream",
     "text": [
      "100%|██████████| 1000000/1000000 [02:12<00:00, 7565.81it/s]\n"
     ]
    },
    {
     "name": "stdout",
     "output_type": "stream",
     "text": [
      "converting to dataframe...\n",
      "\n",
      "[[ 96694    637]\n",
      " [   609 102060]]\n"
     ]
    },
    {
     "name": "stderr",
     "output_type": "stream",
     "text": [
      "\r",
      "  0%|          | 0/1000000 [00:00<?, ?it/s]"
     ]
    },
    {
     "name": "stdout",
     "output_type": "stream",
     "text": [
      "0.99377\n",
      "257.827048\n",
      "running with map for N=72\n",
      "reading data from source...\n"
     ]
    },
    {
     "name": "stderr",
     "output_type": "stream",
     "text": [
      "100%|██████████| 1000000/1000000 [02:27<00:00, 6759.27it/s]\n"
     ]
    },
    {
     "name": "stdout",
     "output_type": "stream",
     "text": [
      "converting to dataframe...\n",
      "\n",
      "[[ 92839    623]\n",
      " [   682 105856]]\n",
      "0.993475\n",
      "289.589804\n",
      "running with map for N=80\n",
      "reading data from source...\n"
     ]
    },
    {
     "name": "stderr",
     "output_type": "stream",
     "text": [
      "100%|██████████| 1000000/1000000 [02:41<00:00, 6181.81it/s]\n"
     ]
    },
    {
     "name": "stdout",
     "output_type": "stream",
     "text": [
      "converting to dataframe...\n",
      "\n",
      "[[98861   698]\n",
      " [  628 99813]]\n",
      "0.99337\n",
      "317.225066\n",
      "running with map for N=88\n",
      "reading data from source...\n"
     ]
    },
    {
     "name": "stderr",
     "output_type": "stream",
     "text": [
      "100%|██████████| 1000000/1000000 [02:59<00:00, 5575.85it/s]\n"
     ]
    },
    {
     "name": "stdout",
     "output_type": "stream",
     "text": [
      "converting to dataframe...\n",
      "\n",
      "[[ 91666    695]\n",
      " [   707 106932]]\n",
      "0.99299\n",
      "364.141426\n",
      "running with map for N=96\n",
      "reading data from source...\n"
     ]
    },
    {
     "name": "stderr",
     "output_type": "stream",
     "text": [
      "100%|██████████| 1000000/1000000 [03:28<00:00, 4790.43it/s]\n"
     ]
    },
    {
     "name": "stdout",
     "output_type": "stream",
     "text": [
      "converting to dataframe...\n",
      "\n",
      "[[99637   744]\n",
      " [  843 98776]]\n",
      "0.992065\n",
      "408.996336\n",
      "running with map for N=104\n",
      "reading data from source...\n"
     ]
    },
    {
     "name": "stderr",
     "output_type": "stream",
     "text": [
      "100%|██████████| 1000000/1000000 [03:40<00:00, 4532.68it/s]\n"
     ]
    },
    {
     "name": "stdout",
     "output_type": "stream",
     "text": [
      "converting to dataframe...\n",
      "\n",
      "[[ 85768    812]\n",
      " [   799 112621]]\n",
      "0.991945\n",
      "438.198531\n",
      "running with map for N=112\n",
      "reading data from source...\n"
     ]
    },
    {
     "name": "stderr",
     "output_type": "stream",
     "text": [
      "100%|██████████| 1000000/1000000 [04:11<00:00, 3971.53it/s]\n"
     ]
    },
    {
     "name": "stdout",
     "output_type": "stream",
     "text": [
      "converting to dataframe...\n",
      "\n",
      "[[ 93418    806]\n",
      " [   853 104923]]\n",
      "0.991705\n",
      "482.270714\n",
      "running with map for N=120\n",
      "reading data from source...\n"
     ]
    },
    {
     "name": "stderr",
     "output_type": "stream",
     "text": [
      "100%|██████████| 1000000/1000000 [04:21<00:00, 3824.66it/s]\n"
     ]
    },
    {
     "name": "stdout",
     "output_type": "stream",
     "text": [
      "converting to dataframe...\n",
      "\n",
      "[[ 92996    781]\n",
      " [   871 105352]]\n",
      "0.99174\n",
      "518.453674\n",
      "running with map for N=128\n",
      "reading data from source...\n"
     ]
    },
    {
     "name": "stderr",
     "output_type": "stream",
     "text": [
      "100%|██████████| 1000000/1000000 [04:28<00:00, 3730.73it/s]\n"
     ]
    },
    {
     "name": "stdout",
     "output_type": "stream",
     "text": [
      "converting to dataframe...\n",
      "\n",
      "[[ 75917    863]\n",
      " [   838 122382]]\n",
      "0.991495\n",
      "538.360994\n"
     ]
    },
    {
     "data": {
      "image/png": "[encoded data removed]",
      "text/plain": [
       "<matplotlib.figure.Figure at 0x11b33d310>"
      ]
     },
     "metadata": {},
     "output_type": "display_data"
    }
   ],
   "source": [
    "model = LogisticRegression(n_jobs=-1, random_state=6)\n",
    "check_all_N(model)"
   ]
  },
  {
   "cell_type": "markdown",
   "metadata": {
    "collapsed": true
   },
   "source": [
    "Запустим KNN:"
   ]
  },
  {
   "cell_type": "code",
   "execution_count": null,
   "metadata": {},
   "outputs": [
    {
     "name": "stdout",
     "output_type": "stream",
     "text": [
      "found cached data...\n"
     ]
    }
   ],
   "source": [
    "model = KNeighborsClassifier(n_jobs=-1, n_neighbors=32)\n",
    "X, y = read_base(16, try_map)\n",
    "learn(X, y, model)"
   ]
  },
  {
   "cell_type": "markdown",
   "metadata": {},
   "source": [
    "Попробуем сходимость SVM классификатора на небольшом входе:"
   ]
  },
  {
   "cell_type": "code",
   "execution_count": 10,
   "metadata": {},
   "outputs": [
    {
     "name": "stderr",
     "output_type": "stream",
     "text": [
      "\r",
      "  0%|          | 0/1000000 [00:00<?, ?it/s]"
     ]
    },
    {
     "name": "stdout",
     "output_type": "stream",
     "text": [
      "reading data from source...\n"
     ]
    },
    {
     "name": "stderr",
     "output_type": "stream",
     "text": [
      "100%|██████████| 1000000/1000000 [00:03<00:00, 295846.77it/s]\n"
     ]
    },
    {
     "name": "stdout",
     "output_type": "stream",
     "text": [
      "converting to dataframe...\n",
      "[LibLinear]\n",
      "[[59675 36804]\n",
      " [40623 62898]]\n",
      "0.612865\n",
      "found cached data...\n",
      "[LibLinear]\n",
      "[[ 96247    232]\n",
      " [   367 103154]]\n",
      "0.997005\n"
     ]
    }
   ],
   "source": [
    "model = LinearSVC(max_iter=10000, random_state=6, verbose=5)\n",
    "try_both(16, model)"
   ]
  },
  {
   "cell_type": "markdown",
   "metadata": {},
   "source": [
    "И запустим его для больших *BaseN* ($N >= 96$), чтобы сэкономить время:"
   ]
  },
  {
   "cell_type": "code",
   "execution_count": 11,
   "metadata": {},
   "outputs": [
    {
     "name": "stdout",
     "output_type": "stream",
     "text": [
      "running with map for N=96\n",
      "found cached data...\n",
      "[LibLinear]\n",
      "[[99634   747]\n",
      " [  830 98789]]\n",
      "0.992115\n",
      "154.833477\n",
      "running with map for N=104\n",
      "found cached data...\n",
      "[LibLinear]\n",
      "[[ 85786    794]\n",
      " [   786 112634]]\n",
      "0.9921\n",
      "175.556763\n",
      "running with map for N=112\n",
      "found cached data...\n",
      "[LibLinear]\n",
      "[[ 93427    797]\n",
      " [   822 104954]]\n",
      "0.991905\n",
      "194.103527\n",
      "running with map for N=120\n",
      "found cached data...\n",
      "[LibLinear]\n",
      "[[ 93016    761]\n",
      " [   848 105375]]\n",
      "0.991955\n",
      "203.891302\n",
      "running with map for N=128\n",
      "found cached data...\n",
      "[LibLinear]\n",
      "[[ 75946    834]\n",
      " [   818 122402]]\n",
      "0.99174\n",
      "237.141778\n"
     ]
    },
    {
     "data": {
      "image/png": "[encoded data removed]",
      "text/plain": [
       "<matplotlib.figure.Figure at 0x117450250>"
      ]
     },
     "metadata": {},
     "output_type": "display_data"
    }
   ],
   "source": [
    "model = LinearSVC(max_iter=10000, random_state=6, verbose=5)\n",
    "check_all_N(model, N_from=96)"
   ]
  },
  {
   "cell_type": "markdown",
   "metadata": {},
   "source": [
    "Попробуем использовать деревья решений:"
   ]
  },
  {
   "cell_type": "code",
   "execution_count": 12,
   "metadata": {},
   "outputs": [
    {
     "name": "stdout",
     "output_type": "stream",
     "text": [
      "running with map for N=96\n",
      "found cached data...\n",
      "\n",
      "[[64957 35424]\n",
      " [40917 58702]]\n",
      "0.618295\n",
      "113.341505\n",
      "running with map for N=104\n",
      "found cached data...\n",
      "\n",
      "[[51196 35384]\n",
      " [41673 71747]]\n",
      "0.614715\n",
      "123.251734\n",
      "running with map for N=112\n",
      "found cached data...\n",
      "\n",
      "[[57946 36278]\n",
      " [42746 63030]]\n",
      "0.60488\n",
      "136.628745\n",
      "running with map for N=120\n",
      "found cached data...\n",
      "\n",
      "[[57409 36368]\n",
      " [42801 63422]]\n",
      "0.604155\n",
      "147.666415\n",
      "running with map for N=128\n",
      "found cached data...\n",
      "\n",
      "[[41373 35407]\n",
      " [42602 80618]]\n",
      "0.609955\n",
      "157.755447\n"
     ]
    },
    {
     "data": {
      "image/png": "[encoded data removed]",
      "text/plain": [
       "<matplotlib.figure.Figure at 0x13c3ac290>"
      ]
     },
     "metadata": {},
     "output_type": "display_data"
    }
   ],
   "source": [
    "model = DecisionTreeClassifier(min_samples_leaf=4)\n",
    "check_all_N(model, N_from=96)"
   ]
  },
  {
   "cell_type": "code",
   "execution_count": 13,
   "metadata": {
    "collapsed": true
   },
   "outputs": [],
   "source": [
    "def try_subset(X, y, model, percentage):\n",
    "    part = int(X.shape[0] * percentage / 100.0)\n",
    "    return learn(X.loc[:part, :], y.loc[:part], model)"
   ]
  },
  {
   "cell_type": "code",
   "execution_count": 14,
   "metadata": {
    "collapsed": true
   },
   "outputs": [],
   "source": [
    "def find_part(model, N, thr=0.95, step=10):\n",
    "    X, y = read_base(N, try_map)\n",
    "    for pt in np.arange(0.1, 95, step):\n",
    "        print 'running for', pt\n",
    "        acc = try_subset(X, y, model, pt)\n",
    "        if acc >= thr:\n",
    "            print 'Need', pt, '% data to achieve', thr\n",
    "            break\n",
    "    return pt"
   ]
  },
  {
   "cell_type": "code",
   "execution_count": 15,
   "metadata": {},
   "outputs": [
    {
     "name": "stdout",
     "output_type": "stream",
     "text": [
      "found cached data...\n",
      "running for 0.1\n",
      "\n",
      "[[ 45  27]\n",
      " [ 15 114]]\n",
      "0.791044776119\n",
      "running for 10.1\n",
      "\n",
      "[[ 7664   137]\n",
      " [  136 12264]]\n",
      "0.986485817534\n",
      "Need 10.1 % data to achieve 0.95\n"
     ]
    },
    {
     "data": {
      "text/plain": [
       "10.1"
      ]
     },
     "execution_count": 15,
     "metadata": {},
     "output_type": "execute_result"
    }
   ],
   "source": [
    "model = LogisticRegression(n_jobs=-1, random_state=6)\n",
    "find_part(model, 128)"
   ]
  },
  {
   "cell_type": "code",
   "execution_count": 16,
   "metadata": {},
   "outputs": [
    {
     "name": "stdout",
     "output_type": "stream",
     "text": [
      "found cached data...\n",
      "running for 0.1\n",
      "\n",
      "[[ 45  27]\n",
      " [ 15 114]]\n",
      "0.791044776119\n",
      "running for 0.2\n",
      "\n",
      "[[125  23]\n",
      " [ 26 227]]\n",
      "0.877805486284\n",
      "running for 0.3\n",
      "\n",
      "[[188  34]\n",
      " [ 33 346]]\n",
      "0.888519134775\n",
      "running for 0.4\n",
      "\n",
      "[[260  29]\n",
      " [ 38 474]]\n",
      "0.916354556804\n",
      "running for 0.5\n",
      "\n",
      "[[347  28]\n",
      " [ 33 593]]\n",
      "0.939060939061\n",
      "running for 0.6\n",
      "\n",
      "[[393  31]\n",
      " [ 34 743]]\n",
      "0.945878434638\n",
      "running for 0.7\n",
      "\n",
      "[[463  44]\n",
      " [ 31 863]]\n",
      "0.946466809422\n",
      "running for 0.8\n",
      "\n",
      "[[564  42]\n",
      " [ 42 953]]\n",
      "0.947532792005\n",
      "running for 0.9\n",
      "\n",
      "[[ 639   38]\n",
      " [  43 1081]]\n",
      "0.955024986119\n",
      "Need 0.9 % data to achieve 0.95\n"
     ]
    },
    {
     "data": {
      "text/plain": [
       "0.90000000000000002"
      ]
     },
     "execution_count": 16,
     "metadata": {},
     "output_type": "execute_result"
    }
   ],
   "source": [
    "model = LogisticRegression(n_jobs=-1, random_state=6)\n",
    "find_part(model, 128, step=0.1)"
   ]
  },
  {
   "cell_type": "markdown",
   "metadata": {},
   "source": [
    "Попробуем запустить логистическую регрессию на 128-битном входе с используемой ранее трансформацией входа, но при этом **не учитывая первые 128 характеристик**, то есть оставив лишь искусственные ксоры:"
   ]
  },
  {
   "cell_type": "code",
   "execution_count": 19,
   "metadata": {},
   "outputs": [
    {
     "name": "stdout",
     "output_type": "stream",
     "text": [
      "found cached data...\n",
      "finished reading input...\n",
      "\n",
      "[[ 75917    863]\n",
      " [   838 122382]]\n",
      "0.991495\n",
      "0.991495\n"
     ]
    }
   ],
   "source": [
    "def map_without_initial(x):\n",
    "    all_xor = reduce(lambda kum, v: kum ^ int(v), x, 0)\n",
    "    res = []\n",
    "    res.append(all_xor)\n",
    "    cur_xor = all_xor\n",
    "    for i in x:\n",
    "        cur_xor ^= int(i)\n",
    "        res.append(cur_xor)\n",
    "    cur_xor = 0\n",
    "    for i in x:\n",
    "        cur_xor ^= int(i)\n",
    "        res.append(cur_xor)\n",
    "    return res\n",
    "\n",
    "model = LogisticRegression(n_jobs=-1, random_state=6)\n",
    "X, y = read_base(128, map_without_initial)\n",
    "print 'finished reading input...'\n",
    "print learn(X, y, model)"
   ]
  },
  {
   "cell_type": "markdown",
   "metadata": {},
   "source": [
    "Как видно, результат по-прежнему хорош"
   ]
  },
  {
   "cell_type": "markdown",
   "metadata": {
    "collapsed": true
   },
   "source": [
    "# Выводы"
   ]
  },
  {
   "cell_type": "markdown",
   "metadata": {},
   "source": [
    "В качестве метрики хорошо показывает себя предложенная метрика **Accuracy** (поскольку классификация бинарная). Кроме того, полезно оценить матрицу ошибок, потому что без изменения входа *LogisticRegression* начиная с некоторого *N* везде предсказывала либо чистый *0*, либо чистый *1* (в этом отчете этого не осталось). Это можно было увидеть по матрице ошибок: одна из колонок была полностью нулевая.\n",
    "\n",
    "Зависимости метрики **Accuracy** от *N* представлены на графиках. Среди реально запущенных классификаторов (*LogisticRegression*, *LinearSVC*, *DecisionTree*) только *DecisionTree* не смогло приблизиться к результатам первых двух и осталось на уровне обычного логистической регрессии на чистом входе. Скорее всего, это обусловлено тем, что деревья решений хорошо работают со значениями характеристик на интервалах, а здесь значение каждой характеристики бинарно. Это ведет к достаточно глубокому дереву, что, вероятнее всего, ведет к переобучению. \n",
    "\n",
    "*KNN* выполнялся слишком долго, так что пришлось его остановить.\n",
    "\n",
    "Как видно из последних запусков $\\approx 0.1\\%$ данных достаточно, чтобы получить 0.95 accuracy."
   ]
  },
  {
   "cell_type": "code",
   "execution_count": null,
   "metadata": {
    "collapsed": true
   },
   "outputs": [],
   "source": []
  }
 ],
 "metadata": {
  "kernelspec": {
   "display_name": "Python 2",
   "language": "python",
   "name": "python2"
  },
  "language_info": {
   "codemirror_mode": {
    "name": "ipython",
    "version": 2
   },
   "file_extension": ".py",
   "mimetype": "text/x-python",
   "name": "python",
   "nbconvert_exporter": "python",
   "pygments_lexer": "ipython2",
   "version": "2.7.13"
  }
 },
 "nbformat": 4,
 "nbformat_minor": 2
}

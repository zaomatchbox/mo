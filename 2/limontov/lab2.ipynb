{
 "cells": [
  {
   "cell_type": "code",
   "execution_count": 1,
   "metadata": {
    "collapsed": true
   },
   "outputs": [],
   "source": [
    "import numpy as np\n",
    "import pandas as pd\n",
    "from sklearn.linear_model import LogisticRegression\n",
    "from sklearn.neighbors import KNeighborsClassifier\n",
    "from sklearn.model_selection import GridSearchCV, KFold, train_test_split\n",
    "from sklearn.svm import LinearSVC\n",
    "from sklearn.tree import DecisionTreeClassifier\n",
    "from sklearn.metrics import confusion_matrix\n",
    "from tqdm import tqdm\n",
    "import time\n",
    "\n",
    "%matplotlib inline\n",
    "import matplotlib.pyplot as plt"
   ]
  },
  {
   "cell_type": "markdown",
   "metadata": {},
   "source": [
    "Считываем вход из файлов и преобразуем в DataFrame. Кроме того, если необходимо выполнить преобразование входа, можно передать соответствующую трансформирующую функцию *map_f*"
   ]
  },
  {
   "cell_type": "code",
   "execution_count": 2,
   "metadata": {
    "collapsed": true
   },
   "outputs": [],
   "source": [
    "INPUT_PATH = './input/'\n",
    "\n",
    "def read_base(N, map_f=None):\n",
    "    LINES = 10**6\n",
    "    path = '{}Base{}.txt'.format(INPUT_PATH, N)\n",
    "    X, y = [], []\n",
    "    with open(path, 'r') as fin:\n",
    "        for _ in tqdm(xrange(LINES)):\n",
    "            for l in fin.readlines():\n",
    "                x = l.split()[0]\n",
    "                if map_f:\n",
    "                    X.append(map_f(x))\n",
    "                else:\n",
    "                    X.append(list(x))\n",
    "                y.append(l.split()[1])\n",
    "    print 'converting to dataframe...'\n",
    "    return pd.DataFrame(X, dtype=int), pd.Series(y, dtype=int)"
   ]
  },
  {
   "cell_type": "markdown",
   "metadata": {},
   "source": [
    "Убедимся, что данные выглядят так, как надо:"
   ]
  },
  {
   "cell_type": "code",
   "execution_count": 3,
   "metadata": {},
   "outputs": [
    {
     "name": "stderr",
     "output_type": "stream",
     "text": [
      "100%|██████████| 1000000/1000000 [00:03<00:00, 320921.69it/s]\n"
     ]
    },
    {
     "name": "stdout",
     "output_type": "stream",
     "text": [
      "converting to dataframe...\n",
      "(1000000, 8) (1000000,)\n",
      "   0  1  2  3  4  5  6  7\n",
      "0  1  0  0  0  1  0  0  1\n",
      "1  0  0  1  0  1  0  1  1\n",
      "2  1  1  1  1  1  0  1  1\n",
      "3  1  0  1  0  1  0  1  1\n",
      "4  1  0  1  1  0  0  0  0\n",
      "0    0\n",
      "1    0\n",
      "2    1\n",
      "3    1\n",
      "4    1\n",
      "dtype: int64\n"
     ]
    }
   ],
   "source": [
    "X, y = read_base(8)\n",
    "print X.shape, y.shape\n",
    "print X[:5]\n",
    "print y[:5]"
   ]
  },
  {
   "cell_type": "markdown",
   "metadata": {},
   "source": [
    "Определим функцию обучения для определенного классификатора. Предпочтение в разделение исходной выборки на train/test был отдан методу *train_test_split*, поскольку  *KFold* не имеет смысла, поскольку, например для *LogisticRegression*:\n",
    "\n",
    "```warm_start : bool, default: False\n",
    "When set to True, reuse the solution of the previous call to fit as initialization, otherwise, just erase the previous solution. Useless for liblinear solver.```"
   ]
  },
  {
   "cell_type": "markdown",
   "metadata": {},
   "source": [
    "Кроме того, будем выводить **confusion_matrix** для каждого результата обучения, а также метрику **accuracy** (*model.score*)"
   ]
  },
  {
   "cell_type": "code",
   "execution_count": 19,
   "metadata": {
    "collapsed": true
   },
   "outputs": [],
   "source": [
    "def learn(X, y, model):\n",
    "    X_train, X_test, y_train, y_test = train_test_split(X, y, test_size=0.2, random_state=42)\n",
    "    model.fit(X_train, y_train)\n",
    "    y_pred = model.predict(X_test)\n",
    "    cm = confusion_matrix(y_test, y_pred)\n",
    "#     kf = KFold(n_splits=5)\n",
    "#     for train_index, test_index in kf.split(X):\n",
    "#         X_train, X_test = X.loc[train_index, :], X.loc[test_index, :]\n",
    "#         y_train, y_test = y[train_index], y[test_index]\n",
    "#         model.fit(X_train, y_train)\n",
    "#         y_pred = model.predict(X_test)\n",
    "#         cm = confusion_matrix(y_test, y_pred)\n",
    "    print\n",
    "    print cm\n",
    "    score = model.score(X_test, y_test)\n",
    "    print score\n",
    "    return score"
   ]
  },
  {
   "cell_type": "markdown",
   "metadata": {},
   "source": [
    "Здесь выполним трансформирующую функцию для входа. Помимо считанных значений из файла, попробуем добавить в качестве характеристик следующие параметры: посчитаем для каждого *i* переключателя характер распространения сигнала на нем, а именно, поменялись ли в итоге каналами сигналы или нет. Другими словами, если количество *1* четно до *i* блока, то сигналы идут по тем же каналам, как и были запущены из истока, иначе нет. Это достигается поэлементным ксором переключателей. Точно так же сделаем и для блоков, начиная с выхода (в обратном направлении)"
   ]
  },
  {
   "cell_type": "code",
   "execution_count": null,
   "metadata": {
    "collapsed": true
   },
   "outputs": [],
   "source": [
    "def try_map(x):\n",
    "    all_xor = reduce(lambda kum, v: kum ^ int(v), x, 0)\n",
    "    res = list(x)\n",
    "    res.append(all_xor)\n",
    "    cur_xor = all_xor\n",
    "    for i in x:\n",
    "        cur_xor ^= int(i)\n",
    "        res.append(cur_xor)\n",
    "    cur_xor = 0\n",
    "    for i in x:\n",
    "        cur_xor ^= int(i)\n",
    "        res.append(cur_xor)\n",
    "    return res"
   ]
  },
  {
   "cell_type": "markdown",
   "metadata": {},
   "source": [
    "Проверим работоспособность с логистической регрессией на небольшом входе:"
   ]
  },
  {
   "cell_type": "code",
   "execution_count": 56,
   "metadata": {},
   "outputs": [
    {
     "name": "stderr",
     "output_type": "stream",
     "text": [
      "\n",
      "  0%|          | 0/1000000 [00:00<?, ?it/s]\u001b[A\n",
      "Exception in thread Thread-5:\n",
      "Traceback (most recent call last):\n",
      "  File \"/Users/chiselko6/anaconda/lib/python2.7/threading.py\", line 801, in __bootstrap_inner\n",
      "    self.run()\n",
      "  File \"/Users/chiselko6/anaconda/lib/python2.7/site-packages/tqdm/_monitor.py\", line 63, in run\n",
      "    for instance in self.tqdm_cls._instances:\n",
      "  File \"/Users/chiselko6/anaconda/lib/python2.7/_weakrefset.py\", line 60, in __iter__\n",
      "    for itemref in self.data:\n",
      "RuntimeError: Set changed size during iteration\n",
      "\n",
      "\n",
      "  0%|          | 1/1000000 [00:18<5036:12:27, 18.13s/it]\u001b[A\n",
      " 11%|█         | 108422/1000000 [00:18<02:29, 5947.30it/s]\u001b[A\n",
      " 23%|██▎       | 233131/1000000 [00:18<01:00, 12718.43it/s]\u001b[A\n",
      " 37%|███▋      | 372548/1000000 [00:18<00:31, 20214.10it/s]\u001b[A\n",
      " 52%|█████▏    | 523022/1000000 [00:18<00:16, 28225.40it/s]\u001b[A\n",
      " 67%|██████▋   | 670838/1000000 [00:18<00:09, 36007.86it/s]\u001b[A\n",
      " 80%|████████  | 803617/1000000 [00:18<00:04, 42899.29it/s]\u001b[A\n",
      " 93%|█████████▎| 933122/1000000 [00:18<00:01, 49554.38it/s]\u001b[A\n",
      "100%|██████████| 1000000/1000000 [00:18<00:00, 52968.41it/s]\u001b[A"
     ]
    },
    {
     "name": "stdout",
     "output_type": "stream",
     "text": [
      "converting to dataframe\n",
      "finished reading input...\n",
      "[[ 81198      0]\n",
      " [     0 118802]]\n",
      "1.0\n",
      "[[ 81179      0]\n",
      " [     0 118821]]\n",
      "1.0\n",
      "[[ 81714      0]\n",
      " [     0 118286]]\n",
      "1.0\n",
      "[[ 81094      0]\n",
      " [     0 118906]]\n",
      "1.0\n",
      "[[ 81224      0]\n",
      " [     0 118776]]\n",
      "1.0\n"
     ]
    }
   ],
   "source": [
    "model = LogisticRegression(n_jobs=-1, random_state=6)\n",
    "X, y = read_base(8, try_map)\n",
    "print 'finished reading input...'\n",
    "learn(X, y, model)"
   ]
  },
  {
   "cell_type": "markdown",
   "metadata": {},
   "source": [
    "Определим функцию для сравнения результатов обучения без применения т.н. \"feature engineering\" и вместе с ним:"
   ]
  },
  {
   "cell_type": "code",
   "execution_count": 10,
   "metadata": {
    "collapsed": true
   },
   "outputs": [],
   "source": [
    "def try_both(N, model):\n",
    "    X, y = read_base(N)\n",
    "    learn(X, y, model)\n",
    "    \n",
    "    X, y = read_base(N, try_map)\n",
    "    learn(X, y, model)"
   ]
  },
  {
   "cell_type": "markdown",
   "metadata": {},
   "source": [
    "Выполним обучение для всех возможных *BaseN* с выбранной моделью, параллельно насчитывая время, затраченное на чтение/обучение:"
   ]
  },
  {
   "cell_type": "code",
   "execution_count": null,
   "metadata": {
    "collapsed": true
   },
   "outputs": [],
   "source": [
    "def check_all_N(model, N_from=8, N_to=130):\n",
    "    scores = []\n",
    "    Ns = range(N_from, N_to, 8)\n",
    "    \n",
    "    def run(N):\n",
    "        print 'running with map for N={}'.format(N)\n",
    "        X, y = read_base(N, try_map)\n",
    "        return learn(X, y, model)\n",
    "    \n",
    "    for N in Ns:\n",
    "        st = time.clock()\n",
    "        scores.append(run(N))\n",
    "        print time.clock() - st\n",
    "\n",
    "    plt.figure(figsize=(16, 7))\n",
    "    plt.plot(Ns, scores)\n",
    "    plt.title('Score')\n",
    "    plt.xlabel('N')\n",
    "    plt.ylabel('Score')\n",
    "    plt.show()"
   ]
  },
  {
   "cell_type": "markdown",
   "metadata": {},
   "source": [
    "Запустим логистическую регрессию:"
   ]
  },
  {
   "cell_type": "code",
   "execution_count": 95,
   "metadata": {},
   "outputs": [
    {
     "name": "stderr",
     "output_type": "stream",
     "text": [
      "\r",
      "  0%|          | 0/1000000 [00:00<?, ?it/s]"
     ]
    },
    {
     "name": "stdout",
     "output_type": "stream",
     "text": [
      "running with map for N=8\n"
     ]
    },
    {
     "name": "stderr",
     "output_type": "stream",
     "text": [
      "100%|██████████| 1000000/1000000 [00:17<00:00, 58058.59it/s]\n"
     ]
    },
    {
     "name": "stdout",
     "output_type": "stream",
     "text": [
      "converting to dataframe...\n"
     ]
    },
    {
     "name": "stderr",
     "output_type": "stream",
     "text": [
      "\r",
      "  0%|          | 0/1000000 [00:00<?, ?it/s]"
     ]
    },
    {
     "name": "stdout",
     "output_type": "stream",
     "text": [
      "\n",
      "[[ 81460      0]\n",
      " [     0 118540]]\n",
      "1.0\n",
      "1 loop, best of 1: 29.7 s per loop\n",
      "running with map for N=16\n"
     ]
    },
    {
     "name": "stderr",
     "output_type": "stream",
     "text": [
      "100%|██████████| 1000000/1000000 [00:31<00:00, 31668.72it/s]\n"
     ]
    },
    {
     "name": "stdout",
     "output_type": "stream",
     "text": [
      "converting to dataframe...\n"
     ]
    },
    {
     "name": "stderr",
     "output_type": "stream",
     "text": [
      "\r",
      "  0%|          | 0/1000000 [00:00<?, ?it/s]"
     ]
    },
    {
     "name": "stdout",
     "output_type": "stream",
     "text": [
      "\n",
      "[[ 96281    198]\n",
      " [   433 103088]]\n",
      "0.996845\n",
      "1 loop, best of 1: 1min 4s per loop\n",
      "running with map for N=24\n"
     ]
    },
    {
     "name": "stderr",
     "output_type": "stream",
     "text": [
      "100%|██████████| 1000000/1000000 [00:46<00:00, 21499.08it/s]\n"
     ]
    },
    {
     "name": "stdout",
     "output_type": "stream",
     "text": [
      "converting to dataframe..."
     ]
    },
    {
     "name": "stderr",
     "output_type": "stream",
     "text": [
      "\r",
      "  0%|          | 0/1000000 [00:00<?, ?it/s]"
     ]
    },
    {
     "name": "stdout",
     "output_type": "stream",
     "text": [
      "\n",
      "\n",
      "[[99541   449]\n",
      " [  536 99474]]\n",
      "0.995075\n",
      "1 loop, best of 1: 1min 28s per loop\n",
      "running with map for N=32\n"
     ]
    },
    {
     "name": "stderr",
     "output_type": "stream",
     "text": [
      "100%|██████████| 1000000/1000000 [00:56<00:00, 17586.58it/s]\n"
     ]
    },
    {
     "name": "stdout",
     "output_type": "stream",
     "text": [
      "converting to dataframe...\n"
     ]
    },
    {
     "name": "stderr",
     "output_type": "stream",
     "text": [
      "\r",
      "  0%|          | 0/1000000 [00:00<?, ?it/s]"
     ]
    },
    {
     "name": "stdout",
     "output_type": "stream",
     "text": [
      "\n",
      "[[ 89447    591]\n",
      " [   521 109441]]\n",
      "0.99444\n",
      "1 loop, best of 1: 1min 47s per loop\n",
      "running with map for N=40\n"
     ]
    },
    {
     "name": "stderr",
     "output_type": "stream",
     "text": [
      "100%|██████████| 1000000/1000000 [01:09<00:00, 14290.99it/s]\n"
     ]
    },
    {
     "name": "stdout",
     "output_type": "stream",
     "text": [
      "converting to dataframe...\n",
      "\n",
      "[[ 91149    574]\n",
      " [   581 107696]]\n",
      "0.994225"
     ]
    },
    {
     "name": "stderr",
     "output_type": "stream",
     "text": [
      "\r",
      "  0%|          | 0/1000000 [00:00<?, ?it/s]"
     ]
    },
    {
     "name": "stdout",
     "output_type": "stream",
     "text": [
      "\n",
      "1 loop, best of 1: 2min 15s per loop\n",
      "running with map for N=48\n"
     ]
    },
    {
     "name": "stderr",
     "output_type": "stream",
     "text": [
      "100%|██████████| 1000000/1000000 [01:22<00:00, 12055.09it/s]\n"
     ]
    },
    {
     "name": "stdout",
     "output_type": "stream",
     "text": [
      "converting to dataframe...\n",
      "\n",
      "[[103040    573]\n",
      " [   601  95786]]\n",
      "0.99413"
     ]
    },
    {
     "name": "stderr",
     "output_type": "stream",
     "text": [
      "\r",
      "  0%|          | 0/1000000 [00:00<?, ?it/s]"
     ]
    },
    {
     "name": "stdout",
     "output_type": "stream",
     "text": [
      "\n",
      "1 loop, best of 1: 2min 43s per loop\n",
      "running with map for N=56\n"
     ]
    },
    {
     "name": "stderr",
     "output_type": "stream",
     "text": [
      "100%|██████████| 1000000/1000000 [01:36<00:00, 10366.36it/s]\n"
     ]
    },
    {
     "name": "stdout",
     "output_type": "stream",
     "text": [
      "converting to dataframe...\n",
      "\n",
      "[[ 88050    609]\n",
      " [   636 110705]]\n"
     ]
    },
    {
     "name": "stderr",
     "output_type": "stream",
     "text": [
      "\r",
      "  0%|          | 0/1000000 [00:00<?, ?it/s]"
     ]
    },
    {
     "name": "stdout",
     "output_type": "stream",
     "text": [
      "0.993775\n",
      "1 loop, best of 1: 3min 12s per loop\n",
      "running with map for N=64\n"
     ]
    },
    {
     "name": "stderr",
     "output_type": "stream",
     "text": [
      "100%|██████████| 1000000/1000000 [01:49<00:00, 9101.42it/s]\n"
     ]
    },
    {
     "name": "stdout",
     "output_type": "stream",
     "text": [
      "converting to dataframe...\n",
      "\n",
      "[[ 96694    637]\n",
      " [   609 102060]]\n"
     ]
    },
    {
     "name": "stderr",
     "output_type": "stream",
     "text": [
      "\r",
      "  0%|          | 0/1000000 [00:00<?, ?it/s]"
     ]
    },
    {
     "name": "stdout",
     "output_type": "stream",
     "text": [
      "0.99377\n",
      "1 loop, best of 1: 3min 44s per loop\n",
      "running with map for N=72\n"
     ]
    },
    {
     "name": "stderr",
     "output_type": "stream",
     "text": [
      "100%|██████████| 1000000/1000000 [02:02<00:00, 8171.62it/s]\n"
     ]
    },
    {
     "name": "stdout",
     "output_type": "stream",
     "text": [
      "converting to dataframe...\n",
      "\n",
      "[[ 92839    623]\n",
      " [   682 105856]]\n"
     ]
    },
    {
     "name": "stderr",
     "output_type": "stream",
     "text": [
      "\r",
      "  0%|          | 0/1000000 [00:00<?, ?it/s]"
     ]
    },
    {
     "name": "stdout",
     "output_type": "stream",
     "text": [
      "0.993475\n",
      "1 loop, best of 1: 4min 14s per loop\n",
      "running with map for N=80\n"
     ]
    },
    {
     "name": "stderr",
     "output_type": "stream",
     "text": [
      "100%|██████████| 1000000/1000000 [02:15<00:00, 7364.94it/s]\n"
     ]
    },
    {
     "name": "stdout",
     "output_type": "stream",
     "text": [
      "converting to dataframe...\n",
      "\n",
      "[[98861   698]\n",
      " [  628 99813]]\n"
     ]
    },
    {
     "name": "stderr",
     "output_type": "stream",
     "text": [
      "\r",
      "  0%|          | 0/1000000 [00:00<?, ?it/s]"
     ]
    },
    {
     "name": "stdout",
     "output_type": "stream",
     "text": [
      "0.99337\n",
      "1 loop, best of 1: 4min 46s per loop\n",
      "running with map for N=88\n"
     ]
    },
    {
     "name": "stderr",
     "output_type": "stream",
     "text": [
      "100%|██████████| 1000000/1000000 [02:28<00:00, 6724.06it/s]\n"
     ]
    },
    {
     "name": "stdout",
     "output_type": "stream",
     "text": [
      "converting to dataframe...\n",
      "\n",
      "[[ 91666    695]\n",
      " [   707 106932]]\n"
     ]
    },
    {
     "name": "stderr",
     "output_type": "stream",
     "text": [
      "\r",
      "  0%|          | 0/1000000 [00:00<?, ?it/s]"
     ]
    },
    {
     "name": "stdout",
     "output_type": "stream",
     "text": [
      "0.99299\n",
      "1 loop, best of 1: 5min 22s per loop\n",
      "running with map for N=96\n"
     ]
    },
    {
     "name": "stderr",
     "output_type": "stream",
     "text": [
      "100%|██████████| 1000000/1000000 [02:56<00:00, 5666.47it/s]\n"
     ]
    },
    {
     "name": "stdout",
     "output_type": "stream",
     "text": [
      "converting to dataframe...\n",
      "\n",
      "[[99637   744]\n",
      " [  843 98776]]\n"
     ]
    },
    {
     "name": "stderr",
     "output_type": "stream",
     "text": [
      "\r",
      "  0%|          | 0/1000000 [00:00<?, ?it/s]"
     ]
    },
    {
     "name": "stdout",
     "output_type": "stream",
     "text": [
      "0.992065\n",
      "1 loop, best of 1: 6min 44s per loop\n",
      "running with map for N=104\n"
     ]
    },
    {
     "name": "stderr",
     "output_type": "stream",
     "text": [
      "100%|██████████| 1000000/1000000 [03:28<00:00, 4801.99it/s]\n"
     ]
    },
    {
     "name": "stdout",
     "output_type": "stream",
     "text": [
      "converting to dataframe...\n",
      "\n",
      "[[ 85768    812]\n",
      " [   799 112621]]\n"
     ]
    },
    {
     "name": "stderr",
     "output_type": "stream",
     "text": [
      "\r",
      "  0%|          | 0/1000000 [00:00<?, ?it/s]"
     ]
    },
    {
     "name": "stdout",
     "output_type": "stream",
     "text": [
      "0.991945\n",
      "1 loop, best of 1: 7min 39s per loop\n",
      "running with map for N=112\n"
     ]
    },
    {
     "name": "stderr",
     "output_type": "stream",
     "text": [
      "100%|██████████| 1000000/1000000 [03:33<00:00, 4680.33it/s]\n"
     ]
    },
    {
     "name": "stdout",
     "output_type": "stream",
     "text": [
      "converting to dataframe...\n",
      "\n",
      "[[ 93418    806]\n",
      " [   853 104923]]\n"
     ]
    },
    {
     "name": "stderr",
     "output_type": "stream",
     "text": [
      "\r",
      "  0%|          | 0/1000000 [00:00<?, ?it/s]"
     ]
    },
    {
     "name": "stdout",
     "output_type": "stream",
     "text": [
      "0.991705\n",
      "1 loop, best of 1: 8min 8s per loop\n",
      "running with map for N=120\n"
     ]
    },
    {
     "name": "stderr",
     "output_type": "stream",
     "text": [
      "100%|██████████| 1000000/1000000 [04:03<00:00, 4105.95it/s]\n"
     ]
    },
    {
     "name": "stdout",
     "output_type": "stream",
     "text": [
      "converting to dataframe...\n",
      "\n",
      "[[ 92996    781]\n",
      " [   871 105352]]\n"
     ]
    },
    {
     "name": "stderr",
     "output_type": "stream",
     "text": [
      "\r",
      "  0%|          | 0/1000000 [00:00<?, ?it/s]"
     ]
    },
    {
     "name": "stdout",
     "output_type": "stream",
     "text": [
      "0.99174\n",
      "1 loop, best of 1: 8min 58s per loop\n",
      "running with map for N=128\n"
     ]
    },
    {
     "name": "stderr",
     "output_type": "stream",
     "text": [
      "100%|██████████| 1000000/1000000 [03:59<00:00, 4176.73it/s]\n"
     ]
    },
    {
     "name": "stdout",
     "output_type": "stream",
     "text": [
      "converting to dataframe...\n",
      "\n",
      "[[ 75917    863]\n",
      " [   838 122382]]\n",
      "0.991495\n",
      "1 loop, best of 1: 8min 48s per loop\n"
     ]
    },
    {
     "data": {
      "image/png": "[encoded data removed]",
      "text/plain": [
       "<matplotlib.figure.Figure at 0x11d78a290>"
      ]
     },
     "metadata": {},
     "output_type": "display_data"
    }
   ],
   "source": [
    "model = LogisticRegression(n_jobs=-1, random_state=6)\n",
    "check_all_N(model)"
   ]
  },
  {
   "cell_type": "code",
   "execution_count": null,
   "metadata": {
    "collapsed": true
   },
   "outputs": [],
   "source": []
  },
  {
   "cell_type": "code",
   "execution_count": null,
   "metadata": {},
   "outputs": [],
   "source": []
  },
  {
   "cell_type": "code",
   "execution_count": null,
   "metadata": {
    "collapsed": true
   },
   "outputs": [],
   "source": []
  },
  {
   "cell_type": "markdown",
   "metadata": {
    "collapsed": true
   },
   "source": [
    "Запустим KNN:"
   ]
  },
  {
   "cell_type": "code",
   "execution_count": null,
   "metadata": {},
   "outputs": [
    {
     "name": "stderr",
     "output_type": "stream",
     "text": [
      "100%|██████████| 1000000/1000000 [00:34<00:00, 28986.71it/s]\n"
     ]
    },
    {
     "name": "stdout",
     "output_type": "stream",
     "text": [
      "converting to dataframe...\n"
     ]
    }
   ],
   "source": [
    "model = KNeighborsClassifier(n_jobs=-1, n_neighbors=5)\n",
    "X, y = read_base(16, try_map)\n",
    "learn(X, y, model)"
   ]
  },
  {
   "cell_type": "markdown",
   "metadata": {},
   "source": [
    "Попробуем сходимость SVM классификатора на небольшом входе:"
   ]
  },
  {
   "cell_type": "code",
   "execution_count": 11,
   "metadata": {},
   "outputs": [
    {
     "name": "stderr",
     "output_type": "stream",
     "text": [
      "100%|██████████| 1000000/1000000 [00:03<00:00, 262888.91it/s]\n"
     ]
    },
    {
     "name": "stdout",
     "output_type": "stream",
     "text": [
      "converting to dataframe...\n",
      "[LibLinear]"
     ]
    },
    {
     "name": "stderr",
     "output_type": "stream",
     "text": [
      "\r",
      "  0%|          | 0/1000000 [00:00<?, ?it/s]"
     ]
    },
    {
     "name": "stdout",
     "output_type": "stream",
     "text": [
      "\n",
      "[[59675 36804]\n",
      " [40623 62898]]\n",
      "0.612865\n"
     ]
    },
    {
     "name": "stderr",
     "output_type": "stream",
     "text": [
      "100%|██████████| 1000000/1000000 [00:32<00:00, 30872.50it/s]\n"
     ]
    },
    {
     "name": "stdout",
     "output_type": "stream",
     "text": [
      "converting to dataframe...\n",
      "[LibLinear]\n",
      "[[ 96247    232]\n",
      " [   367 103154]]\n",
      "0.997005\n"
     ]
    }
   ],
   "source": [
    "model = LinearSVC(max_iter=10000, random_state=6, verbose=5)\n",
    "try_both(16, model)"
   ]
  },
  {
   "cell_type": "markdown",
   "metadata": {},
   "source": [
    "И запустим его для больших *BaseN* ($N >= 96$), чтобы сэкономить время:"
   ]
  },
  {
   "cell_type": "code",
   "execution_count": 48,
   "metadata": {},
   "outputs": [
    {
     "name": "stderr",
     "output_type": "stream",
     "text": [
      "\r",
      "  0%|          | 0/1000000 [00:00<?, ?it/s]"
     ]
    },
    {
     "name": "stdout",
     "output_type": "stream",
     "text": [
      "running with map for N=96\n"
     ]
    },
    {
     "name": "stderr",
     "output_type": "stream",
     "text": [
      "100%|██████████| 1000000/1000000 [03:15<00:00, 5113.80it/s]\n"
     ]
    },
    {
     "name": "stdout",
     "output_type": "stream",
     "text": [
      "converting to dataframe...\n",
      "[LibLinear]\n",
      "[[99634   747]\n",
      " [  830 98789]]\n"
     ]
    },
    {
     "name": "stderr",
     "output_type": "stream",
     "text": [
      "\r",
      "  0%|          | 0/1000000 [00:00<?, ?it/s]"
     ]
    },
    {
     "name": "stdout",
     "output_type": "stream",
     "text": [
      "0.992115\n",
      "468.736058\n",
      "running with map for N=104\n"
     ]
    },
    {
     "name": "stderr",
     "output_type": "stream",
     "text": [
      "100%|██████████| 1000000/1000000 [03:22<00:00, 4945.25it/s]\n"
     ]
    },
    {
     "name": "stdout",
     "output_type": "stream",
     "text": [
      "converting to dataframe...\n",
      "[LibLinear]\n",
      "[[ 85786    794]\n",
      " [   786 112634]]\n"
     ]
    },
    {
     "name": "stderr",
     "output_type": "stream",
     "text": [
      "\r",
      "  0%|          | 0/1000000 [00:00<?, ?it/s]"
     ]
    },
    {
     "name": "stdout",
     "output_type": "stream",
     "text": [
      "0.9921\n",
      "507.055241\n",
      "running with map for N=112\n"
     ]
    },
    {
     "name": "stderr",
     "output_type": "stream",
     "text": [
      "100%|██████████| 1000000/1000000 [03:39<00:00, 4563.24it/s]\n"
     ]
    },
    {
     "name": "stdout",
     "output_type": "stream",
     "text": [
      "converting to dataframe...\n",
      "[LibLinear]\n",
      "[[ 93427    797]\n",
      " [   822 104954]]\n"
     ]
    },
    {
     "name": "stderr",
     "output_type": "stream",
     "text": [
      "\r",
      "  0%|          | 0/1000000 [00:00<?, ?it/s]"
     ]
    },
    {
     "name": "stdout",
     "output_type": "stream",
     "text": [
      "0.991905\n",
      "557.011317\n",
      "running with map for N=120\n"
     ]
    },
    {
     "name": "stderr",
     "output_type": "stream",
     "text": [
      "100%|██████████| 1000000/1000000 [03:56<00:00, 4221.57it/s]\n"
     ]
    },
    {
     "name": "stdout",
     "output_type": "stream",
     "text": [
      "converting to dataframe...\n",
      "[LibLinear]\n",
      "[[ 93016    761]\n",
      " [   848 105375]]\n"
     ]
    },
    {
     "name": "stderr",
     "output_type": "stream",
     "text": [
      "\r",
      "  0%|          | 0/1000000 [00:00<?, ?it/s]"
     ]
    },
    {
     "name": "stdout",
     "output_type": "stream",
     "text": [
      "0.991955\n",
      "605.64796\n",
      "running with map for N=128\n"
     ]
    },
    {
     "name": "stderr",
     "output_type": "stream",
     "text": [
      "100%|██████████| 1000000/1000000 [04:25<00:00, 3769.43it/s]\n"
     ]
    },
    {
     "name": "stdout",
     "output_type": "stream",
     "text": [
      "converting to dataframe...\n",
      "[LibLinear]\n",
      "[[ 75946    834]\n",
      " [   818 122402]]\n",
      "0.99174\n",
      "672.067948\n"
     ]
    },
    {
     "data": {
      "image/png": "[encoded data removed]",
      "text/plain": [
       "<matplotlib.figure.Figure at 0x11602a050>"
      ]
     },
     "metadata": {},
     "output_type": "display_data"
    }
   ],
   "source": [
    "model = LinearSVC(max_iter=10000, random_state=6, verbose=5)\n",
    "check_all_N(model, N_from=96)"
   ]
  },
  {
   "cell_type": "markdown",
   "metadata": {},
   "source": [
    "Попробуем использовать деревья решений:"
   ]
  },
  {
   "cell_type": "code",
   "execution_count": 50,
   "metadata": {},
   "outputs": [
    {
     "name": "stderr",
     "output_type": "stream",
     "text": [
      "\r",
      "  0%|          | 0/1000000 [00:00<?, ?it/s]"
     ]
    },
    {
     "name": "stdout",
     "output_type": "stream",
     "text": [
      "running with map for N=96\n"
     ]
    },
    {
     "name": "stderr",
     "output_type": "stream",
     "text": [
      "100%|██████████| 1000000/1000000 [03:16<00:00, 5087.21it/s]\n"
     ]
    },
    {
     "name": "stdout",
     "output_type": "stream",
     "text": [
      "converting to dataframe...\n",
      "\n",
      "[[64855 35526]\n",
      " [40876 58743]]\n"
     ]
    },
    {
     "name": "stderr",
     "output_type": "stream",
     "text": [
      "\r",
      "  0%|          | 0/1000000 [00:00<?, ?it/s]"
     ]
    },
    {
     "name": "stdout",
     "output_type": "stream",
     "text": [
      "0.61799\n",
      "432.310273\n",
      "running with map for N=104\n"
     ]
    },
    {
     "name": "stderr",
     "output_type": "stream",
     "text": [
      "100%|██████████| 1000000/1000000 [03:24<00:00, 4896.04it/s]\n"
     ]
    },
    {
     "name": "stdout",
     "output_type": "stream",
     "text": [
      "converting to dataframe...\n",
      "\n",
      "[[51334 35246]\n",
      " [41395 72025]]\n"
     ]
    },
    {
     "name": "stderr",
     "output_type": "stream",
     "text": [
      "\r",
      "  0%|          | 0/1000000 [00:00<?, ?it/s]"
     ]
    },
    {
     "name": "stdout",
     "output_type": "stream",
     "text": [
      "0.616795\n",
      "463.352975\n",
      "running with map for N=112\n"
     ]
    },
    {
     "name": "stderr",
     "output_type": "stream",
     "text": [
      "100%|██████████| 1000000/1000000 [03:34<00:00, 4671.24it/s]\n"
     ]
    },
    {
     "name": "stdout",
     "output_type": "stream",
     "text": [
      "converting to dataframe...\n",
      "\n",
      "[[57794 36430]\n",
      " [42708 63068]]\n"
     ]
    },
    {
     "name": "stderr",
     "output_type": "stream",
     "text": [
      "\r",
      "  0%|          | 0/1000000 [00:00<?, ?it/s]"
     ]
    },
    {
     "name": "stdout",
     "output_type": "stream",
     "text": [
      "0.60431\n",
      "490.879261\n",
      "running with map for N=120\n"
     ]
    },
    {
     "name": "stderr",
     "output_type": "stream",
     "text": [
      "100%|██████████| 1000000/1000000 [03:46<00:00, 4406.22it/s]\n"
     ]
    },
    {
     "name": "stdout",
     "output_type": "stream",
     "text": [
      "converting to dataframe...\n",
      "\n",
      "[[57286 36491]\n",
      " [42901 63322]]\n"
     ]
    },
    {
     "name": "stderr",
     "output_type": "stream",
     "text": [
      "\r",
      "  0%|          | 0/1000000 [00:00<?, ?it/s]"
     ]
    },
    {
     "name": "stdout",
     "output_type": "stream",
     "text": [
      "0.60304\n",
      "527.616068\n",
      "running with map for N=128\n"
     ]
    },
    {
     "name": "stderr",
     "output_type": "stream",
     "text": [
      "100%|██████████| 1000000/1000000 [04:24<00:00, 3782.97it/s]\n"
     ]
    },
    {
     "name": "stdout",
     "output_type": "stream",
     "text": [
      "converting to dataframe...\n",
      "\n",
      "[[41392 35388]\n",
      " [42541 80679]]\n",
      "0.610355\n",
      "577.908446\n"
     ]
    },
    {
     "data": {
      "image/png": "[encoded data removed]",
      "text/plain": [
       "<matplotlib.figure.Figure at 0x1157ec3d0>"
      ]
     },
     "metadata": {},
     "output_type": "display_data"
    }
   ],
   "source": [
    "model = DecisionTreeClassifier(min_samples_leaf=4)\n",
    "check_all_N(model, N_from=96)"
   ]
  },
  {
   "cell_type": "code",
   "execution_count": null,
   "metadata": {
    "collapsed": true
   },
   "outputs": [],
   "source": []
  }
 ],
 "metadata": {
  "kernelspec": {
   "display_name": "Python 2",
   "language": "python",
   "name": "python2"
  },
  "language_info": {
   "codemirror_mode": {
    "name": "ipython",
    "version": 2
   },
   "file_extension": ".py",
   "mimetype": "text/x-python",
   "name": "python",
   "nbconvert_exporter": "python",
   "pygments_lexer": "ipython2",
   "version": "2.7.13"
  }
 },
 "nbformat": 4,
 "nbformat_minor": 2
}
